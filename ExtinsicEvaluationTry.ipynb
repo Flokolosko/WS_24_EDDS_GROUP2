{
  "cells": [
    {
      "cell_type": "markdown",
      "id": "35dc65b72dbf70a2",
      "metadata": {
        "id": "35dc65b72dbf70a2"
      },
      "source": [
        "# 1. Data loading\n",
        "Firstly, we will load the *OHSUMED* data from different files and merge them into one combined dataframe, containing all years from 1987 - 1991. Afterwards, we will load the file where the relevance labels of documents during all five years will be labeled. In the end, we will left join the relevance labels to our main dataframe."
      ]
    },
    {
      "cell_type": "code",
      "execution_count": 1,
      "id": "4e74b25fa83a4bba",
      "metadata": {
        "id": "4e74b25fa83a4bba"
      },
      "outputs": [
        {
          "name": "stderr",
          "output_type": "stream",
          "text": [
            "<>:50: SyntaxWarning: invalid escape sequence '\\o'\n",
            "<>:51: SyntaxWarning: invalid escape sequence '\\o'\n",
            "<>:52: SyntaxWarning: invalid escape sequence '\\o'\n",
            "<>:53: SyntaxWarning: invalid escape sequence '\\o'\n",
            "<>:54: SyntaxWarning: invalid escape sequence '\\o'\n",
            "<>:50: SyntaxWarning: invalid escape sequence '\\o'\n",
            "<>:51: SyntaxWarning: invalid escape sequence '\\o'\n",
            "<>:52: SyntaxWarning: invalid escape sequence '\\o'\n",
            "<>:53: SyntaxWarning: invalid escape sequence '\\o'\n",
            "<>:54: SyntaxWarning: invalid escape sequence '\\o'\n",
            "C:\\Users\\timgr\\AppData\\Local\\Temp\\ipykernel_18020\\2933897381.py:50: SyntaxWarning: invalid escape sequence '\\o'\n",
            "  file_87_path = \"data\\ohsumed.87.txt\"\n",
            "C:\\Users\\timgr\\AppData\\Local\\Temp\\ipykernel_18020\\2933897381.py:51: SyntaxWarning: invalid escape sequence '\\o'\n",
            "  file_88_path = \"data\\ohsumed.88.txt\"\n",
            "C:\\Users\\timgr\\AppData\\Local\\Temp\\ipykernel_18020\\2933897381.py:52: SyntaxWarning: invalid escape sequence '\\o'\n",
            "  file_89_path = \"data\\ohsumed.89.txt\"\n",
            "C:\\Users\\timgr\\AppData\\Local\\Temp\\ipykernel_18020\\2933897381.py:53: SyntaxWarning: invalid escape sequence '\\o'\n",
            "  file_90_path = \"data\\ohsumed.90.txt\"\n",
            "C:\\Users\\timgr\\AppData\\Local\\Temp\\ipykernel_18020\\2933897381.py:54: SyntaxWarning: invalid escape sequence '\\o'\n",
            "  file_91_path = \"data\\ohsumed.91.txt\"\n"
          ]
        }
      ],
      "source": [
        "import pandas as pd\n",
        "import numpy as np\n",
        "from sklearn.model_selection import train_test_split\n",
        "from sklearn.metrics import precision_score, recall_score, f1_score, accuracy_score\n",
        "\n",
        "def parse_ohsumed_file(file_path):\n",
        "    \"\"\"Parses an OHSUMED file into a DataFrame with proper column names.\"\"\"\n",
        "    documents = []\n",
        "    document = {}\n",
        "\n",
        "    # Read the file line by line\n",
        "    with open(file_path, 'r', encoding='utf-8') as f:\n",
        "        for line in f:\n",
        "            line = line.strip()  # Remove extra whitespace\n",
        "\n",
        "            if line.startswith(\".I\"):  # New document identifier\n",
        "                if document:  # If there's an existing document, save it\n",
        "                    documents.append(document)\n",
        "                document = {\"sequential identifier\": line[3:]}  # Initialize a new document\n",
        "\n",
        "            elif line.startswith(\".U\"):  # MEDLINE identifier\n",
        "                document[\"MEDLINE identifier\"] = next(f).strip()\n",
        "\n",
        "            elif line.startswith(\".S\"):  # Source\n",
        "                document[\"source\"] = next(f).strip()\n",
        "\n",
        "            elif line.startswith(\".M\"):  # MeSH terms\n",
        "                document[\"mesh_terms\"] = next(f).strip()\n",
        "\n",
        "            elif line.startswith(\".T\"):  # Title\n",
        "                document[\"title\"] = next(f).strip()\n",
        "\n",
        "            elif line.startswith(\".P\"):  # Publication type\n",
        "                document[\"publication type\"] = next(f).strip()\n",
        "\n",
        "            elif line.startswith(\".W\"):  # Abstract\n",
        "                document[\"abstract\"] = next(f).strip()\n",
        "\n",
        "            elif line.startswith(\".A\"):  # Author\n",
        "                document[\"author\"] = next(f).strip()\n",
        "\n",
        "    # Add the last document if it exists\n",
        "    if document:\n",
        "        documents.append(document)\n",
        "\n",
        "    # Convert the list of documents into a DataFrame\n",
        "    return pd.DataFrame(documents)\n",
        "\n",
        "# File paths for individual files\n",
        "file_87_path = \"data\\ohsumed.87.txt\"\n",
        "file_88_path = \"data\\ohsumed.88.txt\"\n",
        "file_89_path = \"data\\ohsumed.89.txt\"\n",
        "file_90_path = \"data\\ohsumed.90.txt\"\n",
        "file_91_path = \"data\\ohsumed.91.txt\"\n",
        "\n",
        "# Parse each file into its own DataFrame\n",
        "df_ohsumed_87 = parse_ohsumed_file(file_87_path)\n",
        "df_ohsumed_88 = parse_ohsumed_file(file_88_path)\n",
        "df_ohsumed_89 = parse_ohsumed_file(file_89_path)\n",
        "df_ohsumed_90 = parse_ohsumed_file(file_90_path)\n",
        "df_ohsumed_91 = parse_ohsumed_file(file_91_path)"
      ]
    },
    {
      "cell_type": "code",
      "execution_count": 2,
      "id": "1f82e80aca558d1d",
      "metadata": {
        "colab": {
          "base_uri": "https://localhost:8080/"
        },
        "id": "1f82e80aca558d1d",
        "outputId": "98c8a9a2-07d6-489d-8581-0b0984e52760"
      },
      "outputs": [
        {
          "name": "stdout",
          "output_type": "stream",
          "text": [
            "Number of rows in ohsumed.87: 54710\n",
            "Number of rows in ohsumed.88: 70825\n",
            "Number of rows in ohsumed.89: 74869\n",
            "Number of rows in ohsumed.90: 73824\n",
            "Number of rows in ohsumed.91: 74338\n"
          ]
        }
      ],
      "source": [
        "# Checking row amount of all years files\n",
        "print(f\"Number of rows in ohsumed.87: {len(df_ohsumed_87)}\")\n",
        "print(f\"Number of rows in ohsumed.88: {len(df_ohsumed_88)}\")\n",
        "print(f\"Number of rows in ohsumed.89: {len(df_ohsumed_89)}\")\n",
        "print(f\"Number of rows in ohsumed.90: {len(df_ohsumed_90)}\")\n",
        "print(f\"Number of rows in ohsumed.91: {len(df_ohsumed_91)}\")"
      ]
    },
    {
      "cell_type": "code",
      "execution_count": 3,
      "id": "e40060215a7b92d8",
      "metadata": {
        "colab": {
          "base_uri": "https://localhost:8080/"
        },
        "id": "e40060215a7b92d8",
        "outputId": "5620b4f0-a728-4e13-8754-89a57dcfd76a"
      },
      "outputs": [
        {
          "name": "stdout",
          "output_type": "stream",
          "text": [
            "Combined DataFrame shape: (348566, 8)\n",
            "  sequential identifier MEDLINE identifier                             source  \\\n",
            "0                     1           87049087    Am J Emerg Med 8703; 4(6):491-5   \n",
            "1                     2           87049088  Am J Emerg Med 8703; 4(6):496-500   \n",
            "2                     3           87049089    Am J Emerg Med 8703; 4(6):501-3   \n",
            "3                     4           87049090    Am J Emerg Med 8703; 4(6):504-6   \n",
            "4                     5           87049092    Am J Emerg Med 8703; 4(6):511-3   \n",
            "\n",
            "                                          mesh_terms  \\\n",
            "0  Allied Health Personnel/*; Electric Countersho...   \n",
            "1  Antidepressive Agents, Tricyclic/*PO; Arrhythm...   \n",
            "2  Adult; Aircraft/*; Altitude/*; Blood Gas Monit...   \n",
            "3  Adolescence; Adult; Aged; Blood Glucose/*ME; D...   \n",
            "4  Aged; Aged, 80 and over; Case Report; Female; ...   \n",
            "\n",
            "                                               title  publication type  \\\n",
            "0  Refibrillation managed by EMT-Ds: incidence an...  JOURNAL ARTICLE.   \n",
            "1  Tricyclic antidepressant overdose: emergency d...  JOURNAL ARTICLE.   \n",
            "2  Transconjunctival oxygen monitoring as a predi...  JOURNAL ARTICLE.   \n",
            "3  Serum glucose changes after administration of ...  JOURNAL ARTICLE.   \n",
            "4  Nasogastric intubation: morbidity in an asympt...  JOURNAL ARTICLE.   \n",
            "\n",
            "                                            abstract  \\\n",
            "0  Some patients converted from ventricular fibri...   \n",
            "1  There is controversy regarding the appropriate...   \n",
            "2  As the use of helicopters for air transport of...   \n",
            "3  A prospective clinical trial was conducted to ...   \n",
            "4  An unusual case of a misdirected nasogastric t...   \n",
            "\n",
            "                                              author  \n",
            "0                               Stults KR; Brown DD.  \n",
            "1                 Foulke GE; Albertson TE; Walby WF.  \n",
            "2  Shufflebarger C; Jehle D; Cottington E; Martin M.  \n",
            "3                                          Adler PM.  \n",
            "4                                   Gough D; Rust D.  \n"
          ]
        }
      ],
      "source": [
        "# Combine all DataFrames into a single DataFrame\n",
        "ohsumed_combined_df = pd.concat([df_ohsumed_87, df_ohsumed_88, df_ohsumed_89, df_ohsumed_90, df_ohsumed_91], ignore_index=True)\n",
        "\n",
        "# Print the combined DataFrame's shape (rows and columns). Should be: 348566\n",
        "print(f\"Combined DataFrame shape: {ohsumed_combined_df.shape}\")\n",
        "\n",
        "# Display the first few rows of the combined DataFrame\n",
        "print(ohsumed_combined_df.head())"
      ]
    },
    {
      "cell_type": "code",
      "execution_count": 4,
      "id": "1caf5d95e1d30c27",
      "metadata": {
        "colab": {
          "base_uri": "https://localhost:8080/",
          "height": 259
        },
        "id": "1caf5d95e1d30c27",
        "outputId": "20d0f022-1440-471e-b3cc-5c73942497e1"
      },
      "outputs": [
        {
          "name": "stdout",
          "output_type": "stream",
          "text": [
            "Loaded judged file with 16140 rows\n",
            "Unique documents: 14430\n",
            "New df size: 14430\n"
          ]
        },
        {
          "data": {
            "text/html": [
              "<div>\n",
              "<style scoped>\n",
              "    .dataframe tbody tr th:only-of-type {\n",
              "        vertical-align: middle;\n",
              "    }\n",
              "\n",
              "    .dataframe tbody tr th {\n",
              "        vertical-align: top;\n",
              "    }\n",
              "\n",
              "    .dataframe thead th {\n",
              "        text-align: right;\n",
              "    }\n",
              "</style>\n",
              "<table border=\"1\" class=\"dataframe\">\n",
              "  <thead>\n",
              "    <tr style=\"text-align: right;\">\n",
              "      <th></th>\n",
              "      <th>Query</th>\n",
              "      <th>Document-UI</th>\n",
              "      <th>Document-Index</th>\n",
              "      <th>Relevance1</th>\n",
              "      <th>Relevance2</th>\n",
              "      <th>Relevance3</th>\n",
              "    </tr>\n",
              "  </thead>\n",
              "  <tbody>\n",
              "    <tr>\n",
              "      <th>0</th>\n",
              "      <td>1</td>\n",
              "      <td>87097544</td>\n",
              "      <td>40626</td>\n",
              "      <td>d</td>\n",
              "      <td>NaN</td>\n",
              "      <td>d</td>\n",
              "    </tr>\n",
              "    <tr>\n",
              "      <th>1</th>\n",
              "      <td>1</td>\n",
              "      <td>87153566</td>\n",
              "      <td>11852</td>\n",
              "      <td>n</td>\n",
              "      <td>NaN</td>\n",
              "      <td>n</td>\n",
              "    </tr>\n",
              "    <tr>\n",
              "      <th>2</th>\n",
              "      <td>1</td>\n",
              "      <td>87157536</td>\n",
              "      <td>12693</td>\n",
              "      <td>d</td>\n",
              "      <td>NaN</td>\n",
              "      <td>NaN</td>\n",
              "    </tr>\n",
              "    <tr>\n",
              "      <th>3</th>\n",
              "      <td>1</td>\n",
              "      <td>87157537</td>\n",
              "      <td>12694</td>\n",
              "      <td>d</td>\n",
              "      <td>NaN</td>\n",
              "      <td>NaN</td>\n",
              "    </tr>\n",
              "    <tr>\n",
              "      <th>4</th>\n",
              "      <td>1</td>\n",
              "      <td>87184723</td>\n",
              "      <td>15450</td>\n",
              "      <td>n</td>\n",
              "      <td>NaN</td>\n",
              "      <td>NaN</td>\n",
              "    </tr>\n",
              "  </tbody>\n",
              "</table>\n",
              "</div>"
            ],
            "text/plain": [
              "   Query  Document-UI  Document-Index Relevance1 Relevance2 Relevance3\n",
              "0      1     87097544           40626          d        NaN          d\n",
              "1      1     87153566           11852          n        NaN          n\n",
              "2      1     87157536           12693          d        NaN        NaN\n",
              "3      1     87157537           12694          d        NaN        NaN\n",
              "4      1     87184723           15450          n        NaN        NaN"
            ]
          },
          "execution_count": 4,
          "metadata": {},
          "output_type": "execute_result"
        }
      ],
      "source": [
        "# Load the judged file (relevance labeles)\n",
        "judged_df = pd.read_csv(\"./data/judged.txt\", sep=\"\\t\", header=None,\n",
        "                        names=[\"Query\", \"Document-UI\", \"Document-Index\", \"Relevance1\", \"Relevance2\", \"Relevance3\"])\n",
        "\n",
        "print(f\"Loaded judged file with {len(judged_df)} rows\")\n",
        "judged_df.head()\n",
        "\n",
        "# Get unique documents\n",
        "unique_docs = judged_df['Document-UI'].nunique()\n",
        "judged_df = judged_df.drop_duplicates(subset=['Document-UI'], keep='first')\n",
        "\n",
        "# We keep only unique documents\n",
        "print(f\"Unique documents: {unique_docs}\")\n",
        "print(f\"New df size: {len(judged_df)}\")\n",
        "\n",
        "judged_df.head()"
      ]
    },
    {
      "cell_type": "code",
      "execution_count": 5,
      "id": "7fd89d53f138fcfc",
      "metadata": {
        "colab": {
          "base_uri": "https://localhost:8080/"
        },
        "id": "7fd89d53f138fcfc",
        "outputId": "36372636-9125-4288-c37c-235182aee504"
      },
      "outputs": [
        {
          "name": "stdout",
          "output_type": "stream",
          "text": [
            "Resulting DataFrame shape: (348566, 14)\n",
            "  sequential identifier  MEDLINE identifier  \\\n",
            "0                     1            87049087   \n",
            "1                     2            87049088   \n",
            "2                     3            87049089   \n",
            "3                     4            87049090   \n",
            "4                     5            87049092   \n",
            "\n",
            "                              source  \\\n",
            "0    Am J Emerg Med 8703; 4(6):491-5   \n",
            "1  Am J Emerg Med 8703; 4(6):496-500   \n",
            "2    Am J Emerg Med 8703; 4(6):501-3   \n",
            "3    Am J Emerg Med 8703; 4(6):504-6   \n",
            "4    Am J Emerg Med 8703; 4(6):511-3   \n",
            "\n",
            "                                          mesh_terms  \\\n",
            "0  Allied Health Personnel/*; Electric Countersho...   \n",
            "1  Antidepressive Agents, Tricyclic/*PO; Arrhythm...   \n",
            "2  Adult; Aircraft/*; Altitude/*; Blood Gas Monit...   \n",
            "3  Adolescence; Adult; Aged; Blood Glucose/*ME; D...   \n",
            "4  Aged; Aged, 80 and over; Case Report; Female; ...   \n",
            "\n",
            "                                               title  publication type  \\\n",
            "0  Refibrillation managed by EMT-Ds: incidence an...  JOURNAL ARTICLE.   \n",
            "1  Tricyclic antidepressant overdose: emergency d...  JOURNAL ARTICLE.   \n",
            "2  Transconjunctival oxygen monitoring as a predi...  JOURNAL ARTICLE.   \n",
            "3  Serum glucose changes after administration of ...  JOURNAL ARTICLE.   \n",
            "4  Nasogastric intubation: morbidity in an asympt...  JOURNAL ARTICLE.   \n",
            "\n",
            "                                            abstract  \\\n",
            "0  Some patients converted from ventricular fibri...   \n",
            "1  There is controversy regarding the appropriate...   \n",
            "2  As the use of helicopters for air transport of...   \n",
            "3  A prospective clinical trial was conducted to ...   \n",
            "4  An unusual case of a misdirected nasogastric t...   \n",
            "\n",
            "                                              author  Query  Document-Index  \\\n",
            "0                               Stults KR; Brown DD.    NaN             NaN   \n",
            "1                 Foulke GE; Albertson TE; Walby WF.    NaN             NaN   \n",
            "2  Shufflebarger C; Jehle D; Cottington E; Martin M.    NaN             NaN   \n",
            "3                                          Adler PM.    NaN             NaN   \n",
            "4                                   Gough D; Rust D.    NaN             NaN   \n",
            "\n",
            "  Relevance1 Relevance2 Relevance3  is_relevant_ind  \n",
            "0        NaN        NaN        NaN              NaN  \n",
            "1        NaN        NaN        NaN              NaN  \n",
            "2        NaN        NaN        NaN              NaN  \n",
            "3        NaN        NaN        NaN              NaN  \n",
            "4        NaN        NaN        NaN              NaN  \n",
            "Resulting DataFrame shape: (348566, 10)\n",
            "  sequential identifier  MEDLINE identifier  \\\n",
            "0                     1            87049087   \n",
            "1                     2            87049088   \n",
            "2                     3            87049089   \n",
            "3                     4            87049090   \n",
            "4                     5            87049092   \n",
            "\n",
            "                              source  \\\n",
            "0    Am J Emerg Med 8703; 4(6):491-5   \n",
            "1  Am J Emerg Med 8703; 4(6):496-500   \n",
            "2    Am J Emerg Med 8703; 4(6):501-3   \n",
            "3    Am J Emerg Med 8703; 4(6):504-6   \n",
            "4    Am J Emerg Med 8703; 4(6):511-3   \n",
            "\n",
            "                                          mesh_terms  \\\n",
            "0  Allied Health Personnel/*; Electric Countersho...   \n",
            "1  Antidepressive Agents, Tricyclic/*PO; Arrhythm...   \n",
            "2  Adult; Aircraft/*; Altitude/*; Blood Gas Monit...   \n",
            "3  Adolescence; Adult; Aged; Blood Glucose/*ME; D...   \n",
            "4  Aged; Aged, 80 and over; Case Report; Female; ...   \n",
            "\n",
            "                                               title  publication type  \\\n",
            "0  Refibrillation managed by EMT-Ds: incidence an...  JOURNAL ARTICLE.   \n",
            "1  Tricyclic antidepressant overdose: emergency d...  JOURNAL ARTICLE.   \n",
            "2  Transconjunctival oxygen monitoring as a predi...  JOURNAL ARTICLE.   \n",
            "3  Serum glucose changes after administration of ...  JOURNAL ARTICLE.   \n",
            "4  Nasogastric intubation: morbidity in an asympt...  JOURNAL ARTICLE.   \n",
            "\n",
            "                                            abstract  \\\n",
            "0  Some patients converted from ventricular fibri...   \n",
            "1  There is controversy regarding the appropriate...   \n",
            "2  As the use of helicopters for air transport of...   \n",
            "3  A prospective clinical trial was conducted to ...   \n",
            "4  An unusual case of a misdirected nasogastric t...   \n",
            "\n",
            "                                              author  is_relevant_ind  \\\n",
            "0                               Stults KR; Brown DD.              NaN   \n",
            "1                 Foulke GE; Albertson TE; Walby WF.              NaN   \n",
            "2  Shufflebarger C; Jehle D; Cottington E; Martin M.              NaN   \n",
            "3                                          Adler PM.              NaN   \n",
            "4                                   Gough D; Rust D.              NaN   \n",
            "\n",
            "   Relevance_total  \n",
            "0              NaN  \n",
            "1              NaN  \n",
            "2              NaN  \n",
            "3              NaN  \n",
            "4              NaN  \n"
          ]
        }
      ],
      "source": [
        "judged_df.rename(columns={\"Document-UI\": \"MEDLINE identifier\"}, inplace=True)\n",
        "\n",
        "# Converting key to string\n",
        "ohsumed_combined_df[\"MEDLINE identifier\"] = ohsumed_combined_df[\"MEDLINE identifier\"].astype(int)\n",
        "judged_df[\"MEDLINE identifier\"] = judged_df[\"MEDLINE identifier\"].astype(int)\n",
        "judged_df[\"is_relevant_ind\"] = 1\n",
        "\n",
        "# Perform the left join\n",
        "merged_df = ohsumed_combined_df.merge(judged_df, on=\"MEDLINE identifier\", how=\"left\")\n",
        "\n",
        "# Display the resulting DataFrame\n",
        "print(f\"Resulting DataFrame shape: {merged_df.shape}\")\n",
        "print(merged_df.head())\n",
        "\n",
        "# Create a new column Relevance_total based on the rules that can be kept showing relevance for all three relevance columns\n",
        "merged_df[\"Relevance_total\"] = np.where(\n",
        "    ~merged_df[\"Relevance1\"].isna(),  # If Relevance1 is not NaN, take it\n",
        "    merged_df[\"Relevance1\"],\n",
        "    np.where(\n",
        "        ~merged_df[\"Relevance2\"].isna(),  # Else if Relevance2 is not NaN, take it\n",
        "        merged_df[\"Relevance2\"],\n",
        "        merged_df[\"Relevance3\"]  # Else take Relevance3\n",
        "    )\n",
        ")\n",
        "merged_df.head(10000)\n",
        "\n",
        "# Drop the specified columns\n",
        "columns_to_drop = [\"Query\", \"Document-Index\", \"Relevance1\", \"Relevance2\", \"Relevance3\"]\n",
        "merged_df.drop(columns=columns_to_drop, inplace=True)\n",
        "# Mapping relevance labels to int\n",
        "relevance_mapping = {'n': 0, 'p': 1, 'd': 2}\n",
        "\n",
        "# Filling mising values in abstract so that BERT can be trained on strings\n",
        "merged_df[\"abstract\"] = merged_df[\"abstract\"].fillna(\"\")\n",
        "\n",
        "# Apply the mapping to the Relevance1 column\n",
        "merged_df[\"Relevance_total\"] = merged_df[\"Relevance_total\"].map(relevance_mapping)\n",
        "\n",
        "# Display the resulting DataFrame\n",
        "print(f\"Resulting DataFrame shape: {merged_df.shape}\")\n",
        "print(merged_df.head())\n",
        "\n",
        "#filtered_df = merged_df[merged_df[\"Relevance1\"].notna()]\n",
        "#\n",
        "## Display the filtered DataFrame\n",
        "#print(f\"Number of rows where Relevance1 is not NaN: {len(filtered_df)}\")\n",
        "#print(filtered_df.head())"
      ]
    },
    {
      "cell_type": "code",
      "execution_count": 6,
      "id": "8661ed6849b71fb0",
      "metadata": {
        "colab": {
          "base_uri": "https://localhost:8080/"
        },
        "id": "8661ed6849b71fb0",
        "outputId": "7ab2e3ec-6752-4f2a-d1f9-3b0cec544671"
      },
      "outputs": [
        {
          "name": "stdout",
          "output_type": "stream",
          "text": [
            "Number of rows where is_relevant_ind = 1: 14430\n"
          ]
        }
      ],
      "source": [
        "#Checking how many relevant documents are present in merged DF. Expectation: 16140\n",
        "count_is_relevant = merged_df[merged_df[\"is_relevant_ind\"] == 1].shape[0]\n",
        "print(f\"Number of rows where is_relevant_ind = 1: {count_is_relevant}\")"
      ]
    },
    {
      "cell_type": "markdown",
      "id": "28bf3be64eba304f",
      "metadata": {
        "id": "28bf3be64eba304f"
      },
      "source": [
        "Now, we have a merged dataframe, containing all document data and also the relevance labeling of the documents. Now we can proceed with splitting the data."
      ]
    },
    {
      "cell_type": "code",
      "execution_count": 7,
      "id": "initial_id",
      "metadata": {
        "colab": {
          "base_uri": "https://localhost:8080/"
        },
        "collapsed": true,
        "id": "initial_id",
        "outputId": "c60f3b7a-e1ba-4288-c45e-3190ec66a4e2"
      },
      "outputs": [
        {
          "name": "stdout",
          "output_type": "stream",
          "text": [
            "Test set size: 14430\n",
            "Training set size: 284015\n",
            "Validation set size: 50121\n"
          ]
        }
      ],
      "source": [
        "test = merged_df[merged_df[\"is_relevant_ind\"] == 1]\n",
        "remaining_rows = merged_df[merged_df[\"is_relevant_ind\"] != 1]\n",
        "training, validation = train_test_split(remaining_rows, test_size=0.15, random_state=42)\n",
        "\n",
        "print(f\"Test set size: {len(test)}\")\n",
        "print(f\"Training set size: {len(training)}\")\n",
        "print(f\"Validation set size: {len(validation)}\")"
      ]
    },
    {
      "cell_type": "markdown",
      "id": "d1384fb8e2299c55",
      "metadata": {
        "id": "d1384fb8e2299c55"
      },
      "source": [
        "Training LR"
      ]
    },
    {
      "cell_type": "code",
      "execution_count": 8,
      "id": "7295d700bce05d7c",
      "metadata": {
        "colab": {
          "base_uri": "https://localhost:8080/",
          "height": 732
        },
        "id": "7295d700bce05d7c",
        "outputId": "062f2659-29d1-4044-e0be-0e30fe433c5b"
      },
      "outputs": [
        {
          "name": "stderr",
          "output_type": "stream",
          "text": [
            "C:\\Users\\timgr\\AppData\\Local\\Temp\\ipykernel_18020\\4000273643.py:2: SettingWithCopyWarning: \n",
            "A value is trying to be set on a copy of a slice from a DataFrame.\n",
            "Try using .loc[row_indexer,col_indexer] = value instead\n",
            "\n",
            "See the caveats in the documentation: https://pandas.pydata.org/pandas-docs/stable/user_guide/indexing.html#returning-a-view-versus-a-copy\n",
            "  test.loc[:, 'title_abstract'] = test['title'] + ' ' + test['abstract']\n"
          ]
        },
        {
          "data": {
            "text/html": [
              "<div>\n",
              "<style scoped>\n",
              "    .dataframe tbody tr th:only-of-type {\n",
              "        vertical-align: middle;\n",
              "    }\n",
              "\n",
              "    .dataframe tbody tr th {\n",
              "        vertical-align: top;\n",
              "    }\n",
              "\n",
              "    .dataframe thead th {\n",
              "        text-align: right;\n",
              "    }\n",
              "</style>\n",
              "<table border=\"1\" class=\"dataframe\">\n",
              "  <thead>\n",
              "    <tr style=\"text-align: right;\">\n",
              "      <th></th>\n",
              "      <th>sequential identifier</th>\n",
              "      <th>MEDLINE identifier</th>\n",
              "      <th>source</th>\n",
              "      <th>mesh_terms</th>\n",
              "      <th>title</th>\n",
              "      <th>publication type</th>\n",
              "      <th>abstract</th>\n",
              "      <th>author</th>\n",
              "      <th>is_relevant_ind</th>\n",
              "      <th>Relevance_total</th>\n",
              "      <th>title_abstract</th>\n",
              "    </tr>\n",
              "  </thead>\n",
              "  <tbody>\n",
              "    <tr>\n",
              "      <th>33697</th>\n",
              "      <td>33698</td>\n",
              "      <td>87124329</td>\n",
              "      <td>Am Heart J 8705; 113(2 Pt 1):273-9</td>\n",
              "      <td>Aged; Comparative Study; Electrocardiography/*...</td>\n",
              "      <td>Non-Q wave myocardial infarction: recent chang...</td>\n",
              "      <td>JOURNAL ARTICLE.</td>\n",
              "      <td>A community-wide study of patients hospitalize...</td>\n",
              "      <td>Goldberg RJ; Gore JM; Alpert JS; Dalen JE.</td>\n",
              "      <td>NaN</td>\n",
              "      <td>NaN</td>\n",
              "      <td>Non-Q wave myocardial infarction: recent chang...</td>\n",
              "    </tr>\n",
              "    <tr>\n",
              "      <th>245340</th>\n",
              "      <td>245341</td>\n",
              "      <td>90357619</td>\n",
              "      <td>Transplant Proc 9011; 22(4):1885-6</td>\n",
              "      <td>Antibodies, Anti-Idiotypic/*IM; Antibodies, Mo...</td>\n",
              "      <td>IgM-anti-IgG antibody as cause of positive B-c...</td>\n",
              "      <td>JOURNAL ARTICLE.</td>\n",
              "      <td></td>\n",
              "      <td>Terness P; Berteli AJ; Steinitz M; Mytillineos...</td>\n",
              "      <td>NaN</td>\n",
              "      <td>NaN</td>\n",
              "      <td>IgM-anti-IgG antibody as cause of positive B-c...</td>\n",
              "    </tr>\n",
              "    <tr>\n",
              "      <th>306208</th>\n",
              "      <td>306209</td>\n",
              "      <td>91170056</td>\n",
              "      <td>J Appl Physiol 9106; 69(6):2091-6</td>\n",
              "      <td>Animal; Blood Pressure; Cardiac Output; Hemody...</td>\n",
              "      <td>Altered baroreflex function after tail suspens...</td>\n",
              "      <td>JOURNAL ARTICLE.</td>\n",
              "      <td>Experiments were performed on conscious chroni...</td>\n",
              "      <td>Brizzee BL; Walker BR.</td>\n",
              "      <td>NaN</td>\n",
              "      <td>NaN</td>\n",
              "      <td>Altered baroreflex function after tail suspens...</td>\n",
              "    </tr>\n",
              "    <tr>\n",
              "      <th>5057</th>\n",
              "      <td>5058</td>\n",
              "      <td>87097540</td>\n",
              "      <td>Am J Obstet Gynecol 8704; 156(1):52-6</td>\n",
              "      <td>Apgar Score; Cesarean Section/*; Delivery/*MT;...</td>\n",
              "      <td>Randomized management of the second nonvertex ...</td>\n",
              "      <td>JOURNAL ARTICLE.</td>\n",
              "      <td>Sixty twin deliveries after the thirty-fifth g...</td>\n",
              "      <td>Rabinovici J; Barkai G; Reichman B; Serr DM; M...</td>\n",
              "      <td>NaN</td>\n",
              "      <td>NaN</td>\n",
              "      <td>Randomized management of the second nonvertex ...</td>\n",
              "    </tr>\n",
              "    <tr>\n",
              "      <th>120427</th>\n",
              "      <td>120428</td>\n",
              "      <td>88110706</td>\n",
              "      <td>Chest 8805; 93(2):294-8</td>\n",
              "      <td>Adult; Aged; Arteries/*; Bloodletting/*; Carbo...</td>\n",
              "      <td>Single arterial puncture vs arterial cannula f...</td>\n",
              "      <td>JOURNAL ARTICLE.</td>\n",
              "      <td>In an attempt to find the least invasive, safe...</td>\n",
              "      <td>Frye M; DiBenedetto R; Lain D; Morgan K.</td>\n",
              "      <td>NaN</td>\n",
              "      <td>NaN</td>\n",
              "      <td>Single arterial puncture vs arterial cannula f...</td>\n",
              "    </tr>\n",
              "  </tbody>\n",
              "</table>\n",
              "</div>"
            ],
            "text/plain": [
              "       sequential identifier  MEDLINE identifier  \\\n",
              "33697                  33698            87124329   \n",
              "245340                245341            90357619   \n",
              "306208                306209            91170056   \n",
              "5057                    5058            87097540   \n",
              "120427                120428            88110706   \n",
              "\n",
              "                                       source  \\\n",
              "33697      Am Heart J 8705; 113(2 Pt 1):273-9   \n",
              "245340     Transplant Proc 9011; 22(4):1885-6   \n",
              "306208      J Appl Physiol 9106; 69(6):2091-6   \n",
              "5057    Am J Obstet Gynecol 8704; 156(1):52-6   \n",
              "120427                Chest 8805; 93(2):294-8   \n",
              "\n",
              "                                               mesh_terms  \\\n",
              "33697   Aged; Comparative Study; Electrocardiography/*...   \n",
              "245340  Antibodies, Anti-Idiotypic/*IM; Antibodies, Mo...   \n",
              "306208  Animal; Blood Pressure; Cardiac Output; Hemody...   \n",
              "5057    Apgar Score; Cesarean Section/*; Delivery/*MT;...   \n",
              "120427  Adult; Aged; Arteries/*; Bloodletting/*; Carbo...   \n",
              "\n",
              "                                                    title  publication type  \\\n",
              "33697   Non-Q wave myocardial infarction: recent chang...  JOURNAL ARTICLE.   \n",
              "245340  IgM-anti-IgG antibody as cause of positive B-c...  JOURNAL ARTICLE.   \n",
              "306208  Altered baroreflex function after tail suspens...  JOURNAL ARTICLE.   \n",
              "5057    Randomized management of the second nonvertex ...  JOURNAL ARTICLE.   \n",
              "120427  Single arterial puncture vs arterial cannula f...  JOURNAL ARTICLE.   \n",
              "\n",
              "                                                 abstract  \\\n",
              "33697   A community-wide study of patients hospitalize...   \n",
              "245340                                                      \n",
              "306208  Experiments were performed on conscious chroni...   \n",
              "5057    Sixty twin deliveries after the thirty-fifth g...   \n",
              "120427  In an attempt to find the least invasive, safe...   \n",
              "\n",
              "                                                   author  is_relevant_ind  \\\n",
              "33697          Goldberg RJ; Gore JM; Alpert JS; Dalen JE.              NaN   \n",
              "245340  Terness P; Berteli AJ; Steinitz M; Mytillineos...              NaN   \n",
              "306208                             Brizzee BL; Walker BR.              NaN   \n",
              "5057    Rabinovici J; Barkai G; Reichman B; Serr DM; M...              NaN   \n",
              "120427           Frye M; DiBenedetto R; Lain D; Morgan K.              NaN   \n",
              "\n",
              "        Relevance_total                                     title_abstract  \n",
              "33697               NaN  Non-Q wave myocardial infarction: recent chang...  \n",
              "245340              NaN  IgM-anti-IgG antibody as cause of positive B-c...  \n",
              "306208              NaN  Altered baroreflex function after tail suspens...  \n",
              "5057                NaN  Randomized management of the second nonvertex ...  \n",
              "120427              NaN  Single arterial puncture vs arterial cannula f...  "
            ]
          },
          "execution_count": 8,
          "metadata": {},
          "output_type": "execute_result"
        }
      ],
      "source": [
        "training.loc[:, 'title_abstract'] = training['title'] + ' ' + training['abstract']\n",
        "test.loc[:, 'title_abstract'] = test['title'] + ' ' + test['abstract']\n",
        "validation.loc[:, 'title_abstract'] = validation['title'] + ' ' + validation['abstract']\n",
        "training.head()\n",
        "test.head()\n",
        "validation.head()"
      ]
    },
    {
      "cell_type": "code",
      "execution_count": 9,
      "id": "110b32793fef0266",
      "metadata": {
        "colab": {
          "base_uri": "https://localhost:8080/"
        },
        "id": "110b32793fef0266",
        "outputId": "df94ecc4-053e-468b-efbc-f1f5e851bdf7"
      },
      "outputs": [
        {
          "name": "stderr",
          "output_type": "stream",
          "text": [
            "C:\\Users\\timgr\\AppData\\Local\\Temp\\ipykernel_18020\\2011870376.py:67: SettingWithCopyWarning: \n",
            "A value is trying to be set on a copy of a slice from a DataFrame.\n",
            "Try using .loc[row_indexer,col_indexer] = value instead\n",
            "\n",
            "See the caveats in the documentation: https://pandas.pydata.org/pandas-docs/stable/user_guide/indexing.html#returning-a-view-versus-a-copy\n",
            "  df.loc[:, \"processed_mesh_terms\"] = df[\"mesh_terms\"].apply(preprocess_mesh_terms)\n"
          ]
        },
        {
          "name": "stdout",
          "output_type": "stream",
          "text": [
            "Full dataset: 8.1%\n",
            "Judged documents: 12.3%\n"
          ]
        },
        {
          "name": "stderr",
          "output_type": "stream",
          "text": [
            "C:\\Users\\timgr\\AppData\\Local\\Temp\\ipykernel_18020\\2011870376.py:68: SettingWithCopyWarning: \n",
            "A value is trying to be set on a copy of a slice from a DataFrame.\n",
            "Try using .loc[row_indexer,col_indexer] = value instead\n",
            "\n",
            "See the caveats in the documentation: https://pandas.pydata.org/pandas-docs/stable/user_guide/indexing.html#returning-a-view-versus-a-copy\n",
            "  df.loc[:, \"sensitive\"] = df[\"processed_mesh_terms\"].apply(is_sensitive_regex)\n",
            "C:\\Users\\timgr\\AppData\\Local\\Temp\\ipykernel_18020\\2011870376.py:69: SettingWithCopyWarning: \n",
            "A value is trying to be set on a copy of a slice from a DataFrame.\n",
            "Try using .loc[row_indexer,col_indexer] = value instead\n",
            "\n",
            "See the caveats in the documentation: https://pandas.pydata.org/pandas-docs/stable/user_guide/indexing.html#returning-a-view-versus-a-copy\n",
            "  df.loc[:, \"label\"] = df[\"sensitive\"]\n",
            "C:\\Users\\timgr\\AppData\\Local\\Temp\\ipykernel_18020\\2011870376.py:82: SettingWithCopyWarning: \n",
            "A value is trying to be set on a copy of a slice from a DataFrame\n",
            "\n",
            "See the caveats in the documentation: https://pandas.pydata.org/pandas-docs/stable/user_guide/indexing.html#returning-a-view-versus-a-copy\n",
            "  df.drop(columns=[\"sensitive\"], inplace=True)\n"
          ]
        }
      ],
      "source": [
        "import pandas as pd\n",
        "import re\n",
        "\n",
        "# Step 1: Parse the .bin file to extract sensitive MeSH terms\n",
        "def parse_mesh_bin(file_path, target_categories):\n",
        "    \"\"\"\n",
        "    Extract MeSH terms under specific categories from a .bin file.\n",
        "\n",
        "    Args:\n",
        "        file_path (str): Path to the .bin file.\n",
        "        target_categories (list): List of categories (e.g., [\"C12\", \"C13\"]).\n",
        "\n",
        "    Returns:\n",
        "        list: List of MeSH terms under the target categories.\n",
        "    \"\"\"\n",
        "    mesh_terms = []\n",
        "    with open(file_path, \"r\") as f:\n",
        "        for line in f:\n",
        "            # Split by ';' to separate terms and categories\n",
        "            parts = line.strip().split(\";\")\n",
        "            if len(parts) > 1:\n",
        "                term, category = parts[0].strip().lower(), parts[1].strip()\n",
        "                # Include terms under target categories\n",
        "                if any(category.startswith(target) for target in target_categories):\n",
        "                    mesh_terms.append(term)\n",
        "    return mesh_terms\n",
        "\n",
        "# Path to the .bin file\n",
        "file_path = \"./mtrees2019.bin\"\n",
        "\n",
        "# Extract MeSH terms under C12 and C13\n",
        "sensitive_terms = parse_mesh_bin(file_path, [\"C12\", \"C13\"])\n",
        "\n",
        "# Step 2: Preprocessing function for the `mesh_terms` column\n",
        "def preprocess_mesh_terms(mesh_terms):\n",
        "    \"\"\"\n",
        "    Normalize and preprocess the MeSH terms in a document.\n",
        "\n",
        "    Args:\n",
        "        mesh_terms (str): The raw MeSH terms for a document.\n",
        "\n",
        "    Returns:\n",
        "        list: A list of cleaned MeSH terms.\n",
        "    \"\"\"\n",
        "    if isinstance(mesh_terms, str):\n",
        "        terms = mesh_terms.split(\";\")\n",
        "        return [re.sub(r\"/.*\", \"\", term).strip().lower() for term in terms]\n",
        "    return []\n",
        "\n",
        "# Step 3: Define the matching function using sensitive terms\n",
        "sensitive_pattern = re.compile(r\"\\b(\" + \"|\".join(re.escape(term) for term in sensitive_terms) + r\")\\b\", re.IGNORECASE)\n",
        "\n",
        "def is_sensitive_regex(terms):\n",
        "    \"\"\"\n",
        "    Check if any term in the document is sensitive based on MeSH terms.\n",
        "\n",
        "    Args:\n",
        "        terms (list of str): Processed MeSH terms.\n",
        "\n",
        "    Returns:\n",
        "        int: 1 if sensitive, 0 otherwise.\n",
        "    \"\"\"\n",
        "    return 1 if any(sensitive_pattern.search(term) for term in terms) else 0\n",
        "\n",
        "# Step 4: Apply preprocessing and matching to datasets\n",
        "for df in [training, validation, test]:\n",
        "    df.loc[:, \"processed_mesh_terms\"] = df[\"mesh_terms\"].apply(preprocess_mesh_terms)\n",
        "    df.loc[:, \"sensitive\"] = df[\"processed_mesh_terms\"].apply(is_sensitive_regex)\n",
        "    df.loc[:, \"label\"] = df[\"sensitive\"]\n",
        "\n",
        "# Step 5: Calculate sensitive document percentages\n",
        "datasets = [\n",
        "    (pd.concat([training, validation, test]), \"Full dataset\"),\n",
        "    (test, \"Judged documents\")\n",
        "]\n",
        "\n",
        "for df, name in datasets:\n",
        "    percentage = df[\"label\"].mean() * 100\n",
        "    print(f\"{name}: {percentage:.1f}%\")\n",
        "\n",
        "for df in [training, validation, test]:\n",
        "    df.drop(columns=[\"sensitive\"], inplace=True)"
      ]
    },
    {
      "cell_type": "code",
      "execution_count": 10,
      "id": "D9Mih2sw2Y2f",
      "metadata": {
        "colab": {
          "base_uri": "https://localhost:8080/"
        },
        "id": "D9Mih2sw2Y2f",
        "outputId": "440df70d-d0ac-4ad7-dd65-26544b829908"
      },
      "outputs": [
        {
          "name": "stdout",
          "output_type": "stream",
          "text": [
            "Sensitive documents in Training:\n",
            "                                               mesh_terms  \\\n",
            "54170   Adult; Cardiovascular Diseases/ET/*MO; Diabete...   \n",
            "3827    Antigens, Bacterial/*AN; Chlamydia trachomatis...   \n",
            "63723   Adult; Evaluation Studies; Female; Hospitals, ...   \n",
            "144305  Adult; Antineoplastic Agents, Combined/*TU; Ca...   \n",
            "160573  Acidosis, Renal Tubular/*CO/ET; Adult; Case Re...   \n",
            "\n",
            "                                     processed_mesh_terms  label  \n",
            "54170   [adult, cardiovascular diseases, diabetes mell...      1  \n",
            "3827    [antigens, bacterial, chlamydia trachomatis, c...      1  \n",
            "63723   [adult, evaluation studies, female, hospitals,...      1  \n",
            "144305  [adult, antineoplastic agents, combined, case ...      1  \n",
            "160573  [acidosis, renal tubular, adult, case report, ...      1  \n",
            "Total sensitive documents in Training: 22371\n",
            "Relative amount of sensitive documents in Training: 7.9%\n",
            "\n",
            "Sensitive documents in Validation:\n",
            "                                               mesh_terms  \\\n",
            "129141  Electrocoagulation/AE/*IS/MT; Female; Follow-U...   \n",
            "170093  Adult; Child; Child, Preschool; Human; Hypospa...   \n",
            "174428  Dimercaptosuccinic Acid/*DU; Human; Organometa...   \n",
            "229509  Cohort Studies; Female; Human; Hypertension/CO...   \n",
            "202123  Adolescence; Adult; Catecholamines/*BL; Child;...   \n",
            "\n",
            "                                     processed_mesh_terms  label  \n",
            "129141  [electrocoagulation, female, follow-up studies...      1  \n",
            "170093  [adult, child, child, preschool, human, hyposp...      1  \n",
            "174428  [dimercaptosuccinic acid, human, organometalli...      1  \n",
            "229509  [cohort studies, female, human, hypertension, ...      1  \n",
            "202123  [adolescence, adult, catecholamines, child, ch...      1  \n",
            "Total sensitive documents in Validation: 4007\n",
            "Relative amount of sensitive documents in Validation: 8.0%\n",
            "\n",
            "Sensitive documents in Test:\n",
            "                                             mesh_terms  \\\n",
            "153   Female; Human; Pregnancy; Propranolol/TU; Puer...   \n",
            "222   Actinomycosis/*CO; Adult; Case Report; Human; ...   \n",
            "625   Adult; Analysis of Variance; Bromocriptine/AD/...   \n",
            "1362  Adult; Case Report; Disseminated Intravascular...   \n",
            "1504  Adult; Aged; Biopsy; Blood Platelets/*ME; Bloo...   \n",
            "\n",
            "                                   processed_mesh_terms  label  \n",
            "153   [female, human, pregnancy, propranolol, puerpe...      1  \n",
            "222   [actinomycosis, adult, case report, human, kid...      1  \n",
            "625   [adult, analysis of variance, bromocriptine, c...      1  \n",
            "1362  [adult, case report, disseminated intravascula...      1  \n",
            "1504  [adult, aged, biopsy, blood platelets, blood p...      1  \n",
            "Total sensitive documents in Test: 1781\n",
            "Relative amount of sensitive documents in Test: 12.3%\n",
            "\n"
          ]
        }
      ],
      "source": [
        "for df, name in [(training, \"Training\"), (validation, \"Validation\"), (test, \"Test\")]:\n",
        "    sensitive_docs = df[df[\"label\"] == 1]\n",
        "    total_docs = len(df)\n",
        "    relative_percentage = (len(sensitive_docs) / total_docs) * 100\n",
        "\n",
        "    print(f\"Sensitive documents in {name}:\")\n",
        "    print(sensitive_docs[[\"mesh_terms\", \"processed_mesh_terms\", \"label\"]].head())\n",
        "    print(f\"Total sensitive documents in {name}: {len(sensitive_docs)}\")\n",
        "    print(f\"Relative amount of sensitive documents in {name}: {relative_percentage:.1f}%\\n\")"
      ]
    },
    {
      "cell_type": "markdown",
      "id": "52ttyIVWkR-y",
      "metadata": {
        "id": "52ttyIVWkR-y"
      },
      "source": [
        "Grid search 5 fold cross validation for the tokenization in logistic regression."
      ]
    },
    {
      "cell_type": "code",
      "execution_count": 11,
      "id": "hCaHh-geWxLW",
      "metadata": {
        "colab": {
          "base_uri": "https://localhost:8080/"
        },
        "id": "hCaHh-geWxLW",
        "outputId": "c2e05dfe-4093-4402-b1fb-1e24a29c1b79"
      },
      "outputs": [
        {
          "ename": "KeyboardInterrupt",
          "evalue": "",
          "output_type": "error",
          "traceback": [
            "\u001b[1;31m---------------------------------------------------------------------------\u001b[0m",
            "\u001b[1;31mKeyboardInterrupt\u001b[0m                         Traceback (most recent call last)",
            "Cell \u001b[1;32mIn[11], line 34\u001b[0m\n\u001b[0;32m     31\u001b[0m X_validation, y_validation \u001b[38;5;241m=\u001b[39m validation[\u001b[38;5;124m\"\u001b[39m\u001b[38;5;124mtitle_abstract\u001b[39m\u001b[38;5;124m\"\u001b[39m], validation[\u001b[38;5;124m\"\u001b[39m\u001b[38;5;124mlabel\u001b[39m\u001b[38;5;124m\"\u001b[39m]\n\u001b[0;32m     33\u001b[0m \u001b[38;5;66;03m# Training and search for best parameters\u001b[39;00m\n\u001b[1;32m---> 34\u001b[0m \u001b[43mgrid_search\u001b[49m\u001b[38;5;241;43m.\u001b[39;49m\u001b[43mfit\u001b[49m\u001b[43m(\u001b[49m\u001b[43mX_train\u001b[49m\u001b[43m,\u001b[49m\u001b[43m \u001b[49m\u001b[43my_train\u001b[49m\u001b[43m)\u001b[49m\n\u001b[0;32m     35\u001b[0m best_model \u001b[38;5;241m=\u001b[39m grid_search\u001b[38;5;241m.\u001b[39mbest_estimator_\n\u001b[0;32m     36\u001b[0m \u001b[38;5;28mprint\u001b[39m(\u001b[38;5;124mf\u001b[39m\u001b[38;5;124m\"\u001b[39m\u001b[38;5;124mBest tokenization parameters: \u001b[39m\u001b[38;5;132;01m{\u001b[39;00mgrid_search\u001b[38;5;241m.\u001b[39mbest_params_\u001b[38;5;132;01m}\u001b[39;00m\u001b[38;5;124m\"\u001b[39m)\n",
            "File \u001b[1;32m~\\AppData\\Roaming\\Python\\Python312\\site-packages\\sklearn\\base.py:1389\u001b[0m, in \u001b[0;36m_fit_context.<locals>.decorator.<locals>.wrapper\u001b[1;34m(estimator, *args, **kwargs)\u001b[0m\n\u001b[0;32m   1382\u001b[0m     estimator\u001b[38;5;241m.\u001b[39m_validate_params()\n\u001b[0;32m   1384\u001b[0m \u001b[38;5;28;01mwith\u001b[39;00m config_context(\n\u001b[0;32m   1385\u001b[0m     skip_parameter_validation\u001b[38;5;241m=\u001b[39m(\n\u001b[0;32m   1386\u001b[0m         prefer_skip_nested_validation \u001b[38;5;129;01mor\u001b[39;00m global_skip_validation\n\u001b[0;32m   1387\u001b[0m     )\n\u001b[0;32m   1388\u001b[0m ):\n\u001b[1;32m-> 1389\u001b[0m     \u001b[38;5;28;01mreturn\u001b[39;00m \u001b[43mfit_method\u001b[49m\u001b[43m(\u001b[49m\u001b[43mestimator\u001b[49m\u001b[43m,\u001b[49m\u001b[43m \u001b[49m\u001b[38;5;241;43m*\u001b[39;49m\u001b[43margs\u001b[49m\u001b[43m,\u001b[49m\u001b[43m \u001b[49m\u001b[38;5;241;43m*\u001b[39;49m\u001b[38;5;241;43m*\u001b[39;49m\u001b[43mkwargs\u001b[49m\u001b[43m)\u001b[49m\n",
            "File \u001b[1;32m~\\AppData\\Roaming\\Python\\Python312\\site-packages\\sklearn\\model_selection\\_search.py:1023\u001b[0m, in \u001b[0;36mBaseSearchCV.fit\u001b[1;34m(self, X, y, **params)\u001b[0m\n\u001b[0;32m   1017\u001b[0m     results \u001b[38;5;241m=\u001b[39m \u001b[38;5;28mself\u001b[39m\u001b[38;5;241m.\u001b[39m_format_results(\n\u001b[0;32m   1018\u001b[0m         all_candidate_params, n_splits, all_out, all_more_results\n\u001b[0;32m   1019\u001b[0m     )\n\u001b[0;32m   1021\u001b[0m     \u001b[38;5;28;01mreturn\u001b[39;00m results\n\u001b[1;32m-> 1023\u001b[0m \u001b[38;5;28;43mself\u001b[39;49m\u001b[38;5;241;43m.\u001b[39;49m\u001b[43m_run_search\u001b[49m\u001b[43m(\u001b[49m\u001b[43mevaluate_candidates\u001b[49m\u001b[43m)\u001b[49m\n\u001b[0;32m   1025\u001b[0m \u001b[38;5;66;03m# multimetric is determined here because in the case of a callable\u001b[39;00m\n\u001b[0;32m   1026\u001b[0m \u001b[38;5;66;03m# self.scoring the return type is only known after calling\u001b[39;00m\n\u001b[0;32m   1027\u001b[0m first_test_score \u001b[38;5;241m=\u001b[39m all_out[\u001b[38;5;241m0\u001b[39m][\u001b[38;5;124m\"\u001b[39m\u001b[38;5;124mtest_scores\u001b[39m\u001b[38;5;124m\"\u001b[39m]\n",
            "File \u001b[1;32m~\\AppData\\Roaming\\Python\\Python312\\site-packages\\sklearn\\model_selection\\_search.py:1570\u001b[0m, in \u001b[0;36mGridSearchCV._run_search\u001b[1;34m(self, evaluate_candidates)\u001b[0m\n\u001b[0;32m   1568\u001b[0m \u001b[38;5;28;01mdef\u001b[39;00m\u001b[38;5;250m \u001b[39m\u001b[38;5;21m_run_search\u001b[39m(\u001b[38;5;28mself\u001b[39m, evaluate_candidates):\n\u001b[0;32m   1569\u001b[0m \u001b[38;5;250m    \u001b[39m\u001b[38;5;124;03m\"\"\"Search all candidates in param_grid\"\"\"\u001b[39;00m\n\u001b[1;32m-> 1570\u001b[0m     \u001b[43mevaluate_candidates\u001b[49m\u001b[43m(\u001b[49m\u001b[43mParameterGrid\u001b[49m\u001b[43m(\u001b[49m\u001b[38;5;28;43mself\u001b[39;49m\u001b[38;5;241;43m.\u001b[39;49m\u001b[43mparam_grid\u001b[49m\u001b[43m)\u001b[49m\u001b[43m)\u001b[49m\n",
            "File \u001b[1;32m~\\AppData\\Roaming\\Python\\Python312\\site-packages\\sklearn\\model_selection\\_search.py:969\u001b[0m, in \u001b[0;36mBaseSearchCV.fit.<locals>.evaluate_candidates\u001b[1;34m(candidate_params, cv, more_results)\u001b[0m\n\u001b[0;32m    961\u001b[0m \u001b[38;5;28;01mif\u001b[39;00m \u001b[38;5;28mself\u001b[39m\u001b[38;5;241m.\u001b[39mverbose \u001b[38;5;241m>\u001b[39m \u001b[38;5;241m0\u001b[39m:\n\u001b[0;32m    962\u001b[0m     \u001b[38;5;28mprint\u001b[39m(\n\u001b[0;32m    963\u001b[0m         \u001b[38;5;124m\"\u001b[39m\u001b[38;5;124mFitting \u001b[39m\u001b[38;5;132;01m{0}\u001b[39;00m\u001b[38;5;124m folds for each of \u001b[39m\u001b[38;5;132;01m{1}\u001b[39;00m\u001b[38;5;124m candidates,\u001b[39m\u001b[38;5;124m\"\u001b[39m\n\u001b[0;32m    964\u001b[0m         \u001b[38;5;124m\"\u001b[39m\u001b[38;5;124m totalling \u001b[39m\u001b[38;5;132;01m{2}\u001b[39;00m\u001b[38;5;124m fits\u001b[39m\u001b[38;5;124m\"\u001b[39m\u001b[38;5;241m.\u001b[39mformat(\n\u001b[0;32m    965\u001b[0m             n_splits, n_candidates, n_candidates \u001b[38;5;241m*\u001b[39m n_splits\n\u001b[0;32m    966\u001b[0m         )\n\u001b[0;32m    967\u001b[0m     )\n\u001b[1;32m--> 969\u001b[0m out \u001b[38;5;241m=\u001b[39m \u001b[43mparallel\u001b[49m\u001b[43m(\u001b[49m\n\u001b[0;32m    970\u001b[0m \u001b[43m    \u001b[49m\u001b[43mdelayed\u001b[49m\u001b[43m(\u001b[49m\u001b[43m_fit_and_score\u001b[49m\u001b[43m)\u001b[49m\u001b[43m(\u001b[49m\n\u001b[0;32m    971\u001b[0m \u001b[43m        \u001b[49m\u001b[43mclone\u001b[49m\u001b[43m(\u001b[49m\u001b[43mbase_estimator\u001b[49m\u001b[43m)\u001b[49m\u001b[43m,\u001b[49m\n\u001b[0;32m    972\u001b[0m \u001b[43m        \u001b[49m\u001b[43mX\u001b[49m\u001b[43m,\u001b[49m\n\u001b[0;32m    973\u001b[0m \u001b[43m        \u001b[49m\u001b[43my\u001b[49m\u001b[43m,\u001b[49m\n\u001b[0;32m    974\u001b[0m \u001b[43m        \u001b[49m\u001b[43mtrain\u001b[49m\u001b[38;5;241;43m=\u001b[39;49m\u001b[43mtrain\u001b[49m\u001b[43m,\u001b[49m\n\u001b[0;32m    975\u001b[0m \u001b[43m        \u001b[49m\u001b[43mtest\u001b[49m\u001b[38;5;241;43m=\u001b[39;49m\u001b[43mtest\u001b[49m\u001b[43m,\u001b[49m\n\u001b[0;32m    976\u001b[0m \u001b[43m        \u001b[49m\u001b[43mparameters\u001b[49m\u001b[38;5;241;43m=\u001b[39;49m\u001b[43mparameters\u001b[49m\u001b[43m,\u001b[49m\n\u001b[0;32m    977\u001b[0m \u001b[43m        \u001b[49m\u001b[43msplit_progress\u001b[49m\u001b[38;5;241;43m=\u001b[39;49m\u001b[43m(\u001b[49m\u001b[43msplit_idx\u001b[49m\u001b[43m,\u001b[49m\u001b[43m \u001b[49m\u001b[43mn_splits\u001b[49m\u001b[43m)\u001b[49m\u001b[43m,\u001b[49m\n\u001b[0;32m    978\u001b[0m \u001b[43m        \u001b[49m\u001b[43mcandidate_progress\u001b[49m\u001b[38;5;241;43m=\u001b[39;49m\u001b[43m(\u001b[49m\u001b[43mcand_idx\u001b[49m\u001b[43m,\u001b[49m\u001b[43m \u001b[49m\u001b[43mn_candidates\u001b[49m\u001b[43m)\u001b[49m\u001b[43m,\u001b[49m\n\u001b[0;32m    979\u001b[0m \u001b[43m        \u001b[49m\u001b[38;5;241;43m*\u001b[39;49m\u001b[38;5;241;43m*\u001b[39;49m\u001b[43mfit_and_score_kwargs\u001b[49m\u001b[43m,\u001b[49m\n\u001b[0;32m    980\u001b[0m \u001b[43m    \u001b[49m\u001b[43m)\u001b[49m\n\u001b[0;32m    981\u001b[0m \u001b[43m    \u001b[49m\u001b[38;5;28;43;01mfor\u001b[39;49;00m\u001b[43m \u001b[49m\u001b[43m(\u001b[49m\u001b[43mcand_idx\u001b[49m\u001b[43m,\u001b[49m\u001b[43m \u001b[49m\u001b[43mparameters\u001b[49m\u001b[43m)\u001b[49m\u001b[43m,\u001b[49m\u001b[43m \u001b[49m\u001b[43m(\u001b[49m\u001b[43msplit_idx\u001b[49m\u001b[43m,\u001b[49m\u001b[43m \u001b[49m\u001b[43m(\u001b[49m\u001b[43mtrain\u001b[49m\u001b[43m,\u001b[49m\u001b[43m \u001b[49m\u001b[43mtest\u001b[49m\u001b[43m)\u001b[49m\u001b[43m)\u001b[49m\u001b[43m \u001b[49m\u001b[38;5;129;43;01min\u001b[39;49;00m\u001b[43m \u001b[49m\u001b[43mproduct\u001b[49m\u001b[43m(\u001b[49m\n\u001b[0;32m    982\u001b[0m \u001b[43m        \u001b[49m\u001b[38;5;28;43menumerate\u001b[39;49m\u001b[43m(\u001b[49m\u001b[43mcandidate_params\u001b[49m\u001b[43m)\u001b[49m\u001b[43m,\u001b[49m\n\u001b[0;32m    983\u001b[0m \u001b[43m        \u001b[49m\u001b[38;5;28;43menumerate\u001b[39;49m\u001b[43m(\u001b[49m\u001b[43mcv\u001b[49m\u001b[38;5;241;43m.\u001b[39;49m\u001b[43msplit\u001b[49m\u001b[43m(\u001b[49m\u001b[43mX\u001b[49m\u001b[43m,\u001b[49m\u001b[43m \u001b[49m\u001b[43my\u001b[49m\u001b[43m,\u001b[49m\u001b[43m \u001b[49m\u001b[38;5;241;43m*\u001b[39;49m\u001b[38;5;241;43m*\u001b[39;49m\u001b[43mrouted_params\u001b[49m\u001b[38;5;241;43m.\u001b[39;49m\u001b[43msplitter\u001b[49m\u001b[38;5;241;43m.\u001b[39;49m\u001b[43msplit\u001b[49m\u001b[43m)\u001b[49m\u001b[43m)\u001b[49m\u001b[43m,\u001b[49m\n\u001b[0;32m    984\u001b[0m \u001b[43m    \u001b[49m\u001b[43m)\u001b[49m\n\u001b[0;32m    985\u001b[0m \u001b[43m\u001b[49m\u001b[43m)\u001b[49m\n\u001b[0;32m    987\u001b[0m \u001b[38;5;28;01mif\u001b[39;00m \u001b[38;5;28mlen\u001b[39m(out) \u001b[38;5;241m<\u001b[39m \u001b[38;5;241m1\u001b[39m:\n\u001b[0;32m    988\u001b[0m     \u001b[38;5;28;01mraise\u001b[39;00m \u001b[38;5;167;01mValueError\u001b[39;00m(\n\u001b[0;32m    989\u001b[0m         \u001b[38;5;124m\"\u001b[39m\u001b[38;5;124mNo fits were performed. \u001b[39m\u001b[38;5;124m\"\u001b[39m\n\u001b[0;32m    990\u001b[0m         \u001b[38;5;124m\"\u001b[39m\u001b[38;5;124mWas the CV iterator empty? \u001b[39m\u001b[38;5;124m\"\u001b[39m\n\u001b[0;32m    991\u001b[0m         \u001b[38;5;124m\"\u001b[39m\u001b[38;5;124mWere there no candidates?\u001b[39m\u001b[38;5;124m\"\u001b[39m\n\u001b[0;32m    992\u001b[0m     )\n",
            "File \u001b[1;32m~\\AppData\\Roaming\\Python\\Python312\\site-packages\\sklearn\\utils\\parallel.py:77\u001b[0m, in \u001b[0;36mParallel.__call__\u001b[1;34m(self, iterable)\u001b[0m\n\u001b[0;32m     72\u001b[0m config \u001b[38;5;241m=\u001b[39m get_config()\n\u001b[0;32m     73\u001b[0m iterable_with_config \u001b[38;5;241m=\u001b[39m (\n\u001b[0;32m     74\u001b[0m     (_with_config(delayed_func, config), args, kwargs)\n\u001b[0;32m     75\u001b[0m     \u001b[38;5;28;01mfor\u001b[39;00m delayed_func, args, kwargs \u001b[38;5;129;01min\u001b[39;00m iterable\n\u001b[0;32m     76\u001b[0m )\n\u001b[1;32m---> 77\u001b[0m \u001b[38;5;28;01mreturn\u001b[39;00m \u001b[38;5;28;43msuper\u001b[39;49m\u001b[43m(\u001b[49m\u001b[43m)\u001b[49m\u001b[38;5;241;43m.\u001b[39;49m\u001b[38;5;21;43m__call__\u001b[39;49m\u001b[43m(\u001b[49m\u001b[43miterable_with_config\u001b[49m\u001b[43m)\u001b[49m\n",
            "File \u001b[1;32m~\\AppData\\Roaming\\Python\\Python312\\site-packages\\joblib\\parallel.py:2007\u001b[0m, in \u001b[0;36mParallel.__call__\u001b[1;34m(self, iterable)\u001b[0m\n\u001b[0;32m   2001\u001b[0m \u001b[38;5;66;03m# The first item from the output is blank, but it makes the interpreter\u001b[39;00m\n\u001b[0;32m   2002\u001b[0m \u001b[38;5;66;03m# progress until it enters the Try/Except block of the generator and\u001b[39;00m\n\u001b[0;32m   2003\u001b[0m \u001b[38;5;66;03m# reaches the first `yield` statement. This starts the asynchronous\u001b[39;00m\n\u001b[0;32m   2004\u001b[0m \u001b[38;5;66;03m# dispatch of the tasks to the workers.\u001b[39;00m\n\u001b[0;32m   2005\u001b[0m \u001b[38;5;28mnext\u001b[39m(output)\n\u001b[1;32m-> 2007\u001b[0m \u001b[38;5;28;01mreturn\u001b[39;00m output \u001b[38;5;28;01mif\u001b[39;00m \u001b[38;5;28mself\u001b[39m\u001b[38;5;241m.\u001b[39mreturn_generator \u001b[38;5;28;01melse\u001b[39;00m \u001b[38;5;28;43mlist\u001b[39;49m\u001b[43m(\u001b[49m\u001b[43moutput\u001b[49m\u001b[43m)\u001b[49m\n",
            "File \u001b[1;32m~\\AppData\\Roaming\\Python\\Python312\\site-packages\\joblib\\parallel.py:1650\u001b[0m, in \u001b[0;36mParallel._get_outputs\u001b[1;34m(self, iterator, pre_dispatch)\u001b[0m\n\u001b[0;32m   1647\u001b[0m     \u001b[38;5;28;01myield\u001b[39;00m\n\u001b[0;32m   1649\u001b[0m     \u001b[38;5;28;01mwith\u001b[39;00m \u001b[38;5;28mself\u001b[39m\u001b[38;5;241m.\u001b[39m_backend\u001b[38;5;241m.\u001b[39mretrieval_context():\n\u001b[1;32m-> 1650\u001b[0m         \u001b[38;5;28;01myield from\u001b[39;00m \u001b[38;5;28mself\u001b[39m\u001b[38;5;241m.\u001b[39m_retrieve()\n\u001b[0;32m   1652\u001b[0m \u001b[38;5;28;01mexcept\u001b[39;00m \u001b[38;5;167;01mGeneratorExit\u001b[39;00m:\n\u001b[0;32m   1653\u001b[0m     \u001b[38;5;66;03m# The generator has been garbage collected before being fully\u001b[39;00m\n\u001b[0;32m   1654\u001b[0m     \u001b[38;5;66;03m# consumed. This aborts the remaining tasks if possible and warn\u001b[39;00m\n\u001b[0;32m   1655\u001b[0m     \u001b[38;5;66;03m# the user if necessary.\u001b[39;00m\n\u001b[0;32m   1656\u001b[0m     \u001b[38;5;28mself\u001b[39m\u001b[38;5;241m.\u001b[39m_exception \u001b[38;5;241m=\u001b[39m \u001b[38;5;28;01mTrue\u001b[39;00m\n",
            "File \u001b[1;32m~\\AppData\\Roaming\\Python\\Python312\\site-packages\\joblib\\parallel.py:1762\u001b[0m, in \u001b[0;36mParallel._retrieve\u001b[1;34m(self)\u001b[0m\n\u001b[0;32m   1757\u001b[0m \u001b[38;5;66;03m# If the next job is not ready for retrieval yet, we just wait for\u001b[39;00m\n\u001b[0;32m   1758\u001b[0m \u001b[38;5;66;03m# async callbacks to progress.\u001b[39;00m\n\u001b[0;32m   1759\u001b[0m \u001b[38;5;28;01mif\u001b[39;00m ((\u001b[38;5;28mlen\u001b[39m(\u001b[38;5;28mself\u001b[39m\u001b[38;5;241m.\u001b[39m_jobs) \u001b[38;5;241m==\u001b[39m \u001b[38;5;241m0\u001b[39m) \u001b[38;5;129;01mor\u001b[39;00m\n\u001b[0;32m   1760\u001b[0m     (\u001b[38;5;28mself\u001b[39m\u001b[38;5;241m.\u001b[39m_jobs[\u001b[38;5;241m0\u001b[39m]\u001b[38;5;241m.\u001b[39mget_status(\n\u001b[0;32m   1761\u001b[0m         timeout\u001b[38;5;241m=\u001b[39m\u001b[38;5;28mself\u001b[39m\u001b[38;5;241m.\u001b[39mtimeout) \u001b[38;5;241m==\u001b[39m TASK_PENDING)):\n\u001b[1;32m-> 1762\u001b[0m     \u001b[43mtime\u001b[49m\u001b[38;5;241;43m.\u001b[39;49m\u001b[43msleep\u001b[49m\u001b[43m(\u001b[49m\u001b[38;5;241;43m0.01\u001b[39;49m\u001b[43m)\u001b[49m\n\u001b[0;32m   1763\u001b[0m     \u001b[38;5;28;01mcontinue\u001b[39;00m\n\u001b[0;32m   1765\u001b[0m \u001b[38;5;66;03m# We need to be careful: the job list can be filling up as\u001b[39;00m\n\u001b[0;32m   1766\u001b[0m \u001b[38;5;66;03m# we empty it and Python list are not thread-safe by\u001b[39;00m\n\u001b[0;32m   1767\u001b[0m \u001b[38;5;66;03m# default hence the use of the lock\u001b[39;00m\n",
            "\u001b[1;31mKeyboardInterrupt\u001b[0m: "
          ]
        }
      ],
      "source": [
        "from sklearn.feature_extraction.text import TfidfVectorizer\n",
        "import pandas as pd\n",
        "from sklearn.model_selection import GridSearchCV\n",
        "from sklearn.pipeline import Pipeline\n",
        "from sklearn.linear_model import LogisticRegression\n",
        "\n",
        "# Pipeline creation\n",
        "pipeline = Pipeline([\n",
        "    (\"vectorizer\", TfidfVectorizer(stop_words='english')),\n",
        "    (\"classifier\", LogisticRegression(max_iter=1000, random_state=42, class_weight='balanced'))\n",
        "])\n",
        "\n",
        "# Grid definition\n",
        "param_grid = {\n",
        "    \"vectorizer__max_features\": [1000, 3000, 5000, 10000, None],  # Maximum number of features\n",
        "    \"vectorizer__ngram_range\": [(1, 1), (1, 2)],  # Unigrams or unigrams + bigrams\n",
        "}\n",
        "\n",
        "# Grid Search with 5-cv\n",
        "grid_search = GridSearchCV(\n",
        "    pipeline,\n",
        "    param_grid=param_grid,\n",
        "    scoring=\"f1\",\n",
        "    cv=5    ,\n",
        "    n_jobs=-1\n",
        ")\n",
        "\n",
        "# Division in features and response\n",
        "X_train, y_train = training[\"title_abstract\"], training[\"label\"]\n",
        "X_test, y_test = test[\"title_abstract\"], test[\"label\"]\n",
        "X_validation, y_validation = validation[\"title_abstract\"], validation[\"label\"]\n",
        "\n",
        "# Training and search for best parameters\n",
        "grid_search.fit(X_train, y_train)\n",
        "best_model = grid_search.best_estimator_\n",
        "print(f\"Best tokenization parameters: {grid_search.best_params_}\")"
      ]
    },
    {
      "cell_type": "markdown",
      "id": "7a885IW0lPDO",
      "metadata": {
        "id": "7a885IW0lPDO"
      },
      "source": [
        "Logistic regression without setting the threeshold"
      ]
    },
    {
      "cell_type": "code",
      "execution_count": 15,
      "id": "WGm5QrfVlGb9",
      "metadata": {
        "colab": {
          "base_uri": "https://localhost:8080/",
          "height": 653
        },
        "id": "WGm5QrfVlGb9",
        "outputId": "b7c0046e-2a70-4791-c02a-fdb42bcfab64"
      },
      "outputs": [
        {
          "data": {
            "image/png": "[encoded data removed]",
            "text/plain": [
              "<Figure size 800x600 with 2 Axes>"
            ]
          },
          "metadata": {},
          "output_type": "display_data"
        },
        {
          "name": "stdout",
          "output_type": "stream",
          "text": [
            "Accuracy: 0.9274\n",
            "Precision: 0.6610\n",
            "Recall: 0.8462\n",
            "F1-score: 0.7422\n",
            "F2-score: 0.8013\n"
          ]
        }
      ],
      "source": [
        "from sklearn.metrics import fbeta_score\n",
        "from sklearn.metrics import confusion_matrix\n",
        "import seaborn as sns\n",
        "import matplotlib.pyplot as plt\n",
        "\n",
        "# Creation of the optimal vectorizer\n",
        "vectorizer = TfidfVectorizer(\n",
        "    stop_words='english',  max_features=list(grid_search.best_params_.values())[0], ngram_range=list(grid_search.best_params_.values())[1]\n",
        ")\n",
        "\n",
        "# Applying vectorization to dataset\n",
        "X_train = vectorizer.fit_transform(X_train)\n",
        "X_test = vectorizer.transform(X_test)\n",
        "X_validation = vectorizer.transform(X_validation)\n",
        "\n",
        "# Training the model with the best parameters\n",
        "model = LogisticRegression(max_iter=1000, random_state=42, class_weight='balanced')\n",
        "model.fit(X_train, y_train)\n",
        "\n",
        "# Predictions and evaluation\n",
        "y_pred = model.predict(X_test)\n",
        "\n",
        "# Confusion Matrix\n",
        "cm = confusion_matrix(y_test, y_pred)\n",
        "plt.figure(figsize=(8, 6))\n",
        "sns.heatmap(cm, annot=True, fmt=\"d\", cmap=\"Blues\",\n",
        "            xticklabels=['Not Sensitive', 'Sensitive'],\n",
        "            yticklabels=['Not Sensitive', 'Sensitive'])\n",
        "plt.xlabel(\"Predicted\")\n",
        "plt.ylabel(\"Actual\")\n",
        "plt.title(\"Confusion Matrix\")\n",
        "plt.show()\n",
        "\n",
        "accuracy = accuracy_score(y_test, y_pred)\n",
        "precision = precision_score(y_test, y_pred)\n",
        "recall = recall_score(y_test, y_pred)\n",
        "f1 = f1_score(y_test, y_pred)\n",
        "f2 = fbeta_score(y_test, y_pred, beta=2)\n",
        "\n",
        "\n",
        "print(f\"Accuracy: {accuracy:.4f}\")\n",
        "print(f\"Precision: {precision:.4f}\")\n",
        "print(f\"Recall: {recall:.4f}\") # sensitivity\n",
        "print(f\"F1-score: {f1:.4f}\")\n",
        "print(f\"F2-score: {f2:.4f}\")"
      ]
    },
    {
      "cell_type": "markdown",
      "id": "e32804bf6341b85c",
      "metadata": {
        "id": "e32804bf6341b85c"
      },
      "source": [
        "Optimizing the threshold"
      ]
    },
    {
      "cell_type": "code",
      "execution_count": 16,
      "id": "ac2832a16280a76b",
      "metadata": {
        "colab": {
          "base_uri": "https://localhost:8080/"
        },
        "id": "ac2832a16280a76b",
        "outputId": "5802425d-fc1d-4de6-c90e-f3f63fd448ac"
      },
      "outputs": [
        {
          "name": "stdout",
          "output_type": "stream",
          "text": [
            "Best F1: 0.7382 at threshold 0.66\n"
          ]
        }
      ],
      "source": [
        "# Grid search\n",
        "thresholds = np.arange(0, 1, 0.01)\n",
        "best_f1, best_threshold = 0, 0\n",
        "for t in thresholds:\n",
        "    y_pred_threshold = (model.predict_proba(X_validation)[:, 1] >= t).astype(int)\n",
        "    score = f1_score(y_validation, y_pred_threshold)\n",
        "    if score > best_f1:\n",
        "        best_f1, best_threshold = score, t\n",
        "\n",
        "print(f\"Best F1: {best_f1:.4f} at threshold {best_threshold}\")"
      ]
    },
    {
      "cell_type": "markdown",
      "id": "892c48eb4e3d2c9e",
      "metadata": {
        "id": "892c48eb4e3d2c9e"
      },
      "source": [
        "Applying the best threshold to the original model"
      ]
    },
    {
      "cell_type": "code",
      "execution_count": 17,
      "id": "Y2TRwIcxwulh",
      "metadata": {
        "colab": {
          "base_uri": "https://localhost:8080/",
          "height": 653
        },
        "id": "Y2TRwIcxwulh",
        "outputId": "79a4036d-9159-4450-d20e-41267bd3dc8a"
      },
      "outputs": [
        {
          "data": {
            "image/png": "[encoded data removed]",
            "text/plain": [
              "<Figure size 800x600 with 2 Axes>"
            ]
          },
          "metadata": {},
          "output_type": "display_data"
        },
        {
          "name": "stdout",
          "output_type": "stream",
          "text": [
            "Accuracy: 0.9443\n",
            "Precision: 0.7662\n",
            "Recall: 0.7894\n",
            "F1-score: 0.7777\n",
            "F2-score: 0.7847\n"
          ]
        }
      ],
      "source": [
        "# New threshold\n",
        "y_pred_test = (model.predict_proba(X_test)[:, 1] >= best_threshold).astype(int)\n",
        "\n",
        "# Evaluation\n",
        "cm2 = confusion_matrix(y_test, y_pred_test)\n",
        "plt.figure(figsize=(8, 6))\n",
        "sns.heatmap(cm2, annot=True, fmt=\"d\", cmap=\"Blues\",\n",
        "            xticklabels=['Not Sensitive', 'Sensitive'],\n",
        "            yticklabels=['Not Sensitive', 'Sensitive'])\n",
        "plt.xlabel(\"Predicted\")\n",
        "plt.ylabel(\"Actual\")\n",
        "plt.title(\"Confusion Matrix\")\n",
        "plt.show()\n",
        "\n",
        "accuracy_2 = accuracy_score(y_test, y_pred_test)\n",
        "precision_2 = precision_score(y_test, y_pred_test)\n",
        "recall_2 = recall_score(y_test, y_pred_test)\n",
        "f1_2 = f1_score(y_test, y_pred_test)\n",
        "f2_2 = fbeta_score(y_test, y_pred_test, beta=2)\n",
        "\n",
        "\n",
        "print(f\"Accuracy: {accuracy_2:.4f}\")\n",
        "print(f\"Precision: {precision_2:.4f}\")\n",
        "print(f\"Recall: {recall_2:.4f}\") # sensitivity\n",
        "print(f\"F1-score: {f1_2:.4f}\")\n",
        "print(f\"F2-score: {f2_2:.4f}\")"
      ]
    },
    {
      "cell_type": "markdown",
      "id": "f51c0c6a",
      "metadata": {},
      "source": [
        "# Extrinsic Evaluation \n",
        "- Process: predict sensitivity for all data using the trained model \n",
        "- use test set with relevance and sensitivity labels to "
      ]
    },
    {
      "cell_type": "code",
      "execution_count": null,
      "id": "fb1e319a",
      "metadata": {},
      "outputs": [],
      "source": [
        "#test_predicted[\"Query\"] = 0\n",
        "#\n",
        "#test_predicted = test_predicted.merge(judged_df[[\"Query\", \"MEDLINE identifier\"]], on=\"MEDLINE identifier\", how=\"left\")"
      ]
    },
    {
      "cell_type": "code",
      "execution_count": 12,
      "id": "9228ae71",
      "metadata": {},
      "outputs": [],
      "source": [
        "test_predicted = pd.read_csv(\"logistic_regression_test_predicted.csv\")\n",
        "\n",
        "query_groups = test_predicted.groupby(\"Query\")"
      ]
    },
    {
      "cell_type": "markdown",
      "id": "35eedf1d",
      "metadata": {},
      "source": [
        "we actually need to use the \"query\" documents here\n",
        "but our test set doesnt have a query_id so its hard to assign them  "
      ]
    },
    {
      "cell_type": "code",
      "execution_count": 13,
      "id": "62c6ee7c",
      "metadata": {},
      "outputs": [],
      "source": [
        "test_predicted[\"Query\"] = test_predicted[\"Query\"].astype(int)\n",
        "test_predicted[\"title_abstract\"] = test_predicted[\"title_abstract\"].astype(str)"
      ]
    },
    {
      "cell_type": "markdown",
      "id": "f1b358ff",
      "metadata": {},
      "source": [
        "we assign the query text from judged df to the according entries"
      ]
    },
    {
      "cell_type": "code",
      "execution_count": 14,
      "id": "38de6e1c",
      "metadata": {},
      "outputs": [
        {
          "data": {
            "text/html": [
              "<div>\n",
              "<style scoped>\n",
              "    .dataframe tbody tr th:only-of-type {\n",
              "        vertical-align: middle;\n",
              "    }\n",
              "\n",
              "    .dataframe tbody tr th {\n",
              "        vertical-align: top;\n",
              "    }\n",
              "\n",
              "    .dataframe thead th {\n",
              "        text-align: right;\n",
              "    }\n",
              "</style>\n",
              "<table border=\"1\" class=\"dataframe\">\n",
              "  <thead>\n",
              "    <tr style=\"text-align: right;\">\n",
              "      <th></th>\n",
              "      <th>query_id</th>\n",
              "      <th>query_text</th>\n",
              "    </tr>\n",
              "  </thead>\n",
              "  <tbody>\n",
              "    <tr>\n",
              "      <th>0</th>\n",
              "      <td>1</td>\n",
              "      <td>.B 60 year old menopausal woman without hormon...</td>\n",
              "    </tr>\n",
              "    <tr>\n",
              "      <th>1</th>\n",
              "      <td>2</td>\n",
              "      <td>.B 60 yo male with disseminated intravascular ...</td>\n",
              "    </tr>\n",
              "    <tr>\n",
              "      <th>2</th>\n",
              "      <td>3</td>\n",
              "      <td>.B prolonged prothrombin time anticardiolipin ...</td>\n",
              "    </tr>\n",
              "    <tr>\n",
              "      <th>3</th>\n",
              "      <td>4</td>\n",
              "      <td>.B 88 yo with subdural reviews on subdurals in...</td>\n",
              "    </tr>\n",
              "    <tr>\n",
              "      <th>4</th>\n",
              "      <td>5</td>\n",
              "      <td>.B 58 yo with cancer and hypercalcemia effecti...</td>\n",
              "    </tr>\n",
              "  </tbody>\n",
              "</table>\n",
              "</div>"
            ],
            "text/plain": [
              "   query_id                                         query_text\n",
              "0         1  .B 60 year old menopausal woman without hormon...\n",
              "1         2  .B 60 yo male with disseminated intravascular ...\n",
              "2         3  .B prolonged prothrombin time anticardiolipin ...\n",
              "3         4  .B 88 yo with subdural reviews on subdurals in...\n",
              "4         5  .B 58 yo with cancer and hypercalcemia effecti..."
            ]
          },
          "execution_count": 14,
          "metadata": {},
          "output_type": "execute_result"
        }
      ],
      "source": [
        "def parse_queries_alternate(file_path):\n",
        "    with open(file_path, \"r\") as file:\n",
        "        lines = file.readlines()\n",
        "    \n",
        "    queries = []\n",
        "    current_id = None\n",
        "    current_text = []\n",
        "    \n",
        "    for line in lines:\n",
        "        line = line.strip()\n",
        "        if line.startswith(\".I\"):\n",
        "            if current_id is not None:\n",
        "                queries.append({\"query_id\": current_id, \"query_text\": \" \".join(current_text)})\n",
        "            current_id = int(line.split()[1])\n",
        "            current_text = []\n",
        "        elif line.startswith(\".W\"):\n",
        "            continue  # Skip the .W line\n",
        "        else:\n",
        "            current_text.append(line)\n",
        "    \n",
        "    # Add the last query\n",
        "    if current_id is not None:\n",
        "        queries.append({\"query_id\": current_id, \"query_text\": \" \".join(current_text)})\n",
        "    \n",
        "    return pd.DataFrame(queries)\n",
        "\n",
        "# Parse the files using the alternate function\n",
        "queries1 = parse_queries_alternate(\"C:/Users/timgr/OneDrive/Dokumente/EDD2/WS_24_EDDS_GROUP2/querys/Queries1.txt\")\n",
        "queries2 = parse_queries_alternate(\"C:/Users/timgr/OneDrive/Dokumente/EDD2/WS_24_EDDS_GROUP2/querys/Queries2.txt\")\n",
        "\n",
        "# Combine the queries\n",
        "queries_df = pd.concat([queries1, queries2], ignore_index=True)\n",
        "\n",
        "# Verify\n",
        "queries_df.head()\n"
      ]
    },
    {
      "cell_type": "code",
      "execution_count": 15,
      "id": "6e823a4e",
      "metadata": {},
      "outputs": [],
      "source": [
        "test_predicted = test_predicted.merge(queries_df, left_on=\"Query\", right_on=\"query_id\", how=\"left\")"
      ]
    },
    {
      "cell_type": "markdown",
      "id": "ffd11ad3",
      "metadata": {},
      "source": [
        "we are going to use the TFIDF vectorization to compare the queries with our title and abstract and use this similiarity for the ranking algorithm\n",
        "\n",
        "-> problem is they never mentioned in the paper what they used to compute these scores \n",
        "\n",
        "-> actually there is some stuff in the paper 28 that was cited "
      ]
    },
    {
      "cell_type": "code",
      "execution_count": 27,
      "id": "a5e6f557",
      "metadata": {},
      "outputs": [],
      "source": [
        "from sklearn.feature_extraction.text import TfidfVectorizer\n",
        "from sklearn.metrics.pairwise import cosine_similarity\n",
        "\n",
        "corpus = test_predicted[\"query_text\"].tolist() + test_predicted[\"title_abstract\"].tolist()\n",
        "\n",
        "vectorizer = TfidfVectorizer(stop_words=\"english\")\n",
        "tfidf_matrix = vectorizer.fit_transform(corpus)\n",
        "\n",
        "n_queries = len(test_predicted[\"query_text\"])\n",
        "query_tfidf = tfidf_matrix[:n_queries]\n",
        "doc_tfidf = tfidf_matrix[n_queries:]\n",
        "\n",
        "similarities = cosine_similarity(query_tfidf, doc_tfidf)\n",
        "\n",
        "test_predicted[\"tfidf_similarity\"] = similarities.diagonal()"
      ]
    },
    {
      "cell_type": "code",
      "execution_count": 35,
      "id": "48f4b7f3",
      "metadata": {},
      "outputs": [
        {
          "name": "stdout",
          "output_type": "stream",
          "text": [
            "count    28860.000000\n",
            "mean         0.284187\n",
            "std          0.246498\n",
            "min          0.000000\n",
            "25%          0.097436\n",
            "50%          0.231182\n",
            "75%          0.407963\n",
            "max          2.000000\n",
            "Name: tfidf_similarity, dtype: float64\n"
          ]
        }
      ],
      "source": [
        "print(test_predicted[\"tfidf_similarity\"].describe())"
      ]
    },
    {
      "cell_type": "markdown",
      "id": "38c6b7fc",
      "metadata": {},
      "source": [
        "values need to be between 0 and 2 "
      ]
    },
    {
      "cell_type": "code",
      "execution_count": 33,
      "id": "164fb2bf",
      "metadata": {},
      "outputs": [],
      "source": [
        "from sklearn.preprocessing import MinMaxScaler\n",
        "\n",
        "# Rescale TF-IDF similarities to the range [0, 2]\n",
        "scaler = MinMaxScaler(feature_range=(0, 2))\n",
        "test_predicted[\"tfidf_similarity\"] = scaler.fit_transform(\n",
        "    test_predicted[[\"tfidf_similarity\"]]\n",
        ")"
      ]
    },
    {
      "cell_type": "code",
      "execution_count": 19,
      "id": "31af0673",
      "metadata": {},
      "outputs": [
        {
          "name": "stdout",
          "output_type": "stream",
          "text": [
            "count    28860.000000\n",
            "mean         0.284187\n",
            "std          0.246498\n",
            "min          0.000000\n",
            "25%          0.097436\n",
            "50%          0.231182\n",
            "75%          0.407963\n",
            "max          2.000000\n",
            "Name: tfidf_similarity, dtype: float64\n"
          ]
        }
      ],
      "source": [
        "print(test_predicted[\"tfidf_similarity\"].describe())"
      ]
    },
    {
      "cell_type": "code",
      "execution_count": 30,
      "id": "49da3fa3",
      "metadata": {},
      "outputs": [
        {
          "name": "stdout",
          "output_type": "stream",
          "text": [
            "Learned Weights: [1.]\n"
          ]
        }
      ],
      "source": [
        "print(\"Learned Weights:\", model.coef_)"
      ]
    },
    {
      "cell_type": "code",
      "execution_count": 31,
      "id": "c3dd2513",
      "metadata": {},
      "outputs": [
        {
          "name": "stdout",
          "output_type": "stream",
          "text": [
            "                  tfidf_similarity  Relevance_total\n",
            "tfidf_similarity          1.000000         0.211298\n",
            "Relevance_total           0.211298         1.000000\n"
          ]
        }
      ],
      "source": [
        "correlation = test_predicted[[\"tfidf_similarity\", \"Relevance_total\"]].corr()\n",
        "print(correlation)"
      ]
    },
    {
      "cell_type": "code",
      "execution_count": 20,
      "id": "08c970b1",
      "metadata": {},
      "outputs": [],
      "source": [
        "X_test = test_predicted[\"tfidf_similarity\"].values\n",
        "y_test = test_predicted[\"Relevance_total\"].values\n",
        "qid_test= test_predicted[\"Query\"].values"
      ]
    },
    {
      "cell_type": "code",
      "execution_count": 21,
      "id": "43619a00",
      "metadata": {},
      "outputs": [],
      "source": [
        "X_test = X_test.reshape(-1, 1)"
      ]
    },
    {
      "cell_type": "markdown",
      "id": "baaaeec6",
      "metadata": {},
      "source": [
        "use predefined coordinate ascent and ndcgscorer modules here. They can be found on: https://github.com/rueycheng/CoordinateAscent/blob/master   \n",
        "\n",
        "- we use each queryid and group the according entries to the querys and calculate the average ndcg_score for the entire test set "
      ]
    },
    {
      "cell_type": "code",
      "execution_count": 22,
      "id": "13c6aa46",
      "metadata": {},
      "outputs": [],
      "source": [
        "from coordinate_ascent import CoordinateAscent\n",
        "from metrics import NDCGScorer\n",
        "from scipy.sparse import csr_matrix\n",
        "\n",
        "scorer = NDCGScorer(k=10, idcg_cache={})\n",
        "\n",
        "# Convert X_test to a sparse matrix\n",
        "X_test_sparse = csr_matrix(X_test)\n",
        "\n",
        "model = CoordinateAscent(n_restarts=2, max_iter=25, verbose=True, scorer=scorer).fit(X_test_sparse, y_test, qid_test)\n",
        "\n",
        "pred = model.predict(X_test_sparse, qid_test)\n",
        "\n",
        "\n",
        "test_predicted[\"predicted_scores\"] = pred"
      ]
    },
    {
      "cell_type": "markdown",
      "id": "7eafc832",
      "metadata": {},
      "source": [
        "we filter out sensitive content now"
      ]
    },
    {
      "cell_type": "code",
      "execution_count": 23,
      "id": "56799dd7",
      "metadata": {},
      "outputs": [],
      "source": [
        "test_predicted_filtered = test_predicted[test_predicted[\"predicted_label\"] == 0]"
      ]
    },
    {
      "cell_type": "code",
      "execution_count": 24,
      "id": "309f88f8",
      "metadata": {},
      "outputs": [],
      "source": [
        "X_test_filtered = test_predicted_filtered[\"tfidf_similarity\"].values.reshape(-1, 1)  # Feature matrix\n",
        "y_test_filtered = test_predicted_filtered[\"Relevance_total\"].values  # Relevance labels\n",
        "qid_test_filtered = test_predicted_filtered[\"Query\"].values  # Query IDs\n"
      ]
    },
    {
      "cell_type": "code",
      "execution_count": 25,
      "id": "4710ef32",
      "metadata": {},
      "outputs": [
        {
          "name": "stdout",
          "output_type": "stream",
          "text": [
            "Postfilter Average nCS-DCG@10: 0.3017\n"
          ]
        }
      ],
      "source": [
        "ndcg_score = scorer(y_test_filtered, test_predicted_filtered[\"predicted_scores\"].values, qid_test_filtered).mean()\n",
        "\n",
        "# Print the final score\n",
        "print(f\"Postfilter Average nCS-DCG@10: {ndcg_score:.4f}\")"
      ]
    },
    {
      "cell_type": "markdown",
      "id": "356e957b",
      "metadata": {},
      "source": [
        "in paper 28 they mentioned some other feature meassures such as BM250 and the proximity_count so we are going to try this aswell "
      ]
    },
    {
      "cell_type": "code",
      "execution_count": 36,
      "id": "e099ea70",
      "metadata": {},
      "outputs": [],
      "source": [
        "from rank_bm25 import BM25Okapi\n",
        "\n",
        "documents = [doc.split() for doc in test_predicted[\"title_abstract\"]]\n",
        "queries = [query.split() for query in test_predicted[\"query_text\"]]\n",
        "\n",
        "# Initialize BM25 model\n",
        "bm25 = BM25Okapi(documents)\n",
        "\n",
        "# Compute BM25 scores\n",
        "test_predicted[\"bm25_score\"] = [\n",
        "    bm25.get_scores(query)[i] for i, query in enumerate(queries)\n",
        "]"
      ]
    },
    {
      "cell_type": "code",
      "execution_count": 38,
      "id": "e0b5e2fe",
      "metadata": {},
      "outputs": [],
      "source": [
        "test_predicted.to_csv(\"test_predicted_withBM25.csv\", index=False)"
      ]
    },
    {
      "cell_type": "code",
      "execution_count": 67,
      "id": "c2afcecb",
      "metadata": {},
      "outputs": [],
      "source": [
        "test_predicted = pd.read_csv(\"test_predicted_withBM25.csv\")"
      ]
    },
    {
      "cell_type": "code",
      "execution_count": 68,
      "id": "63b2c964",
      "metadata": {},
      "outputs": [],
      "source": [
        "def proximity_count(query, doc, window=8):\n",
        "    \"\"\"\n",
        "    Counts the number of windows within the document that contain at least one query term.\n",
        "    Optionally, weighs matches based on the number of query terms in the window.\n",
        "    \"\"\"\n",
        "    # Tokenize the query and document\n",
        "    query_terms = query.split()\n",
        "    doc_terms = doc.split()\n",
        "    \n",
        "    count = 0\n",
        "    \n",
        "    # Slide a window over the document terms\n",
        "    for i in range(len(doc_terms) - window + 1):\n",
        "        window_terms = doc_terms[i:i + window]\n",
        "        overlap = set(query_terms) & set(window_terms)  # Intersection of query terms and window terms\n",
        "        count += len(overlap)  # Optionally, count unique query terms in the window\n",
        "    \n",
        "    return count"
      ]
    },
    {
      "cell_type": "code",
      "execution_count": 69,
      "id": "b06bd715",
      "metadata": {},
      "outputs": [
        {
          "name": "stdout",
          "output_type": "stream",
          "text": [
            "count    28860.000000\n",
            "mean        79.681635\n",
            "std         69.239140\n",
            "min          0.000000\n",
            "25%         24.000000\n",
            "50%         68.000000\n",
            "75%        120.000000\n",
            "max        591.000000\n",
            "Name: proximity_count, dtype: float64\n"
          ]
        }
      ],
      "source": [
        "test_predicted[\"proximity_count\"] = test_predicted.apply(\n",
        "    lambda row: proximity_count(row[\"query_text\"], row[\"title_abstract\"]),\n",
        "    axis=1\n",
        ")\n",
        "\n",
        "# Inspect proximity counts\n",
        "print(test_predicted[\"proximity_count\"].describe())"
      ]
    },
    {
      "cell_type": "code",
      "execution_count": 57,
      "id": "ed5200e6",
      "metadata": {},
      "outputs": [],
      "source": [
        "#scaler = MinMaxScaler(feature_range=(0, 2))\n",
        "#test_predicted[\"bm25_score\"] = scaler.fit_transform(\n",
        "#    test_predicted[[\"bm25_score\"]]\n",
        "#)\n",
        "#\n",
        "#test_predicted[\"proximity_count\"] = scaler.fit_transform(\n",
        "#    test_predicted[[\"proximity_count\"]]\n",
        "#)"
      ]
    },
    {
      "cell_type": "code",
      "execution_count": 70,
      "id": "1b99ede1",
      "metadata": {},
      "outputs": [],
      "source": [
        "X_test = test_predicted[[\"bm25_score\", \"proximity_count\"]].values\n",
        "y_test = test_predicted[\"Relevance_total\"].values\n",
        "qid_test= test_predicted[\"Query\"].values"
      ]
    },
    {
      "cell_type": "code",
      "execution_count": 71,
      "id": "7b8cd140",
      "metadata": {},
      "outputs": [
        {
          "name": "stdout",
          "output_type": "stream",
          "text": [
            "1\t1\t0\t0.30458623209584335\n",
            "1\t2\t1\t0.30494094090988433\n",
            "1\t1\t1\t0.30495510080330307\n",
            "1\t2\t0\t0.3049623310198546\n",
            "1\t1\t1\t0.3049945216242214\n",
            "2\t1\t1\t0.30425724608270827\n",
            "2\t2\t0\t0.30458623209584335\n",
            "2\t1\t1\t0.30490724996267293\n",
            "2\t2\t0\t0.30493944056703975\n",
            "2\t1\t1\t0.30495986653831014\n",
            "2\t2\t0\t0.3049945216242214\n"
          ]
        }
      ],
      "source": [
        "scorer = NDCGScorer(k=10, idcg_cache={})\n",
        "\n",
        "# Convert X_test to a sparse matrix\n",
        "X_test_sparse = csr_matrix(X_test)\n",
        "\n",
        "model = CoordinateAscent(n_restarts=2, max_iter=25, verbose=True, scorer=scorer).fit(X_test_sparse, y_test, qid_test)\n",
        "\n",
        "pred = model.predict(X_test_sparse, qid_test)\n",
        "\n",
        "\n",
        "test_predicted[\"predicted_scores\"] = pred"
      ]
    },
    {
      "cell_type": "code",
      "execution_count": 45,
      "id": "6c1f409f",
      "metadata": {},
      "outputs": [],
      "source": [
        "X_test = X_test.reshape(-1, 1)"
      ]
    },
    {
      "cell_type": "code",
      "execution_count": 72,
      "id": "ce392682",
      "metadata": {},
      "outputs": [
        {
          "data": {
            "text/html": [
              "<div>\n",
              "<style scoped>\n",
              "    .dataframe tbody tr th:only-of-type {\n",
              "        vertical-align: middle;\n",
              "    }\n",
              "\n",
              "    .dataframe tbody tr th {\n",
              "        vertical-align: top;\n",
              "    }\n",
              "\n",
              "    .dataframe thead th {\n",
              "        text-align: right;\n",
              "    }\n",
              "</style>\n",
              "<table border=\"1\" class=\"dataframe\">\n",
              "  <thead>\n",
              "    <tr style=\"text-align: right;\">\n",
              "      <th></th>\n",
              "      <th>sequential identifier</th>\n",
              "      <th>MEDLINE identifier</th>\n",
              "      <th>source</th>\n",
              "      <th>mesh_terms</th>\n",
              "      <th>title</th>\n",
              "      <th>publication type</th>\n",
              "      <th>abstract</th>\n",
              "      <th>author</th>\n",
              "      <th>is_relevant_ind</th>\n",
              "      <th>Relevance_total</th>\n",
              "      <th>title_abstract</th>\n",
              "      <th>processed_mesh_terms</th>\n",
              "      <th>predicted_label</th>\n",
              "      <th>Query</th>\n",
              "      <th>query_id</th>\n",
              "      <th>query_text</th>\n",
              "      <th>tfidf_similarity</th>\n",
              "      <th>predicted_scores</th>\n",
              "      <th>bm25_score</th>\n",
              "      <th>proximity_count</th>\n",
              "    </tr>\n",
              "  </thead>\n",
              "  <tbody>\n",
              "    <tr>\n",
              "      <th>0</th>\n",
              "      <td>126</td>\n",
              "      <td>87049457</td>\n",
              "      <td>Br J Anaesth 8703; 58(11):1224-8</td>\n",
              "      <td>Adolescence; Anesthesia, Inhalation/*AE; Child...</td>\n",
              "      <td>Prospective study of liver function in childre...</td>\n",
              "      <td>JOURNAL ARTICLE.</td>\n",
              "      <td>In the 4 years January 1981 to December 1984, ...</td>\n",
              "      <td>Wark H; O'Halloran M; Overton J.</td>\n",
              "      <td>1.0</td>\n",
              "      <td>0.0</td>\n",
              "      <td>Prospective study of liver function in childre...</td>\n",
              "      <td>['adolescence', 'anesthesia, inhalation', 'chi...</td>\n",
              "      <td>0</td>\n",
              "      <td>36</td>\n",
              "      <td>36</td>\n",
              "      <td>.B 39 Y O FEMALE WITH ISOLATED INCREASED SERUM...</td>\n",
              "      <td>0.201692</td>\n",
              "      <td>15.212067</td>\n",
              "      <td>15.999363</td>\n",
              "      <td>8</td>\n",
              "    </tr>\n",
              "    <tr>\n",
              "      <th>1</th>\n",
              "      <td>126</td>\n",
              "      <td>87049457</td>\n",
              "      <td>Br J Anaesth 8703; 58(11):1224-8</td>\n",
              "      <td>Adolescence; Anesthesia, Inhalation/*AE; Child...</td>\n",
              "      <td>Prospective study of liver function in childre...</td>\n",
              "      <td>JOURNAL ARTICLE.</td>\n",
              "      <td>In the 4 years January 1981 to December 1984, ...</td>\n",
              "      <td>Wark H; O'Halloran M; Overton J.</td>\n",
              "      <td>1.0</td>\n",
              "      <td>0.0</td>\n",
              "      <td>Prospective study of liver function in childre...</td>\n",
              "      <td>['adolescence', 'anesthesia, inhalation', 'chi...</td>\n",
              "      <td>0</td>\n",
              "      <td>36</td>\n",
              "      <td>36</td>\n",
              "      <td>.B 39 Y O FEMALE WITH ISOLATED INCREASED SERUM...</td>\n",
              "      <td>0.201692</td>\n",
              "      <td>15.212067</td>\n",
              "      <td>15.999363</td>\n",
              "      <td>8</td>\n",
              "    </tr>\n",
              "    <tr>\n",
              "      <th>2</th>\n",
              "      <td>154</td>\n",
              "      <td>87049559</td>\n",
              "      <td>Br J Obstet Gynaecol 8703; 93(11):1121-3</td>\n",
              "      <td>Female; Human; Pregnancy; Propranolol/TU; Puer...</td>\n",
              "      <td>Postpartum thyroiditis--an underdiagnosed dise...</td>\n",
              "      <td>JOURNAL ARTICLE.</td>\n",
              "      <td>NaN</td>\n",
              "      <td>Ramsay I.</td>\n",
              "      <td>1.0</td>\n",
              "      <td>0.0</td>\n",
              "      <td>Postpartum thyroiditis--an underdiagnosed dise...</td>\n",
              "      <td>['female', 'human', 'pregnancy', 'propranolol'...</td>\n",
              "      <td>1</td>\n",
              "      <td>76</td>\n",
              "      <td>76</td>\n",
              "      <td>.B 70 y o male with thyrotoxicosis radiation i...</td>\n",
              "      <td>0.404109</td>\n",
              "      <td>0.000000</td>\n",
              "      <td>0.000000</td>\n",
              "      <td>0</td>\n",
              "    </tr>\n",
              "    <tr>\n",
              "      <th>3</th>\n",
              "      <td>154</td>\n",
              "      <td>87049559</td>\n",
              "      <td>Br J Obstet Gynaecol 8703; 93(11):1121-3</td>\n",
              "      <td>Female; Human; Pregnancy; Propranolol/TU; Puer...</td>\n",
              "      <td>Postpartum thyroiditis--an underdiagnosed dise...</td>\n",
              "      <td>JOURNAL ARTICLE.</td>\n",
              "      <td>NaN</td>\n",
              "      <td>Ramsay I.</td>\n",
              "      <td>1.0</td>\n",
              "      <td>0.0</td>\n",
              "      <td>Postpartum thyroiditis--an underdiagnosed dise...</td>\n",
              "      <td>['female', 'human', 'pregnancy', 'propranolol'...</td>\n",
              "      <td>1</td>\n",
              "      <td>76</td>\n",
              "      <td>76</td>\n",
              "      <td>.B 70 y o male with thyrotoxicosis radiation i...</td>\n",
              "      <td>0.404109</td>\n",
              "      <td>0.000000</td>\n",
              "      <td>0.000000</td>\n",
              "      <td>0</td>\n",
              "    </tr>\n",
              "    <tr>\n",
              "      <th>4</th>\n",
              "      <td>223</td>\n",
              "      <td>87050621</td>\n",
              "      <td>Br J Urol 8703; 58(5):566</td>\n",
              "      <td>Actinomycosis/*CO; Adult; Case Report; Human; ...</td>\n",
              "      <td>Primary renal actinomycosis in the presence of...</td>\n",
              "      <td>JOURNAL ARTICLE.</td>\n",
              "      <td>NaN</td>\n",
              "      <td>McGibney D; Clarke PB.</td>\n",
              "      <td>1.0</td>\n",
              "      <td>0.0</td>\n",
              "      <td>Primary renal actinomycosis in the presence of...</td>\n",
              "      <td>['actinomycosis', 'adult', 'case report', 'hum...</td>\n",
              "      <td>1</td>\n",
              "      <td>8</td>\n",
              "      <td>8</td>\n",
              "      <td>.B 50 yo man with hypertension and horseshoe k...</td>\n",
              "      <td>1.035635</td>\n",
              "      <td>27.783006</td>\n",
              "      <td>28.928842</td>\n",
              "      <td>6</td>\n",
              "    </tr>\n",
              "    <tr>\n",
              "      <th>...</th>\n",
              "      <td>...</td>\n",
              "      <td>...</td>\n",
              "      <td>...</td>\n",
              "      <td>...</td>\n",
              "      <td>...</td>\n",
              "      <td>...</td>\n",
              "      <td>...</td>\n",
              "      <td>...</td>\n",
              "      <td>...</td>\n",
              "      <td>...</td>\n",
              "      <td>...</td>\n",
              "      <td>...</td>\n",
              "      <td>...</td>\n",
              "      <td>...</td>\n",
              "      <td>...</td>\n",
              "      <td>...</td>\n",
              "      <td>...</td>\n",
              "      <td>...</td>\n",
              "      <td>...</td>\n",
              "      <td>...</td>\n",
              "    </tr>\n",
              "    <tr>\n",
              "      <th>28855</th>\n",
              "      <td>348498</td>\n",
              "      <td>91374975</td>\n",
              "      <td>Kidney Int 9112; 39(6):1225-31</td>\n",
              "      <td>Antibodies/*AN; Antigenic Determinants; Blood ...</td>\n",
              "      <td>Significance of anti-phospholipid antibodies i...</td>\n",
              "      <td>JOURNAL ARTICLE.</td>\n",
              "      <td>Anti-phospholipid antibodies (APA) as markers ...</td>\n",
              "      <td>Frampton G; Hicks J; Cameron JS.</td>\n",
              "      <td>1.0</td>\n",
              "      <td>2.0</td>\n",
              "      <td>Significance of anti-phospholipid antibodies i...</td>\n",
              "      <td>['antibodies', 'antigenic determinants', 'bloo...</td>\n",
              "      <td>1</td>\n",
              "      <td>3</td>\n",
              "      <td>3</td>\n",
              "      <td>.B prolonged prothrombin time anticardiolipin ...</td>\n",
              "      <td>0.118384</td>\n",
              "      <td>7.824255</td>\n",
              "      <td>10.124687</td>\n",
              "      <td>60</td>\n",
              "    </tr>\n",
              "    <tr>\n",
              "      <th>28856</th>\n",
              "      <td>348532</td>\n",
              "      <td>91376240</td>\n",
              "      <td>Public Health Rep 9112; 106(5):523-9</td>\n",
              "      <td>Child Abuse; Child Day Care Centers/*; Child, ...</td>\n",
              "      <td>Requiring formal training in preventive health...</td>\n",
              "      <td>JOURNAL ARTICLE.</td>\n",
              "      <td>The study was a test of the feasibility of man...</td>\n",
              "      <td>Bassoff BZ; Willis WO.</td>\n",
              "      <td>1.0</td>\n",
              "      <td>0.0</td>\n",
              "      <td>Requiring formal training in preventive health...</td>\n",
              "      <td>['child abuse', 'child day care centers', 'chi...</td>\n",
              "      <td>0</td>\n",
              "      <td>96</td>\n",
              "      <td>96</td>\n",
              "      <td>.B 41 yo w f here for new visit healthy otherw...</td>\n",
              "      <td>0.403423</td>\n",
              "      <td>24.173019</td>\n",
              "      <td>34.896830</td>\n",
              "      <td>292</td>\n",
              "    </tr>\n",
              "    <tr>\n",
              "      <th>28857</th>\n",
              "      <td>348532</td>\n",
              "      <td>91376240</td>\n",
              "      <td>Public Health Rep 9112; 106(5):523-9</td>\n",
              "      <td>Child Abuse; Child Day Care Centers/*; Child, ...</td>\n",
              "      <td>Requiring formal training in preventive health...</td>\n",
              "      <td>JOURNAL ARTICLE.</td>\n",
              "      <td>The study was a test of the feasibility of man...</td>\n",
              "      <td>Bassoff BZ; Willis WO.</td>\n",
              "      <td>1.0</td>\n",
              "      <td>0.0</td>\n",
              "      <td>Requiring formal training in preventive health...</td>\n",
              "      <td>['child abuse', 'child day care centers', 'chi...</td>\n",
              "      <td>0</td>\n",
              "      <td>96</td>\n",
              "      <td>96</td>\n",
              "      <td>.B 41 yo w f here for new visit healthy otherw...</td>\n",
              "      <td>0.403423</td>\n",
              "      <td>24.173019</td>\n",
              "      <td>34.896830</td>\n",
              "      <td>292</td>\n",
              "    </tr>\n",
              "    <tr>\n",
              "      <th>28858</th>\n",
              "      <td>348535</td>\n",
              "      <td>91376243</td>\n",
              "      <td>Public Health Rep 9112; 106(5):543-7</td>\n",
              "      <td>Blood Glucose/AN; Diabetes Mellitus/*/BL; Exer...</td>\n",
              "      <td>Association between exercise and other prevent...</td>\n",
              "      <td>JOURNAL ARTICLE.</td>\n",
              "      <td>Two hundred and seventy patients were studied ...</td>\n",
              "      <td>Summerson JH; Konen JC; Dignan MB.</td>\n",
              "      <td>1.0</td>\n",
              "      <td>0.0</td>\n",
              "      <td>Association between exercise and other prevent...</td>\n",
              "      <td>['blood glucose', 'diabetes mellitus', 'exerci...</td>\n",
              "      <td>0</td>\n",
              "      <td>96</td>\n",
              "      <td>96</td>\n",
              "      <td>.B 41 yo w f here for new visit healthy otherw...</td>\n",
              "      <td>0.192107</td>\n",
              "      <td>12.343194</td>\n",
              "      <td>16.119681</td>\n",
              "      <td>99</td>\n",
              "    </tr>\n",
              "    <tr>\n",
              "      <th>28859</th>\n",
              "      <td>348535</td>\n",
              "      <td>91376243</td>\n",
              "      <td>Public Health Rep 9112; 106(5):543-7</td>\n",
              "      <td>Blood Glucose/AN; Diabetes Mellitus/*/BL; Exer...</td>\n",
              "      <td>Association between exercise and other prevent...</td>\n",
              "      <td>JOURNAL ARTICLE.</td>\n",
              "      <td>Two hundred and seventy patients were studied ...</td>\n",
              "      <td>Summerson JH; Konen JC; Dignan MB.</td>\n",
              "      <td>1.0</td>\n",
              "      <td>0.0</td>\n",
              "      <td>Association between exercise and other prevent...</td>\n",
              "      <td>['blood glucose', 'diabetes mellitus', 'exerci...</td>\n",
              "      <td>0</td>\n",
              "      <td>96</td>\n",
              "      <td>96</td>\n",
              "      <td>.B 41 yo w f here for new visit healthy otherw...</td>\n",
              "      <td>0.192107</td>\n",
              "      <td>12.343194</td>\n",
              "      <td>16.119681</td>\n",
              "      <td>99</td>\n",
              "    </tr>\n",
              "  </tbody>\n",
              "</table>\n",
              "<p>28860 rows × 20 columns</p>\n",
              "</div>"
            ],
            "text/plain": [
              "       sequential identifier  MEDLINE identifier  \\\n",
              "0                        126            87049457   \n",
              "1                        126            87049457   \n",
              "2                        154            87049559   \n",
              "3                        154            87049559   \n",
              "4                        223            87050621   \n",
              "...                      ...                 ...   \n",
              "28855                 348498            91374975   \n",
              "28856                 348532            91376240   \n",
              "28857                 348532            91376240   \n",
              "28858                 348535            91376243   \n",
              "28859                 348535            91376243   \n",
              "\n",
              "                                         source  \\\n",
              "0              Br J Anaesth 8703; 58(11):1224-8   \n",
              "1              Br J Anaesth 8703; 58(11):1224-8   \n",
              "2      Br J Obstet Gynaecol 8703; 93(11):1121-3   \n",
              "3      Br J Obstet Gynaecol 8703; 93(11):1121-3   \n",
              "4                     Br J Urol 8703; 58(5):566   \n",
              "...                                         ...   \n",
              "28855            Kidney Int 9112; 39(6):1225-31   \n",
              "28856      Public Health Rep 9112; 106(5):523-9   \n",
              "28857      Public Health Rep 9112; 106(5):523-9   \n",
              "28858      Public Health Rep 9112; 106(5):543-7   \n",
              "28859      Public Health Rep 9112; 106(5):543-7   \n",
              "\n",
              "                                              mesh_terms  \\\n",
              "0      Adolescence; Anesthesia, Inhalation/*AE; Child...   \n",
              "1      Adolescence; Anesthesia, Inhalation/*AE; Child...   \n",
              "2      Female; Human; Pregnancy; Propranolol/TU; Puer...   \n",
              "3      Female; Human; Pregnancy; Propranolol/TU; Puer...   \n",
              "4      Actinomycosis/*CO; Adult; Case Report; Human; ...   \n",
              "...                                                  ...   \n",
              "28855  Antibodies/*AN; Antigenic Determinants; Blood ...   \n",
              "28856  Child Abuse; Child Day Care Centers/*; Child, ...   \n",
              "28857  Child Abuse; Child Day Care Centers/*; Child, ...   \n",
              "28858  Blood Glucose/AN; Diabetes Mellitus/*/BL; Exer...   \n",
              "28859  Blood Glucose/AN; Diabetes Mellitus/*/BL; Exer...   \n",
              "\n",
              "                                                   title  publication type  \\\n",
              "0      Prospective study of liver function in childre...  JOURNAL ARTICLE.   \n",
              "1      Prospective study of liver function in childre...  JOURNAL ARTICLE.   \n",
              "2      Postpartum thyroiditis--an underdiagnosed dise...  JOURNAL ARTICLE.   \n",
              "3      Postpartum thyroiditis--an underdiagnosed dise...  JOURNAL ARTICLE.   \n",
              "4      Primary renal actinomycosis in the presence of...  JOURNAL ARTICLE.   \n",
              "...                                                  ...               ...   \n",
              "28855  Significance of anti-phospholipid antibodies i...  JOURNAL ARTICLE.   \n",
              "28856  Requiring formal training in preventive health...  JOURNAL ARTICLE.   \n",
              "28857  Requiring formal training in preventive health...  JOURNAL ARTICLE.   \n",
              "28858  Association between exercise and other prevent...  JOURNAL ARTICLE.   \n",
              "28859  Association between exercise and other prevent...  JOURNAL ARTICLE.   \n",
              "\n",
              "                                                abstract  \\\n",
              "0      In the 4 years January 1981 to December 1984, ...   \n",
              "1      In the 4 years January 1981 to December 1984, ...   \n",
              "2                                                    NaN   \n",
              "3                                                    NaN   \n",
              "4                                                    NaN   \n",
              "...                                                  ...   \n",
              "28855  Anti-phospholipid antibodies (APA) as markers ...   \n",
              "28856  The study was a test of the feasibility of man...   \n",
              "28857  The study was a test of the feasibility of man...   \n",
              "28858  Two hundred and seventy patients were studied ...   \n",
              "28859  Two hundred and seventy patients were studied ...   \n",
              "\n",
              "                                   author  is_relevant_ind  Relevance_total  \\\n",
              "0        Wark H; O'Halloran M; Overton J.              1.0              0.0   \n",
              "1        Wark H; O'Halloran M; Overton J.              1.0              0.0   \n",
              "2                               Ramsay I.              1.0              0.0   \n",
              "3                               Ramsay I.              1.0              0.0   \n",
              "4                  McGibney D; Clarke PB.              1.0              0.0   \n",
              "...                                   ...              ...              ...   \n",
              "28855    Frampton G; Hicks J; Cameron JS.              1.0              2.0   \n",
              "28856              Bassoff BZ; Willis WO.              1.0              0.0   \n",
              "28857              Bassoff BZ; Willis WO.              1.0              0.0   \n",
              "28858  Summerson JH; Konen JC; Dignan MB.              1.0              0.0   \n",
              "28859  Summerson JH; Konen JC; Dignan MB.              1.0              0.0   \n",
              "\n",
              "                                          title_abstract  \\\n",
              "0      Prospective study of liver function in childre...   \n",
              "1      Prospective study of liver function in childre...   \n",
              "2      Postpartum thyroiditis--an underdiagnosed dise...   \n",
              "3      Postpartum thyroiditis--an underdiagnosed dise...   \n",
              "4      Primary renal actinomycosis in the presence of...   \n",
              "...                                                  ...   \n",
              "28855  Significance of anti-phospholipid antibodies i...   \n",
              "28856  Requiring formal training in preventive health...   \n",
              "28857  Requiring formal training in preventive health...   \n",
              "28858  Association between exercise and other prevent...   \n",
              "28859  Association between exercise and other prevent...   \n",
              "\n",
              "                                    processed_mesh_terms  predicted_label  \\\n",
              "0      ['adolescence', 'anesthesia, inhalation', 'chi...                0   \n",
              "1      ['adolescence', 'anesthesia, inhalation', 'chi...                0   \n",
              "2      ['female', 'human', 'pregnancy', 'propranolol'...                1   \n",
              "3      ['female', 'human', 'pregnancy', 'propranolol'...                1   \n",
              "4      ['actinomycosis', 'adult', 'case report', 'hum...                1   \n",
              "...                                                  ...              ...   \n",
              "28855  ['antibodies', 'antigenic determinants', 'bloo...                1   \n",
              "28856  ['child abuse', 'child day care centers', 'chi...                0   \n",
              "28857  ['child abuse', 'child day care centers', 'chi...                0   \n",
              "28858  ['blood glucose', 'diabetes mellitus', 'exerci...                0   \n",
              "28859  ['blood glucose', 'diabetes mellitus', 'exerci...                0   \n",
              "\n",
              "       Query  query_id                                         query_text  \\\n",
              "0         36        36  .B 39 Y O FEMALE WITH ISOLATED INCREASED SERUM...   \n",
              "1         36        36  .B 39 Y O FEMALE WITH ISOLATED INCREASED SERUM...   \n",
              "2         76        76  .B 70 y o male with thyrotoxicosis radiation i...   \n",
              "3         76        76  .B 70 y o male with thyrotoxicosis radiation i...   \n",
              "4          8         8  .B 50 yo man with hypertension and horseshoe k...   \n",
              "...      ...       ...                                                ...   \n",
              "28855      3         3  .B prolonged prothrombin time anticardiolipin ...   \n",
              "28856     96        96  .B 41 yo w f here for new visit healthy otherw...   \n",
              "28857     96        96  .B 41 yo w f here for new visit healthy otherw...   \n",
              "28858     96        96  .B 41 yo w f here for new visit healthy otherw...   \n",
              "28859     96        96  .B 41 yo w f here for new visit healthy otherw...   \n",
              "\n",
              "       tfidf_similarity  predicted_scores  bm25_score  proximity_count  \n",
              "0              0.201692         15.212067   15.999363                8  \n",
              "1              0.201692         15.212067   15.999363                8  \n",
              "2              0.404109          0.000000    0.000000                0  \n",
              "3              0.404109          0.000000    0.000000                0  \n",
              "4              1.035635         27.783006   28.928842                6  \n",
              "...                 ...               ...         ...              ...  \n",
              "28855          0.118384          7.824255   10.124687               60  \n",
              "28856          0.403423         24.173019   34.896830              292  \n",
              "28857          0.403423         24.173019   34.896830              292  \n",
              "28858          0.192107         12.343194   16.119681               99  \n",
              "28859          0.192107         12.343194   16.119681               99  \n",
              "\n",
              "[28860 rows x 20 columns]"
            ]
          },
          "execution_count": 72,
          "metadata": {},
          "output_type": "execute_result"
        }
      ],
      "source": [
        "test_predicted"
      ]
    },
    {
      "cell_type": "code",
      "execution_count": 73,
      "id": "aa80bee5",
      "metadata": {},
      "outputs": [],
      "source": [
        "test_predicted_filtered= test_predicted[test_predicted[\"predicted_label\"] == 0]\n",
        "\n",
        "X_test_filtered = test_predicted_filtered[[\"bm25_score\", \"proximity_count\"]].values.reshape(-1, 1)  # Feature matrix\n",
        "y_test_filtered = test_predicted_filtered[\"Relevance_total\"].values  # Relevance labels\n",
        "qid_test_filtered = test_predicted_filtered[\"Query\"].values  # Query IDs\n"
      ]
    },
    {
      "cell_type": "code",
      "execution_count": 74,
      "id": "046b0fbc",
      "metadata": {},
      "outputs": [
        {
          "name": "stdout",
          "output_type": "stream",
          "text": [
            "Postfilter Average nCS-DCG@10: 0.3016\n"
          ]
        }
      ],
      "source": [
        "ndcg_score = scorer(y_test_filtered, test_predicted_filtered[\"predicted_scores\"].values, qid_test_filtered).mean()\n",
        "\n",
        "# Print the final score\n",
        "print(f\"Postfilter Average nCS-DCG@10: {ndcg_score:.4f}\")"
      ]
    },
    {
      "cell_type": "markdown",
      "id": "e62e90fa",
      "metadata": {},
      "source": [
        "# "
      ]
    }
  ],
  "metadata": {
    "colab": {
      "provenance": []
    },
    "kernelspec": {
      "display_name": "base",
      "language": "python",
      "name": "python3"
    },
    "language_info": {
      "codemirror_mode": {
        "name": "ipython",
        "version": 3
      },
      "file_extension": ".py",
      "mimetype": "text/x-python",
      "name": "python",
      "nbconvert_exporter": "python",
      "pygments_lexer": "ipython3",
      "version": "3.12.4"
    }
  },
  "nbformat": 4,
  "nbformat_minor": 5
}
