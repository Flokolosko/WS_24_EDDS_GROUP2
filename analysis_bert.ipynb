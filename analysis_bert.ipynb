{
 "cells": [
  {
   "metadata": {},
   "cell_type": "markdown",
   "source": [
    "# 1. Data loading\n",
    "Firstly, we will load the *OHSUMED* data from different files and merge them into one combined dataframe, containing all years from 1987 - 1991. Afterwards, we will load the file where the relevance labels of documents during all five years will be labeled. In the end, we will left join the relevance labels to our main dataframe."
   ],
   "id": "35dc65b72dbf70a2"
  },
  {
   "metadata": {
    "ExecuteTime": {
     "end_time": "2025-01-03T00:23:15.994221Z",
     "start_time": "2025-01-03T00:23:06.733592Z"
    }
   },
   "cell_type": "code",
   "source": [
    "import pandas as pd\n",
    "import numpy as np\n",
    "from sklearn.model_selection import train_test_split\n",
    "from transformers import DistilBertTokenizer\n",
    "from transformers import DistilBertForSequenceClassification\n",
    "from transformers import DistilBertForSequenceClassification, Trainer, TrainingArguments\n",
    "from sklearn.metrics import precision_score, recall_score, f1_score, accuracy_score\n",
    "\n",
    "def parse_ohsumed_file(file_path):\n",
    "    \"\"\"Parses an OHSUMED file into a DataFrame with proper column names.\"\"\"\n",
    "    documents = []\n",
    "    document = {}\n",
    "\n",
    "    # Read the file line by line\n",
    "    with open(file_path, 'r', encoding='utf-8') as f:\n",
    "        for line in f:\n",
    "            line = line.strip()  # Remove extra whitespace\n",
    "\n",
    "            if line.startswith(\".I\"):  # New document identifier\n",
    "                if document:  # If there's an existing document, save it\n",
    "                    documents.append(document)\n",
    "                document = {\"sequential identifier\": line[3:]}  # Initialize a new document\n",
    "\n",
    "            elif line.startswith(\".U\"):  # MEDLINE identifier\n",
    "                document[\"MEDLINE identifier\"] = next(f).strip()\n",
    "\n",
    "            elif line.startswith(\".S\"):  # Source\n",
    "                document[\"source\"] = next(f).strip()\n",
    "\n",
    "            elif line.startswith(\".M\"):  # MeSH terms\n",
    "                document[\"mesh_terms\"] = next(f).strip()\n",
    "\n",
    "            elif line.startswith(\".T\"):  # Title\n",
    "                document[\"title\"] = next(f).strip()\n",
    "\n",
    "            elif line.startswith(\".P\"):  # Publication type\n",
    "                document[\"publication type\"] = next(f).strip()\n",
    "\n",
    "            elif line.startswith(\".W\"):  # Abstract\n",
    "                document[\"abstract\"] = next(f).strip()\n",
    "\n",
    "            elif line.startswith(\".A\"):  # Author\n",
    "                document[\"author\"] = next(f).strip()\n",
    "\n",
    "    # Add the last document if it exists\n",
    "    if document:\n",
    "        documents.append(document)\n",
    "\n",
    "    # Convert the list of documents into a DataFrame\n",
    "    return pd.DataFrame(documents)\n",
    "\n",
    "# File paths for individual files\n",
    "file_87_path = \"./data/ohsumed.87.txt\"\n",
    "file_88_path = \"./data/ohsumed.88.txt\"\n",
    "file_89_path = \"./data/ohsumed.89.txt\"\n",
    "file_90_path = \"./data/ohsumed.90.txt\"\n",
    "file_91_path = \"./data/ohsumed.91.txt\"\n",
    "\n",
    "# Parse each file into its own DataFrame\n",
    "df_ohsumed_87 = parse_ohsumed_file(file_87_path)\n",
    "df_ohsumed_88 = parse_ohsumed_file(file_88_path)\n",
    "df_ohsumed_89 = parse_ohsumed_file(file_89_path)\n",
    "df_ohsumed_90 = parse_ohsumed_file(file_90_path)\n",
    "df_ohsumed_91 = parse_ohsumed_file(file_91_path)"
   ],
   "id": "4e74b25fa83a4bba",
   "outputs": [
    {
     "name": "stderr",
     "output_type": "stream",
     "text": [
      "C:\\Users\\asus9\\AppData\\Local\\Programs\\Python\\Python312\\Lib\\site-packages\\tqdm\\auto.py:21: TqdmWarning: IProgress not found. Please update jupyter and ipywidgets. See https://ipywidgets.readthedocs.io/en/stable/user_install.html\n",
      "  from .autonotebook import tqdm as notebook_tqdm\n"
     ]
    }
   ],
   "execution_count": 1
  },
  {
   "metadata": {
    "ExecuteTime": {
     "end_time": "2025-01-03T00:23:16.293057Z",
     "start_time": "2025-01-03T00:23:16.282917Z"
    }
   },
   "cell_type": "code",
   "source": [
    "# Checking row amount of all years files\n",
    "print(f\"Number of rows in ohsumed.87: {len(df_ohsumed_87)}\")\n",
    "print(f\"Number of rows in ohsumed.88: {len(df_ohsumed_88)}\")\n",
    "print(f\"Number of rows in ohsumed.89: {len(df_ohsumed_89)}\")\n",
    "print(f\"Number of rows in ohsumed.90: {len(df_ohsumed_90)}\")\n",
    "print(f\"Number of rows in ohsumed.91: {len(df_ohsumed_91)}\")"
   ],
   "id": "1f82e80aca558d1d",
   "outputs": [
    {
     "name": "stdout",
     "output_type": "stream",
     "text": [
      "Number of rows in ohsumed.87: 54710\n",
      "Number of rows in ohsumed.88: 70825\n",
      "Number of rows in ohsumed.89: 74869\n",
      "Number of rows in ohsumed.90: 73824\n",
      "Number of rows in ohsumed.91: 74338\n"
     ]
    }
   ],
   "execution_count": 2
  },
  {
   "metadata": {
    "ExecuteTime": {
     "end_time": "2025-01-03T00:23:16.358974Z",
     "start_time": "2025-01-03T00:23:16.303019Z"
    }
   },
   "cell_type": "code",
   "source": [
    "# Combine all DataFrames into a single DataFrame\n",
    "ohsumed_combined_df = pd.concat([df_ohsumed_87, df_ohsumed_88, df_ohsumed_89, df_ohsumed_90, df_ohsumed_91], ignore_index=True)\n",
    "\n",
    "# Print the combined DataFrame's shape (rows and columns). Should be: 348566\n",
    "print(f\"Combined DataFrame shape: {ohsumed_combined_df.shape}\")\n",
    "\n",
    "# Display the first few rows of the combined DataFrame\n",
    "print(ohsumed_combined_df.head())"
   ],
   "id": "e40060215a7b92d8",
   "outputs": [
    {
     "name": "stdout",
     "output_type": "stream",
     "text": [
      "Combined DataFrame shape: (348566, 8)\n",
      "  sequential identifier MEDLINE identifier                             source  \\\n",
      "0                     1           87049087    Am J Emerg Med 8703; 4(6):491-5   \n",
      "1                     2           87049088  Am J Emerg Med 8703; 4(6):496-500   \n",
      "2                     3           87049089    Am J Emerg Med 8703; 4(6):501-3   \n",
      "3                     4           87049090    Am J Emerg Med 8703; 4(6):504-6   \n",
      "4                     5           87049092    Am J Emerg Med 8703; 4(6):511-3   \n",
      "\n",
      "                                          mesh_terms  \\\n",
      "0  Allied Health Personnel/*; Electric Countersho...   \n",
      "1  Antidepressive Agents, Tricyclic/*PO; Arrhythm...   \n",
      "2  Adult; Aircraft/*; Altitude/*; Blood Gas Monit...   \n",
      "3  Adolescence; Adult; Aged; Blood Glucose/*ME; D...   \n",
      "4  Aged; Aged, 80 and over; Case Report; Female; ...   \n",
      "\n",
      "                                               title  publication type  \\\n",
      "0  Refibrillation managed by EMT-Ds: incidence an...  JOURNAL ARTICLE.   \n",
      "1  Tricyclic antidepressant overdose: emergency d...  JOURNAL ARTICLE.   \n",
      "2  Transconjunctival oxygen monitoring as a predi...  JOURNAL ARTICLE.   \n",
      "3  Serum glucose changes after administration of ...  JOURNAL ARTICLE.   \n",
      "4  Nasogastric intubation: morbidity in an asympt...  JOURNAL ARTICLE.   \n",
      "\n",
      "                                            abstract  \\\n",
      "0  Some patients converted from ventricular fibri...   \n",
      "1  There is controversy regarding the appropriate...   \n",
      "2  As the use of helicopters for air transport of...   \n",
      "3  A prospective clinical trial was conducted to ...   \n",
      "4  An unusual case of a misdirected nasogastric t...   \n",
      "\n",
      "                                              author  \n",
      "0                               Stults KR; Brown DD.  \n",
      "1                 Foulke GE; Albertson TE; Walby WF.  \n",
      "2  Shufflebarger C; Jehle D; Cottington E; Martin M.  \n",
      "3                                          Adler PM.  \n",
      "4                                   Gough D; Rust D.  \n"
     ]
    }
   ],
   "execution_count": 3
  },
  {
   "metadata": {
    "ExecuteTime": {
     "end_time": "2025-01-03T00:23:16.421630Z",
     "start_time": "2025-01-03T00:23:16.382103Z"
    }
   },
   "cell_type": "code",
   "source": [
    "# Load the judged file (relevance labeles)\n",
    "judged_df = pd.read_csv(\"./data/judged.txt\", sep=\"\\t\", header=None,\n",
    "                        names=[\"Query\", \"Document-UI\", \"Document-Index\", \"Relevance1\", \"Relevance2\", \"Relevance3\"])\n",
    "\n",
    "print(f\"Loaded judged file with {len(judged_df)} rows\")\n",
    "judged_df.head()"
   ],
   "id": "1caf5d95e1d30c27",
   "outputs": [
    {
     "name": "stdout",
     "output_type": "stream",
     "text": [
      "Loaded judged file with 16140 rows\n"
     ]
    },
    {
     "data": {
      "text/plain": [
       "   Query  Document-UI  Document-Index Relevance1 Relevance2 Relevance3\n",
       "0      1     87097544           40626          d        NaN          d\n",
       "1      1     87153566           11852          n        NaN          n\n",
       "2      1     87157536           12693          d        NaN        NaN\n",
       "3      1     87157537           12694          d        NaN        NaN\n",
       "4      1     87184723           15450          n        NaN        NaN"
      ],
      "text/html": [
       "<div>\n",
       "<style scoped>\n",
       "    .dataframe tbody tr th:only-of-type {\n",
       "        vertical-align: middle;\n",
       "    }\n",
       "\n",
       "    .dataframe tbody tr th {\n",
       "        vertical-align: top;\n",
       "    }\n",
       "\n",
       "    .dataframe thead th {\n",
       "        text-align: right;\n",
       "    }\n",
       "</style>\n",
       "<table border=\"1\" class=\"dataframe\">\n",
       "  <thead>\n",
       "    <tr style=\"text-align: right;\">\n",
       "      <th></th>\n",
       "      <th>Query</th>\n",
       "      <th>Document-UI</th>\n",
       "      <th>Document-Index</th>\n",
       "      <th>Relevance1</th>\n",
       "      <th>Relevance2</th>\n",
       "      <th>Relevance3</th>\n",
       "    </tr>\n",
       "  </thead>\n",
       "  <tbody>\n",
       "    <tr>\n",
       "      <th>0</th>\n",
       "      <td>1</td>\n",
       "      <td>87097544</td>\n",
       "      <td>40626</td>\n",
       "      <td>d</td>\n",
       "      <td>NaN</td>\n",
       "      <td>d</td>\n",
       "    </tr>\n",
       "    <tr>\n",
       "      <th>1</th>\n",
       "      <td>1</td>\n",
       "      <td>87153566</td>\n",
       "      <td>11852</td>\n",
       "      <td>n</td>\n",
       "      <td>NaN</td>\n",
       "      <td>n</td>\n",
       "    </tr>\n",
       "    <tr>\n",
       "      <th>2</th>\n",
       "      <td>1</td>\n",
       "      <td>87157536</td>\n",
       "      <td>12693</td>\n",
       "      <td>d</td>\n",
       "      <td>NaN</td>\n",
       "      <td>NaN</td>\n",
       "    </tr>\n",
       "    <tr>\n",
       "      <th>3</th>\n",
       "      <td>1</td>\n",
       "      <td>87157537</td>\n",
       "      <td>12694</td>\n",
       "      <td>d</td>\n",
       "      <td>NaN</td>\n",
       "      <td>NaN</td>\n",
       "    </tr>\n",
       "    <tr>\n",
       "      <th>4</th>\n",
       "      <td>1</td>\n",
       "      <td>87184723</td>\n",
       "      <td>15450</td>\n",
       "      <td>n</td>\n",
       "      <td>NaN</td>\n",
       "      <td>NaN</td>\n",
       "    </tr>\n",
       "  </tbody>\n",
       "</table>\n",
       "</div>"
      ]
     },
     "execution_count": 4,
     "metadata": {},
     "output_type": "execute_result"
    }
   ],
   "execution_count": 4
  },
  {
   "metadata": {
    "ExecuteTime": {
     "end_time": "2025-01-03T00:23:17.082326Z",
     "start_time": "2025-01-03T00:23:16.492793Z"
    }
   },
   "cell_type": "code",
   "source": [
    "judged_df.rename(columns={\"Document-UI\": \"MEDLINE identifier\"}, inplace=True)\n",
    "\n",
    "# Converting key to string\n",
    "ohsumed_combined_df[\"MEDLINE identifier\"] = ohsumed_combined_df[\"MEDLINE identifier\"].astype(int)\n",
    "judged_df[\"MEDLINE identifier\"] = judged_df[\"MEDLINE identifier\"].astype(int)\n",
    "judged_df[\"is_relevant_ind\"] = 1\n",
    "\n",
    "# Perform the left join\n",
    "merged_df = ohsumed_combined_df.merge(judged_df, on=\"MEDLINE identifier\", how=\"left\")\n",
    "\n",
    "# Display the resulting DataFrame\n",
    "print(f\"Resulting DataFrame shape: {merged_df.shape}\")\n",
    "print(merged_df.head())\n",
    "\n",
    "# Create a new column Relevance_total based on the rules that can be kept showing relevance for all three relevance columns\n",
    "merged_df[\"Relevance_total\"] = np.where(\n",
    "    ~merged_df[\"Relevance1\"].isna(),  # If Relevance1 is not NaN, take it\n",
    "    merged_df[\"Relevance1\"],\n",
    "    np.where(\n",
    "        ~merged_df[\"Relevance2\"].isna(),  # Else if Relevance2 is not NaN, take it\n",
    "        merged_df[\"Relevance2\"],\n",
    "        merged_df[\"Relevance3\"]  # Else take Relevance3\n",
    "    )\n",
    ")\n",
    "merged_df.head(10000)\n",
    "\n",
    "# Drop the specified columns\n",
    "columns_to_drop = [\"Query\", \"Document-Index\", \"Relevance1\", \"Relevance2\", \"Relevance3\"]\n",
    "merged_df.drop(columns=columns_to_drop, inplace=True)\n",
    "# Mapping relevance labels to int\n",
    "relevance_mapping = {'n': 0, 'p': 1, 'd': 2}\n",
    "\n",
    "# Filling mising values in abstract so that BERT can be trained on strings\n",
    "merged_df[\"abstract\"] = merged_df[\"abstract\"].fillna(\"\")\n",
    "\n",
    "# Apply the mapping to the Relevance1 column\n",
    "merged_df[\"Relevance_total\"] = merged_df[\"Relevance_total\"].map(relevance_mapping)\n",
    "\n",
    "# Display the resulting DataFrame\n",
    "print(f\"Resulting DataFrame shape: {merged_df.shape}\")\n",
    "print(merged_df.head())\n",
    "\n",
    "#filtered_df = merged_df[merged_df[\"Relevance1\"].notna()]\n",
    "#\n",
    "## Display the filtered DataFrame\n",
    "#print(f\"Number of rows where Relevance1 is not NaN: {len(filtered_df)}\")\n",
    "#print(filtered_df.head())"
   ],
   "id": "7fd89d53f138fcfc",
   "outputs": [
    {
     "name": "stdout",
     "output_type": "stream",
     "text": [
      "Resulting DataFrame shape: (350276, 14)\n",
      "  sequential identifier  MEDLINE identifier  \\\n",
      "0                     1            87049087   \n",
      "1                     2            87049088   \n",
      "2                     3            87049089   \n",
      "3                     4            87049090   \n",
      "4                     5            87049092   \n",
      "\n",
      "                              source  \\\n",
      "0    Am J Emerg Med 8703; 4(6):491-5   \n",
      "1  Am J Emerg Med 8703; 4(6):496-500   \n",
      "2    Am J Emerg Med 8703; 4(6):501-3   \n",
      "3    Am J Emerg Med 8703; 4(6):504-6   \n",
      "4    Am J Emerg Med 8703; 4(6):511-3   \n",
      "\n",
      "                                          mesh_terms  \\\n",
      "0  Allied Health Personnel/*; Electric Countersho...   \n",
      "1  Antidepressive Agents, Tricyclic/*PO; Arrhythm...   \n",
      "2  Adult; Aircraft/*; Altitude/*; Blood Gas Monit...   \n",
      "3  Adolescence; Adult; Aged; Blood Glucose/*ME; D...   \n",
      "4  Aged; Aged, 80 and over; Case Report; Female; ...   \n",
      "\n",
      "                                               title  publication type  \\\n",
      "0  Refibrillation managed by EMT-Ds: incidence an...  JOURNAL ARTICLE.   \n",
      "1  Tricyclic antidepressant overdose: emergency d...  JOURNAL ARTICLE.   \n",
      "2  Transconjunctival oxygen monitoring as a predi...  JOURNAL ARTICLE.   \n",
      "3  Serum glucose changes after administration of ...  JOURNAL ARTICLE.   \n",
      "4  Nasogastric intubation: morbidity in an asympt...  JOURNAL ARTICLE.   \n",
      "\n",
      "                                            abstract  \\\n",
      "0  Some patients converted from ventricular fibri...   \n",
      "1  There is controversy regarding the appropriate...   \n",
      "2  As the use of helicopters for air transport of...   \n",
      "3  A prospective clinical trial was conducted to ...   \n",
      "4  An unusual case of a misdirected nasogastric t...   \n",
      "\n",
      "                                              author  Query  Document-Index  \\\n",
      "0                               Stults KR; Brown DD.    NaN             NaN   \n",
      "1                 Foulke GE; Albertson TE; Walby WF.    NaN             NaN   \n",
      "2  Shufflebarger C; Jehle D; Cottington E; Martin M.    NaN             NaN   \n",
      "3                                          Adler PM.    NaN             NaN   \n",
      "4                                   Gough D; Rust D.    NaN             NaN   \n",
      "\n",
      "  Relevance1 Relevance2 Relevance3  is_relevant_ind  \n",
      "0        NaN        NaN        NaN              NaN  \n",
      "1        NaN        NaN        NaN              NaN  \n",
      "2        NaN        NaN        NaN              NaN  \n",
      "3        NaN        NaN        NaN              NaN  \n",
      "4        NaN        NaN        NaN              NaN  \n",
      "Resulting DataFrame shape: (350276, 10)\n",
      "  sequential identifier  MEDLINE identifier  \\\n",
      "0                     1            87049087   \n",
      "1                     2            87049088   \n",
      "2                     3            87049089   \n",
      "3                     4            87049090   \n",
      "4                     5            87049092   \n",
      "\n",
      "                              source  \\\n",
      "0    Am J Emerg Med 8703; 4(6):491-5   \n",
      "1  Am J Emerg Med 8703; 4(6):496-500   \n",
      "2    Am J Emerg Med 8703; 4(6):501-3   \n",
      "3    Am J Emerg Med 8703; 4(6):504-6   \n",
      "4    Am J Emerg Med 8703; 4(6):511-3   \n",
      "\n",
      "                                          mesh_terms  \\\n",
      "0  Allied Health Personnel/*; Electric Countersho...   \n",
      "1  Antidepressive Agents, Tricyclic/*PO; Arrhythm...   \n",
      "2  Adult; Aircraft/*; Altitude/*; Blood Gas Monit...   \n",
      "3  Adolescence; Adult; Aged; Blood Glucose/*ME; D...   \n",
      "4  Aged; Aged, 80 and over; Case Report; Female; ...   \n",
      "\n",
      "                                               title  publication type  \\\n",
      "0  Refibrillation managed by EMT-Ds: incidence an...  JOURNAL ARTICLE.   \n",
      "1  Tricyclic antidepressant overdose: emergency d...  JOURNAL ARTICLE.   \n",
      "2  Transconjunctival oxygen monitoring as a predi...  JOURNAL ARTICLE.   \n",
      "3  Serum glucose changes after administration of ...  JOURNAL ARTICLE.   \n",
      "4  Nasogastric intubation: morbidity in an asympt...  JOURNAL ARTICLE.   \n",
      "\n",
      "                                            abstract  \\\n",
      "0  Some patients converted from ventricular fibri...   \n",
      "1  There is controversy regarding the appropriate...   \n",
      "2  As the use of helicopters for air transport of...   \n",
      "3  A prospective clinical trial was conducted to ...   \n",
      "4  An unusual case of a misdirected nasogastric t...   \n",
      "\n",
      "                                              author  is_relevant_ind  \\\n",
      "0                               Stults KR; Brown DD.              NaN   \n",
      "1                 Foulke GE; Albertson TE; Walby WF.              NaN   \n",
      "2  Shufflebarger C; Jehle D; Cottington E; Martin M.              NaN   \n",
      "3                                          Adler PM.              NaN   \n",
      "4                                   Gough D; Rust D.              NaN   \n",
      "\n",
      "   Relevance_total  \n",
      "0              NaN  \n",
      "1              NaN  \n",
      "2              NaN  \n",
      "3              NaN  \n",
      "4              NaN  \n"
     ]
    }
   ],
   "execution_count": 5
  },
  {
   "metadata": {
    "ExecuteTime": {
     "end_time": "2025-01-03T00:23:17.158143Z",
     "start_time": "2025-01-03T00:23:17.137846Z"
    }
   },
   "cell_type": "code",
   "source": [
    "#Checking how many relevant documents are present in merged DF. Expectation: 16140\n",
    "count_is_relevant = merged_df[merged_df[\"is_relevant_ind\"] == 1].shape[0]\n",
    "print(f\"Number of rows where is_relevant_ind = 1: {count_is_relevant}\")"
   ],
   "id": "8661ed6849b71fb0",
   "outputs": [
    {
     "name": "stdout",
     "output_type": "stream",
     "text": [
      "Number of rows where is_relevant_ind = 1: 16140\n"
     ]
    }
   ],
   "execution_count": 6
  },
  {
   "metadata": {},
   "cell_type": "markdown",
   "source": "Now, we have a merged dataframe, containing all document data and also the relevance labeling of the documents. Now we can proceed with splitting the data.",
   "id": "28bf3be64eba304f"
  },
  {
   "cell_type": "code",
   "id": "initial_id",
   "metadata": {
    "collapsed": true,
    "ExecuteTime": {
     "end_time": "2025-01-03T00:23:17.434333Z",
     "start_time": "2025-01-03T00:23:17.216823Z"
    }
   },
   "source": [
    "test = merged_df[merged_df[\"is_relevant_ind\"] == 1]\n",
    "remaining_rows = merged_df[merged_df[\"is_relevant_ind\"] != 1]\n",
    "training, validation = train_test_split(remaining_rows, test_size=0.15, random_state=42)\n",
    "\n",
    "print(f\"Test set size: {len(test)}\")\n",
    "print(f\"Training set size: {len(training)}\")\n",
    "print(f\"Validation set size: {len(validation)}\")"
   ],
   "outputs": [
    {
     "name": "stdout",
     "output_type": "stream",
     "text": [
      "Test set size: 16140\n",
      "Training set size: 284015\n",
      "Validation set size: 50121\n"
     ]
    }
   ],
   "execution_count": 7
  },
  {
   "metadata": {},
   "cell_type": "markdown",
   "source": "Training BERT",
   "id": "d1384fb8e2299c55"
  },
  {
   "metadata": {
    "ExecuteTime": {
     "end_time": "2025-01-03T00:23:17.818083Z",
     "start_time": "2025-01-03T00:23:17.473316Z"
    }
   },
   "cell_type": "code",
   "source": [
    "training.loc[:, 'title_abstract'] = training['title'] + ' ' + training['abstract']\n",
    "test.loc[:, 'title_abstract'] = test['title'] + ' ' + test['abstract']\n",
    "validation.loc[:, 'title_abstract'] = validation['title'] + ' ' + validation['abstract']\n",
    "training.head()\n",
    "test.head()\n",
    "validation.head()"
   ],
   "id": "7295d700bce05d7c",
   "outputs": [
    {
     "name": "stderr",
     "output_type": "stream",
     "text": [
      "C:\\Users\\asus9\\AppData\\Local\\Temp\\ipykernel_25956\\1597357160.py:2: SettingWithCopyWarning: \n",
      "A value is trying to be set on a copy of a slice from a DataFrame.\n",
      "Try using .loc[row_indexer,col_indexer] = value instead\n",
      "\n",
      "See the caveats in the documentation: https://pandas.pydata.org/pandas-docs/stable/user_guide/indexing.html#returning-a-view-versus-a-copy\n",
      "  test.loc[:, 'title_abstract'] = test['title'] + ' ' + test['abstract']\n"
     ]
    },
    {
     "data": {
      "text/plain": [
       "       sequential identifier  MEDLINE identifier  \\\n",
       "33852                  33698            87124329   \n",
       "246463                245341            90357619   \n",
       "307688                306209            91170056   \n",
       "5082                    5058            87097540   \n",
       "120978                120428            88110706   \n",
       "\n",
       "                                       source  \\\n",
       "33852      Am Heart J 8705; 113(2 Pt 1):273-9   \n",
       "246463     Transplant Proc 9011; 22(4):1885-6   \n",
       "307688      J Appl Physiol 9106; 69(6):2091-6   \n",
       "5082    Am J Obstet Gynecol 8704; 156(1):52-6   \n",
       "120978                Chest 8805; 93(2):294-8   \n",
       "\n",
       "                                               mesh_terms  \\\n",
       "33852   Aged; Comparative Study; Electrocardiography/*...   \n",
       "246463  Antibodies, Anti-Idiotypic/*IM; Antibodies, Mo...   \n",
       "307688  Animal; Blood Pressure; Cardiac Output; Hemody...   \n",
       "5082    Apgar Score; Cesarean Section/*; Delivery/*MT;...   \n",
       "120978  Adult; Aged; Arteries/*; Bloodletting/*; Carbo...   \n",
       "\n",
       "                                                    title  publication type  \\\n",
       "33852   Non-Q wave myocardial infarction: recent chang...  JOURNAL ARTICLE.   \n",
       "246463  IgM-anti-IgG antibody as cause of positive B-c...  JOURNAL ARTICLE.   \n",
       "307688  Altered baroreflex function after tail suspens...  JOURNAL ARTICLE.   \n",
       "5082    Randomized management of the second nonvertex ...  JOURNAL ARTICLE.   \n",
       "120978  Single arterial puncture vs arterial cannula f...  JOURNAL ARTICLE.   \n",
       "\n",
       "                                                 abstract  \\\n",
       "33852   A community-wide study of patients hospitalize...   \n",
       "246463                                                      \n",
       "307688  Experiments were performed on conscious chroni...   \n",
       "5082    Sixty twin deliveries after the thirty-fifth g...   \n",
       "120978  In an attempt to find the least invasive, safe...   \n",
       "\n",
       "                                                   author  is_relevant_ind  \\\n",
       "33852          Goldberg RJ; Gore JM; Alpert JS; Dalen JE.              NaN   \n",
       "246463  Terness P; Berteli AJ; Steinitz M; Mytillineos...              NaN   \n",
       "307688                             Brizzee BL; Walker BR.              NaN   \n",
       "5082    Rabinovici J; Barkai G; Reichman B; Serr DM; M...              NaN   \n",
       "120978           Frye M; DiBenedetto R; Lain D; Morgan K.              NaN   \n",
       "\n",
       "        Relevance_total                                     title_abstract  \n",
       "33852               NaN  Non-Q wave myocardial infarction: recent chang...  \n",
       "246463              NaN  IgM-anti-IgG antibody as cause of positive B-c...  \n",
       "307688              NaN  Altered baroreflex function after tail suspens...  \n",
       "5082                NaN  Randomized management of the second nonvertex ...  \n",
       "120978              NaN  Single arterial puncture vs arterial cannula f...  "
      ],
      "text/html": [
       "<div>\n",
       "<style scoped>\n",
       "    .dataframe tbody tr th:only-of-type {\n",
       "        vertical-align: middle;\n",
       "    }\n",
       "\n",
       "    .dataframe tbody tr th {\n",
       "        vertical-align: top;\n",
       "    }\n",
       "\n",
       "    .dataframe thead th {\n",
       "        text-align: right;\n",
       "    }\n",
       "</style>\n",
       "<table border=\"1\" class=\"dataframe\">\n",
       "  <thead>\n",
       "    <tr style=\"text-align: right;\">\n",
       "      <th></th>\n",
       "      <th>sequential identifier</th>\n",
       "      <th>MEDLINE identifier</th>\n",
       "      <th>source</th>\n",
       "      <th>mesh_terms</th>\n",
       "      <th>title</th>\n",
       "      <th>publication type</th>\n",
       "      <th>abstract</th>\n",
       "      <th>author</th>\n",
       "      <th>is_relevant_ind</th>\n",
       "      <th>Relevance_total</th>\n",
       "      <th>title_abstract</th>\n",
       "    </tr>\n",
       "  </thead>\n",
       "  <tbody>\n",
       "    <tr>\n",
       "      <th>33852</th>\n",
       "      <td>33698</td>\n",
       "      <td>87124329</td>\n",
       "      <td>Am Heart J 8705; 113(2 Pt 1):273-9</td>\n",
       "      <td>Aged; Comparative Study; Electrocardiography/*...</td>\n",
       "      <td>Non-Q wave myocardial infarction: recent chang...</td>\n",
       "      <td>JOURNAL ARTICLE.</td>\n",
       "      <td>A community-wide study of patients hospitalize...</td>\n",
       "      <td>Goldberg RJ; Gore JM; Alpert JS; Dalen JE.</td>\n",
       "      <td>NaN</td>\n",
       "      <td>NaN</td>\n",
       "      <td>Non-Q wave myocardial infarction: recent chang...</td>\n",
       "    </tr>\n",
       "    <tr>\n",
       "      <th>246463</th>\n",
       "      <td>245341</td>\n",
       "      <td>90357619</td>\n",
       "      <td>Transplant Proc 9011; 22(4):1885-6</td>\n",
       "      <td>Antibodies, Anti-Idiotypic/*IM; Antibodies, Mo...</td>\n",
       "      <td>IgM-anti-IgG antibody as cause of positive B-c...</td>\n",
       "      <td>JOURNAL ARTICLE.</td>\n",
       "      <td></td>\n",
       "      <td>Terness P; Berteli AJ; Steinitz M; Mytillineos...</td>\n",
       "      <td>NaN</td>\n",
       "      <td>NaN</td>\n",
       "      <td>IgM-anti-IgG antibody as cause of positive B-c...</td>\n",
       "    </tr>\n",
       "    <tr>\n",
       "      <th>307688</th>\n",
       "      <td>306209</td>\n",
       "      <td>91170056</td>\n",
       "      <td>J Appl Physiol 9106; 69(6):2091-6</td>\n",
       "      <td>Animal; Blood Pressure; Cardiac Output; Hemody...</td>\n",
       "      <td>Altered baroreflex function after tail suspens...</td>\n",
       "      <td>JOURNAL ARTICLE.</td>\n",
       "      <td>Experiments were performed on conscious chroni...</td>\n",
       "      <td>Brizzee BL; Walker BR.</td>\n",
       "      <td>NaN</td>\n",
       "      <td>NaN</td>\n",
       "      <td>Altered baroreflex function after tail suspens...</td>\n",
       "    </tr>\n",
       "    <tr>\n",
       "      <th>5082</th>\n",
       "      <td>5058</td>\n",
       "      <td>87097540</td>\n",
       "      <td>Am J Obstet Gynecol 8704; 156(1):52-6</td>\n",
       "      <td>Apgar Score; Cesarean Section/*; Delivery/*MT;...</td>\n",
       "      <td>Randomized management of the second nonvertex ...</td>\n",
       "      <td>JOURNAL ARTICLE.</td>\n",
       "      <td>Sixty twin deliveries after the thirty-fifth g...</td>\n",
       "      <td>Rabinovici J; Barkai G; Reichman B; Serr DM; M...</td>\n",
       "      <td>NaN</td>\n",
       "      <td>NaN</td>\n",
       "      <td>Randomized management of the second nonvertex ...</td>\n",
       "    </tr>\n",
       "    <tr>\n",
       "      <th>120978</th>\n",
       "      <td>120428</td>\n",
       "      <td>88110706</td>\n",
       "      <td>Chest 8805; 93(2):294-8</td>\n",
       "      <td>Adult; Aged; Arteries/*; Bloodletting/*; Carbo...</td>\n",
       "      <td>Single arterial puncture vs arterial cannula f...</td>\n",
       "      <td>JOURNAL ARTICLE.</td>\n",
       "      <td>In an attempt to find the least invasive, safe...</td>\n",
       "      <td>Frye M; DiBenedetto R; Lain D; Morgan K.</td>\n",
       "      <td>NaN</td>\n",
       "      <td>NaN</td>\n",
       "      <td>Single arterial puncture vs arterial cannula f...</td>\n",
       "    </tr>\n",
       "  </tbody>\n",
       "</table>\n",
       "</div>"
      ]
     },
     "execution_count": 8,
     "metadata": {},
     "output_type": "execute_result"
    }
   ],
   "execution_count": 8
  },
  {
   "metadata": {
    "ExecuteTime": {
     "end_time": "2025-01-03T00:23:18.451705Z",
     "start_time": "2025-01-03T00:23:17.902195Z"
    }
   },
   "cell_type": "code",
   "source": [
    "def is_sensitive(mesh_terms):\n",
    "    if isinstance(mesh_terms, str):\n",
    "        return 1 if 'urogenital' in mesh_terms.lower() or 'pregnancy complications' in mesh_terms.lower() else 0\n",
    "    else:\n",
    "        return 0\n",
    "\n",
    "training.loc[:, 'label'] = training['mesh_terms'].apply(is_sensitive)\n",
    "test.loc[:, 'label'] = test['mesh_terms'].apply(is_sensitive)\n",
    "validation.loc[:, 'label'] = validation['mesh_terms'].apply(is_sensitive)\n",
    "training.head()\n",
    "test.head()\n",
    "validation.head()"
   ],
   "id": "110b32793fef0266",
   "outputs": [
    {
     "name": "stderr",
     "output_type": "stream",
     "text": [
      "C:\\Users\\asus9\\AppData\\Local\\Temp\\ipykernel_25956\\2607646665.py:8: SettingWithCopyWarning: \n",
      "A value is trying to be set on a copy of a slice from a DataFrame.\n",
      "Try using .loc[row_indexer,col_indexer] = value instead\n",
      "\n",
      "See the caveats in the documentation: https://pandas.pydata.org/pandas-docs/stable/user_guide/indexing.html#returning-a-view-versus-a-copy\n",
      "  test.loc[:, 'label'] = test['mesh_terms'].apply(is_sensitive)\n"
     ]
    },
    {
     "data": {
      "text/plain": [
       "       sequential identifier  MEDLINE identifier  \\\n",
       "33852                  33698            87124329   \n",
       "246463                245341            90357619   \n",
       "307688                306209            91170056   \n",
       "5082                    5058            87097540   \n",
       "120978                120428            88110706   \n",
       "\n",
       "                                       source  \\\n",
       "33852      Am Heart J 8705; 113(2 Pt 1):273-9   \n",
       "246463     Transplant Proc 9011; 22(4):1885-6   \n",
       "307688      J Appl Physiol 9106; 69(6):2091-6   \n",
       "5082    Am J Obstet Gynecol 8704; 156(1):52-6   \n",
       "120978                Chest 8805; 93(2):294-8   \n",
       "\n",
       "                                               mesh_terms  \\\n",
       "33852   Aged; Comparative Study; Electrocardiography/*...   \n",
       "246463  Antibodies, Anti-Idiotypic/*IM; Antibodies, Mo...   \n",
       "307688  Animal; Blood Pressure; Cardiac Output; Hemody...   \n",
       "5082    Apgar Score; Cesarean Section/*; Delivery/*MT;...   \n",
       "120978  Adult; Aged; Arteries/*; Bloodletting/*; Carbo...   \n",
       "\n",
       "                                                    title  publication type  \\\n",
       "33852   Non-Q wave myocardial infarction: recent chang...  JOURNAL ARTICLE.   \n",
       "246463  IgM-anti-IgG antibody as cause of positive B-c...  JOURNAL ARTICLE.   \n",
       "307688  Altered baroreflex function after tail suspens...  JOURNAL ARTICLE.   \n",
       "5082    Randomized management of the second nonvertex ...  JOURNAL ARTICLE.   \n",
       "120978  Single arterial puncture vs arterial cannula f...  JOURNAL ARTICLE.   \n",
       "\n",
       "                                                 abstract  \\\n",
       "33852   A community-wide study of patients hospitalize...   \n",
       "246463                                                      \n",
       "307688  Experiments were performed on conscious chroni...   \n",
       "5082    Sixty twin deliveries after the thirty-fifth g...   \n",
       "120978  In an attempt to find the least invasive, safe...   \n",
       "\n",
       "                                                   author  is_relevant_ind  \\\n",
       "33852          Goldberg RJ; Gore JM; Alpert JS; Dalen JE.              NaN   \n",
       "246463  Terness P; Berteli AJ; Steinitz M; Mytillineos...              NaN   \n",
       "307688                             Brizzee BL; Walker BR.              NaN   \n",
       "5082    Rabinovici J; Barkai G; Reichman B; Serr DM; M...              NaN   \n",
       "120978           Frye M; DiBenedetto R; Lain D; Morgan K.              NaN   \n",
       "\n",
       "        Relevance_total                                     title_abstract  \\\n",
       "33852               NaN  Non-Q wave myocardial infarction: recent chang...   \n",
       "246463              NaN  IgM-anti-IgG antibody as cause of positive B-c...   \n",
       "307688              NaN  Altered baroreflex function after tail suspens...   \n",
       "5082                NaN  Randomized management of the second nonvertex ...   \n",
       "120978              NaN  Single arterial puncture vs arterial cannula f...   \n",
       "\n",
       "        label  \n",
       "33852       0  \n",
       "246463      0  \n",
       "307688      0  \n",
       "5082        0  \n",
       "120978      0  "
      ],
      "text/html": [
       "<div>\n",
       "<style scoped>\n",
       "    .dataframe tbody tr th:only-of-type {\n",
       "        vertical-align: middle;\n",
       "    }\n",
       "\n",
       "    .dataframe tbody tr th {\n",
       "        vertical-align: top;\n",
       "    }\n",
       "\n",
       "    .dataframe thead th {\n",
       "        text-align: right;\n",
       "    }\n",
       "</style>\n",
       "<table border=\"1\" class=\"dataframe\">\n",
       "  <thead>\n",
       "    <tr style=\"text-align: right;\">\n",
       "      <th></th>\n",
       "      <th>sequential identifier</th>\n",
       "      <th>MEDLINE identifier</th>\n",
       "      <th>source</th>\n",
       "      <th>mesh_terms</th>\n",
       "      <th>title</th>\n",
       "      <th>publication type</th>\n",
       "      <th>abstract</th>\n",
       "      <th>author</th>\n",
       "      <th>is_relevant_ind</th>\n",
       "      <th>Relevance_total</th>\n",
       "      <th>title_abstract</th>\n",
       "      <th>label</th>\n",
       "    </tr>\n",
       "  </thead>\n",
       "  <tbody>\n",
       "    <tr>\n",
       "      <th>33852</th>\n",
       "      <td>33698</td>\n",
       "      <td>87124329</td>\n",
       "      <td>Am Heart J 8705; 113(2 Pt 1):273-9</td>\n",
       "      <td>Aged; Comparative Study; Electrocardiography/*...</td>\n",
       "      <td>Non-Q wave myocardial infarction: recent chang...</td>\n",
       "      <td>JOURNAL ARTICLE.</td>\n",
       "      <td>A community-wide study of patients hospitalize...</td>\n",
       "      <td>Goldberg RJ; Gore JM; Alpert JS; Dalen JE.</td>\n",
       "      <td>NaN</td>\n",
       "      <td>NaN</td>\n",
       "      <td>Non-Q wave myocardial infarction: recent chang...</td>\n",
       "      <td>0</td>\n",
       "    </tr>\n",
       "    <tr>\n",
       "      <th>246463</th>\n",
       "      <td>245341</td>\n",
       "      <td>90357619</td>\n",
       "      <td>Transplant Proc 9011; 22(4):1885-6</td>\n",
       "      <td>Antibodies, Anti-Idiotypic/*IM; Antibodies, Mo...</td>\n",
       "      <td>IgM-anti-IgG antibody as cause of positive B-c...</td>\n",
       "      <td>JOURNAL ARTICLE.</td>\n",
       "      <td></td>\n",
       "      <td>Terness P; Berteli AJ; Steinitz M; Mytillineos...</td>\n",
       "      <td>NaN</td>\n",
       "      <td>NaN</td>\n",
       "      <td>IgM-anti-IgG antibody as cause of positive B-c...</td>\n",
       "      <td>0</td>\n",
       "    </tr>\n",
       "    <tr>\n",
       "      <th>307688</th>\n",
       "      <td>306209</td>\n",
       "      <td>91170056</td>\n",
       "      <td>J Appl Physiol 9106; 69(6):2091-6</td>\n",
       "      <td>Animal; Blood Pressure; Cardiac Output; Hemody...</td>\n",
       "      <td>Altered baroreflex function after tail suspens...</td>\n",
       "      <td>JOURNAL ARTICLE.</td>\n",
       "      <td>Experiments were performed on conscious chroni...</td>\n",
       "      <td>Brizzee BL; Walker BR.</td>\n",
       "      <td>NaN</td>\n",
       "      <td>NaN</td>\n",
       "      <td>Altered baroreflex function after tail suspens...</td>\n",
       "      <td>0</td>\n",
       "    </tr>\n",
       "    <tr>\n",
       "      <th>5082</th>\n",
       "      <td>5058</td>\n",
       "      <td>87097540</td>\n",
       "      <td>Am J Obstet Gynecol 8704; 156(1):52-6</td>\n",
       "      <td>Apgar Score; Cesarean Section/*; Delivery/*MT;...</td>\n",
       "      <td>Randomized management of the second nonvertex ...</td>\n",
       "      <td>JOURNAL ARTICLE.</td>\n",
       "      <td>Sixty twin deliveries after the thirty-fifth g...</td>\n",
       "      <td>Rabinovici J; Barkai G; Reichman B; Serr DM; M...</td>\n",
       "      <td>NaN</td>\n",
       "      <td>NaN</td>\n",
       "      <td>Randomized management of the second nonvertex ...</td>\n",
       "      <td>0</td>\n",
       "    </tr>\n",
       "    <tr>\n",
       "      <th>120978</th>\n",
       "      <td>120428</td>\n",
       "      <td>88110706</td>\n",
       "      <td>Chest 8805; 93(2):294-8</td>\n",
       "      <td>Adult; Aged; Arteries/*; Bloodletting/*; Carbo...</td>\n",
       "      <td>Single arterial puncture vs arterial cannula f...</td>\n",
       "      <td>JOURNAL ARTICLE.</td>\n",
       "      <td>In an attempt to find the least invasive, safe...</td>\n",
       "      <td>Frye M; DiBenedetto R; Lain D; Morgan K.</td>\n",
       "      <td>NaN</td>\n",
       "      <td>NaN</td>\n",
       "      <td>Single arterial puncture vs arterial cannula f...</td>\n",
       "      <td>0</td>\n",
       "    </tr>\n",
       "  </tbody>\n",
       "</table>\n",
       "</div>"
      ]
     },
     "execution_count": 9,
     "metadata": {},
     "output_type": "execute_result"
    }
   ],
   "execution_count": 9
  },
  {
   "metadata": {
    "ExecuteTime": {
     "end_time": "2025-01-03T00:23:25.188858Z",
     "start_time": "2025-01-03T00:23:18.525960Z"
    }
   },
   "cell_type": "code",
   "source": [
    "from datasets import Dataset\n",
    "train_dataset = Dataset.from_pandas(training)\n",
    "test_dataset = Dataset.from_pandas(test)\n",
    "validation_dataset = Dataset.from_pandas(validation)"
   ],
   "id": "60b3fe403a111283",
   "outputs": [],
   "execution_count": 10
  },
  {
   "metadata": {},
   "cell_type": "markdown",
   "source": "Tokenizing sentences",
   "id": "b333bd941a53a20b"
  },
  {
   "metadata": {
    "ExecuteTime": {
     "end_time": "2025-01-03T01:02:21.211707Z",
     "start_time": "2025-01-03T00:23:25.250845Z"
    }
   },
   "cell_type": "code",
   "source": [
    "# Load the tokenizer\n",
    "tokenizer = DistilBertTokenizer.from_pretrained(\"distilbert-base-uncased\")\n",
    "\n",
    "# Tokenize the dataset for BERTs training\n",
    "def tokenize_function(examples):\n",
    "    return tokenizer(examples[\"title_abstract\"], truncation=True, padding=\"max_length\", max_length=512)\n",
    "\n",
    "train_dataset = train_dataset.map(tokenize_function, batched=True)\n",
    "test_dataset = test_dataset.map(tokenize_function, batched=True)\n",
    "validation_dataset = validation_dataset.map(tokenize_function, batched=True)\n",
    "\n",
    "train_dataset = train_dataset.remove_columns([\"title_abstract\"])\n",
    "test_dataset = test_dataset.remove_columns([\"title_abstract\"])\n",
    "validation_dataset = validation_dataset.remove_columns([\"title_abstract\"])\n",
    "\n",
    "train_dataset.set_format(\"torch\")\n",
    "test_dataset.set_format(\"torch\")\n",
    "validation_dataset.set_format(\"torch\")"
   ],
   "id": "2375df8226a5ec6f",
   "outputs": [
    {
     "name": "stderr",
     "output_type": "stream",
     "text": [
      "Map: 100%|██████████| 284015/284015 [29:02<00:00, 163.01 examples/s]\n",
      "Map: 100%|██████████| 16140/16140 [03:02<00:00, 88.34 examples/s]\n",
      "Map: 100%|██████████| 50121/50121 [06:48<00:00, 122.63 examples/s]\n"
     ]
    }
   ],
   "execution_count": 11
  },
  {
   "metadata": {},
   "cell_type": "markdown",
   "source": "Loading DistilBERT",
   "id": "e32804bf6341b85c"
  },
  {
   "metadata": {
    "ExecuteTime": {
     "end_time": "2025-01-03T01:03:01.842828Z",
     "start_time": "2025-01-03T01:03:01.830931Z"
    }
   },
   "cell_type": "code",
   "source": "print(training.columns)",
   "id": "ac2832a16280a76b",
   "outputs": [
    {
     "name": "stdout",
     "output_type": "stream",
     "text": [
      "Index(['sequential identifier', 'MEDLINE identifier', 'source', 'mesh_terms',\n",
      "       'title', 'publication type', 'abstract', 'author', 'is_relevant_ind',\n",
      "       'Relevance_total', 'title_abstract', 'label'],\n",
      "      dtype='object')\n"
     ]
    }
   ],
   "execution_count": 12
  },
  {
   "metadata": {
    "jupyter": {
     "is_executing": true
    },
    "ExecuteTime": {
     "start_time": "2025-01-03T01:03:07.234154Z"
    }
   },
   "cell_type": "code",
   "source": [
    "from transformers import DistilBertForSequenceClassification, Trainer, TrainingArguments\n",
    "from sklearn.metrics import precision_score, recall_score, f1_score, accuracy_score\n",
    "\n",
    "# Define the compute_metrics function\n",
    "def compute_metrics(eval_pred):\n",
    "    logits, labels = eval_pred\n",
    "    predictions = logits.argmax(axis=-1)\n",
    "\n",
    "    precision = precision_score(labels, predictions, average=\"binary\")\n",
    "    recall = recall_score(labels, predictions, average=\"binary\")\n",
    "    f1 = f1_score(labels, predictions, average=\"binary\")\n",
    "    f2 = f1_score(labels, predictions, beta=2, average=\"binary\")\n",
    "    accuracy = accuracy_score(labels, predictions)\n",
    "\n",
    "    return {\n",
    "        \"accuracy\": accuracy,\n",
    "        \"precision\": precision,\n",
    "        \"recall\": recall,\n",
    "        \"f1\": f1,\n",
    "        \"f2\": f2,\n",
    "    }\n",
    "\n",
    "# Load the model with the number of labels\n",
    "num_labels = len(set(training[\"label\"]))\n",
    "model = DistilBertForSequenceClassification.from_pretrained(\n",
    "    \"distilbert-base-uncased\",\n",
    "    num_labels=num_labels\n",
    ")\n",
    "\n",
    "# Define training arguments\n",
    "training_args = TrainingArguments(\n",
    "    output_dir=\"./results\",                  # Directory to save models and checkpoints\n",
    "    evaluation_strategy=\"epoch\",            # Evaluate after each epoch\n",
    "    #learning_rate=2e-5,                     # Learning rate\n",
    "    #per_device_train_batch_size=16,         # Training batch size\n",
    "    #per_device_eval_batch_size=16,          # Evaluation batch size\n",
    "    #num_train_epochs=3,                     # Number of epochs\n",
    "    #weight_decay=0.01,                      # Regularization weight decay\n",
    "    logging_dir=\"./logs\",                   # Directory for logs\n",
    "    logging_steps=10,                       # Log every 10 steps\n",
    "    save_strategy=\"epoch\",                  # Save checkpoint after each epoch\n",
    "    metric_for_best_model=\"f1\",             # Choose F1 as the metric to optimize\n",
    "    #load_best_model_at_end=True             # Load the best model at the end of training\n",
    ")\n",
    "\n",
    "# Defining the Trainer\n",
    "trainer = Trainer(\n",
    "    model=model,                            # Model to train\n",
    "    args=training_args,                     # Training arguments\n",
    "    train_dataset=train_dataset,            # Training dataset\n",
    "    eval_dataset=validation_dataset,        # Validation dataset\n",
    "    tokenizer=tokenizer,                    # Tokenizer for data processing\n",
    "    compute_metrics=compute_metrics         # Function to compute metrics\n",
    ")\n",
    "\n",
    "# Train the model\n",
    "trainer.train()\n",
    "\n",
    "# Evaluate the model on the test dataset\n",
    "test_results = trainer.evaluate(test_dataset)\n",
    "\n",
    "print(\"Test Metrics:\", test_results)\n"
   ],
   "id": "5c7ef9f777cd8f50",
   "outputs": [
    {
     "name": "stderr",
     "output_type": "stream",
     "text": [
      "Some weights of DistilBertForSequenceClassification were not initialized from the model checkpoint at distilbert-base-uncased and are newly initialized: ['classifier.bias', 'classifier.weight', 'pre_classifier.bias', 'pre_classifier.weight']\n",
      "You should probably TRAIN this model on a down-stream task to be able to use it for predictions and inference.\n",
      "C:\\Users\\asus9\\AppData\\Local\\Programs\\Python\\Python312\\Lib\\site-packages\\transformers\\training_args.py:1575: FutureWarning: `evaluation_strategy` is deprecated and will be removed in version 4.46 of 🤗 Transformers. Use `eval_strategy` instead\n",
      "  warnings.warn(\n",
      "C:\\Users\\asus9\\AppData\\Local\\Temp\\ipykernel_25956\\2275935621.py:47: FutureWarning: `tokenizer` is deprecated and will be removed in version 5.0.0 for `Trainer.__init__`. Use `processing_class` instead.\n",
      "  trainer = Trainer(\n",
      "\u001B[34m\u001B[1mwandb\u001B[0m: \u001B[33mWARNING\u001B[0m The `run_name` is currently set to the same value as `TrainingArguments.output_dir`. If this was not intended, please specify a different run name by setting the `TrainingArguments.run_name` parameter.\n",
      "wandb: Using wandb-core as the SDK backend.  Please refer to https://wandb.me/wandb-core for more information.\n",
      "wandb: Currently logged in as: sergejs (sergejs-tu-wien). Use `wandb login --relogin` to force relogin\n"
     ]
    },
    {
     "data": {
      "text/plain": [
       "<IPython.core.display.HTML object>"
      ],
      "text/html": [
       "Tracking run with wandb version 0.19.1"
      ]
     },
     "metadata": {},
     "output_type": "display_data"
    },
    {
     "data": {
      "text/plain": [
       "<IPython.core.display.HTML object>"
      ],
      "text/html": [
       "Run data is saved locally in <code>C:\\Data Science\\Module\\Experiment Design for Data Science\\Exercise\\Exercise_2\\WS_24_EDDS_GROUP2\\wandb\\run-20250103_020315-u4ibgdw5</code>"
      ]
     },
     "metadata": {},
     "output_type": "display_data"
    },
    {
     "data": {
      "text/plain": [
       "<IPython.core.display.HTML object>"
      ],
      "text/html": [
       "Syncing run <strong><a href='https://wandb.ai/sergejs-tu-wien/huggingface/runs/u4ibgdw5' target=\"_blank\">./results</a></strong> to <a href='https://wandb.ai/sergejs-tu-wien/huggingface' target=\"_blank\">Weights & Biases</a> (<a href='https://wandb.me/developer-guide' target=\"_blank\">docs</a>)<br>"
      ]
     },
     "metadata": {},
     "output_type": "display_data"
    },
    {
     "data": {
      "text/plain": [
       "<IPython.core.display.HTML object>"
      ],
      "text/html": [
       " View project at <a href='https://wandb.ai/sergejs-tu-wien/huggingface' target=\"_blank\">https://wandb.ai/sergejs-tu-wien/huggingface</a>"
      ]
     },
     "metadata": {},
     "output_type": "display_data"
    },
    {
     "data": {
      "text/plain": [
       "<IPython.core.display.HTML object>"
      ],
      "text/html": [
       " View run at <a href='https://wandb.ai/sergejs-tu-wien/huggingface/runs/u4ibgdw5' target=\"_blank\">https://wandb.ai/sergejs-tu-wien/huggingface/runs/u4ibgdw5</a>"
      ]
     },
     "metadata": {},
     "output_type": "display_data"
    },
    {
     "data": {
      "text/plain": [
       "<IPython.core.display.HTML object>"
      ],
      "text/html": [
       "\n",
       "    <div>\n",
       "      \n",
       "      <progress value='13' max='106506' style='width:300px; height:20px; vertical-align: middle;'></progress>\n",
       "      [    13/106506 01:39 < 267:54:44, 0.11 it/s, Epoch 0.00/3]\n",
       "    </div>\n",
       "    <table border=\"1\" class=\"dataframe\">\n",
       "  <thead>\n",
       " <tr style=\"text-align: left;\">\n",
       "      <th>Epoch</th>\n",
       "      <th>Training Loss</th>\n",
       "      <th>Validation Loss</th>\n",
       "    </tr>\n",
       "  </thead>\n",
       "  <tbody>\n",
       "  </tbody>\n",
       "</table><p>"
      ]
     },
     "metadata": {},
     "output_type": "display_data"
    }
   ],
   "execution_count": null
  },
  {
   "metadata": {},
   "cell_type": "markdown",
   "source": "Defining trainer and finetuning BERT",
   "id": "892c48eb4e3d2c9e"
  },
  {
   "metadata": {},
   "cell_type": "markdown",
   "source": "Training and evaluating",
   "id": "e5274c60a10fbd90"
  }
 ],
 "metadata": {
  "kernelspec": {
   "display_name": "Python 3",
   "language": "python",
   "name": "python3"
  },
  "language_info": {
   "codemirror_mode": {
    "name": "ipython",
    "version": 2
   },
   "file_extension": ".py",
   "mimetype": "text/x-python",
   "name": "python",
   "nbconvert_exporter": "python",
   "pygments_lexer": "ipython2",
   "version": "2.7.6"
  }
 },
 "nbformat": 4,
 "nbformat_minor": 5
}
