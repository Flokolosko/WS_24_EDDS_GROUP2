{
 "cells": [
  {
   "cell_type": "code",
   "id": "initial_id",
   "metadata": {
    "collapsed": true,
    "ExecuteTime": {
     "end_time": "2024-12-31T15:30:51.916748Z",
     "start_time": "2024-12-31T15:29:28.654851Z"
    }
   },
   "source": [
    "import pandas as pd\n",
    "\n",
    "splits = {'train': 'ohsumed/train-00000-of-00001.parquet', 'test': 'ohsumed/test-00000-of-00001.parquet'}\n",
    "training = pd.read_parquet(\"hf://datasets/community-datasets/ohsumed/\" + splits[\"train\"])\n",
    "test = pd.read_parquet(\"hf://datasets/community-datasets/ohsumed/\" + splits[\"test\"])"
   ],
   "outputs": [
    {
     "name": "stderr",
     "output_type": "stream",
     "text": [
      "'(ReadTimeoutError(\"HTTPSConnectionPool(host='cdn-lfs.hf.co', port=443): Read timed out. (read timeout=10)\"), '(Request ID: 47f8d271-5f3a-4dd7-aa71-8fe5caa6623d)')' thrown while requesting GET https://huggingface.co/datasets/community-datasets/ohsumed/resolve/main/ohsumed/test-00000-of-00001.parquet\n",
      "Retrying in 1s [Retry 1/5].\n"
     ]
    }
   ],
   "execution_count": 7
  },
  {
   "metadata": {},
   "cell_type": "markdown",
   "source": "Training BERT",
   "id": "d1384fb8e2299c55"
  },
  {
   "metadata": {
    "ExecuteTime": {
     "end_time": "2024-12-31T15:30:53.078075Z",
     "start_time": "2024-12-31T15:30:52.045641Z"
    }
   },
   "cell_type": "code",
   "source": [
    "training['title_abstract'] = training['title'] + ' ' + training['abstract']\n",
    "test['title_abstract'] = test['title'] + ' ' + test['abstract']\n",
    "training.head()\n",
    "test.head()"
   ],
   "id": "7295d700bce05d7c",
   "outputs": [
    {
     "data": {
      "text/plain": [
       "   seq_id  medline_ui                                         mesh_terms  \\\n",
       "0   54711    88000001  Acetaldehyde/*ME; Buffers; Catalysis; HEPES/PD...   \n",
       "1   54711    88000002  Adult; Alcohol, Ethyl/*AN; Breath Tests/*; Hum...   \n",
       "2   54711    88000003  Alcoholism/*PP; Animal; Diprenorphine/PD; Fema...   \n",
       "3   54711    88000006  Adult; Alcohol Drinking/*PH; Alcoholism/*BL/CO...   \n",
       "4   54711    88000007  Adult; Alcoholism/*BL; Blood Platelets/*ME; Er...   \n",
       "\n",
       "                                               title  publication_type  \\\n",
       "0  The binding of acetaldehyde to the active site...  JOURNAL ARTICLE.   \n",
       "1  Reductions in breath ethanol readings in norma...  JOURNAL ARTICLE.   \n",
       "2  Does the blockade of opioid receptors influenc...  JOURNAL ARTICLE.   \n",
       "3  Drinkwatchers--description of subjects and eva...  JOURNAL ARTICLE.   \n",
       "4  Platelet affinity for serotonin is increased i...  JOURNAL ARTICLE.   \n",
       "\n",
       "                                            abstract  \\\n",
       "0  Ribonuclease A was reacted with [1-13C,1,2-14C...   \n",
       "1  Blood ethanol concentrations were measured seq...   \n",
       "2  We have tested whether the opioid antagonists ...   \n",
       "3  Clinical examination and measurement of MCV an...   \n",
       "4  The kinetics of 3H serotonin platelet uptake w...   \n",
       "\n",
       "                                              author  \\\n",
       "0                     Mauch TJ; Tuma DJ; Sorrell MF.   \n",
       "1                 Gaylarde PM; Stambuk D; Morgan MY.   \n",
       "2                         Kotlinska J; Langwinski R.   \n",
       "3              Barrison IG; Ruzek J; Murray-Lyon IM.   \n",
       "4  Boismare F; Lhuintre JP; Daoust M; Moore N; Sa...   \n",
       "\n",
       "                               source  \\\n",
       "0  Alcohol Alcohol 8801; 22(2):103-12   \n",
       "1   Alcohol Alcohol 8801; 22(2):113-6   \n",
       "2   Alcohol Alcohol 8801; 22(2):117-9   \n",
       "3  Alcohol Alcohol 8801; 22(2):147-54   \n",
       "4   Alcohol Alcohol 8801; 22(2):155-9   \n",
       "\n",
       "                                      title_abstract  \n",
       "0  The binding of acetaldehyde to the active site...  \n",
       "1  Reductions in breath ethanol readings in norma...  \n",
       "2  Does the blockade of opioid receptors influenc...  \n",
       "3  Drinkwatchers--description of subjects and eva...  \n",
       "4  Platelet affinity for serotonin is increased i...  "
      ],
      "text/html": [
       "<div>\n",
       "<style scoped>\n",
       "    .dataframe tbody tr th:only-of-type {\n",
       "        vertical-align: middle;\n",
       "    }\n",
       "\n",
       "    .dataframe tbody tr th {\n",
       "        vertical-align: top;\n",
       "    }\n",
       "\n",
       "    .dataframe thead th {\n",
       "        text-align: right;\n",
       "    }\n",
       "</style>\n",
       "<table border=\"1\" class=\"dataframe\">\n",
       "  <thead>\n",
       "    <tr style=\"text-align: right;\">\n",
       "      <th></th>\n",
       "      <th>seq_id</th>\n",
       "      <th>medline_ui</th>\n",
       "      <th>mesh_terms</th>\n",
       "      <th>title</th>\n",
       "      <th>publication_type</th>\n",
       "      <th>abstract</th>\n",
       "      <th>author</th>\n",
       "      <th>source</th>\n",
       "      <th>title_abstract</th>\n",
       "    </tr>\n",
       "  </thead>\n",
       "  <tbody>\n",
       "    <tr>\n",
       "      <th>0</th>\n",
       "      <td>54711</td>\n",
       "      <td>88000001</td>\n",
       "      <td>Acetaldehyde/*ME; Buffers; Catalysis; HEPES/PD...</td>\n",
       "      <td>The binding of acetaldehyde to the active site...</td>\n",
       "      <td>JOURNAL ARTICLE.</td>\n",
       "      <td>Ribonuclease A was reacted with [1-13C,1,2-14C...</td>\n",
       "      <td>Mauch TJ; Tuma DJ; Sorrell MF.</td>\n",
       "      <td>Alcohol Alcohol 8801; 22(2):103-12</td>\n",
       "      <td>The binding of acetaldehyde to the active site...</td>\n",
       "    </tr>\n",
       "    <tr>\n",
       "      <th>1</th>\n",
       "      <td>54711</td>\n",
       "      <td>88000002</td>\n",
       "      <td>Adult; Alcohol, Ethyl/*AN; Breath Tests/*; Hum...</td>\n",
       "      <td>Reductions in breath ethanol readings in norma...</td>\n",
       "      <td>JOURNAL ARTICLE.</td>\n",
       "      <td>Blood ethanol concentrations were measured seq...</td>\n",
       "      <td>Gaylarde PM; Stambuk D; Morgan MY.</td>\n",
       "      <td>Alcohol Alcohol 8801; 22(2):113-6</td>\n",
       "      <td>Reductions in breath ethanol readings in norma...</td>\n",
       "    </tr>\n",
       "    <tr>\n",
       "      <th>2</th>\n",
       "      <td>54711</td>\n",
       "      <td>88000003</td>\n",
       "      <td>Alcoholism/*PP; Animal; Diprenorphine/PD; Fema...</td>\n",
       "      <td>Does the blockade of opioid receptors influenc...</td>\n",
       "      <td>JOURNAL ARTICLE.</td>\n",
       "      <td>We have tested whether the opioid antagonists ...</td>\n",
       "      <td>Kotlinska J; Langwinski R.</td>\n",
       "      <td>Alcohol Alcohol 8801; 22(2):117-9</td>\n",
       "      <td>Does the blockade of opioid receptors influenc...</td>\n",
       "    </tr>\n",
       "    <tr>\n",
       "      <th>3</th>\n",
       "      <td>54711</td>\n",
       "      <td>88000006</td>\n",
       "      <td>Adult; Alcohol Drinking/*PH; Alcoholism/*BL/CO...</td>\n",
       "      <td>Drinkwatchers--description of subjects and eva...</td>\n",
       "      <td>JOURNAL ARTICLE.</td>\n",
       "      <td>Clinical examination and measurement of MCV an...</td>\n",
       "      <td>Barrison IG; Ruzek J; Murray-Lyon IM.</td>\n",
       "      <td>Alcohol Alcohol 8801; 22(2):147-54</td>\n",
       "      <td>Drinkwatchers--description of subjects and eva...</td>\n",
       "    </tr>\n",
       "    <tr>\n",
       "      <th>4</th>\n",
       "      <td>54711</td>\n",
       "      <td>88000007</td>\n",
       "      <td>Adult; Alcoholism/*BL; Blood Platelets/*ME; Er...</td>\n",
       "      <td>Platelet affinity for serotonin is increased i...</td>\n",
       "      <td>JOURNAL ARTICLE.</td>\n",
       "      <td>The kinetics of 3H serotonin platelet uptake w...</td>\n",
       "      <td>Boismare F; Lhuintre JP; Daoust M; Moore N; Sa...</td>\n",
       "      <td>Alcohol Alcohol 8801; 22(2):155-9</td>\n",
       "      <td>Platelet affinity for serotonin is increased i...</td>\n",
       "    </tr>\n",
       "  </tbody>\n",
       "</table>\n",
       "</div>"
      ]
     },
     "execution_count": 8,
     "metadata": {},
     "output_type": "execute_result"
    }
   ],
   "execution_count": 8
  },
  {
   "metadata": {
    "ExecuteTime": {
     "end_time": "2024-12-31T15:30:55.342254Z",
     "start_time": "2024-12-31T15:30:53.253366Z"
    }
   },
   "cell_type": "code",
   "source": [
    "def is_sensitive(mesh_terms):\n",
    "    if isinstance(mesh_terms, str):\n",
    "        return 1 if 'urogenital' in mesh_terms.lower() or 'pregnancy complications' in mesh_terms.lower() else 0\n",
    "    else:\n",
    "        return 0\n",
    "\n",
    "training['label'] = training['mesh_terms'].apply(is_sensitive)\n",
    "test['label'] = test['mesh_terms'].apply(is_sensitive)\n",
    "training.head()\n",
    "test.head()"
   ],
   "id": "110b32793fef0266",
   "outputs": [],
   "execution_count": 9
  },
  {
   "metadata": {
    "ExecuteTime": {
     "end_time": "2024-12-31T15:31:21.180207Z",
     "start_time": "2024-12-31T15:30:55.454409Z"
    }
   },
   "cell_type": "code",
   "source": [
    "from datasets import Dataset\n",
    "train_dataset = Dataset.from_pandas(training)\n",
    "test_dataset = Dataset.from_pandas(test)"
   ],
   "id": "60b3fe403a111283",
   "outputs": [],
   "execution_count": 10
  },
  {
   "metadata": {},
   "cell_type": "markdown",
   "source": "Tokenizing sentences",
   "id": "b333bd941a53a20b"
  },
  {
   "metadata": {
    "ExecuteTime": {
     "end_time": "2024-12-31T15:53:28.304466Z",
     "start_time": "2024-12-31T15:31:21.390234Z"
    }
   },
   "cell_type": "code",
   "source": [
    "from transformers import DistilBertTokenizer\n",
    "\n",
    "# Load the tokenizer\n",
    "tokenizer = DistilBertTokenizer.from_pretrained(\"distilbert-base-uncased\")\n",
    "\n",
    "# Tokenize the dataset for BERTs training\n",
    "def tokenize_function(examples):\n",
    "    return tokenizer(examples[\"title_abstract\"], truncation=True, padding=\"max_length\", max_length=512)\n",
    "\n",
    "train_dataset = train_dataset.map(tokenize_function, batched=True)\n",
    "test_dataset = test_dataset.map(tokenize_function, batched=True)\n",
    "train_dataset = train_dataset.remove_columns([\"title_abstract\"])\n",
    "test_dataset = test_dataset.remove_columns([\"title_abstract\"])\n",
    "train_dataset.set_format(\"torch\")\n",
    "test_dataset.set_format(\"torch\")"
   ],
   "id": "2375df8226a5ec6f",
   "outputs": [
    {
     "name": "stderr",
     "output_type": "stream",
     "text": [
      "Map: 100%|██████████| 54709/54709 [03:48<00:00, 239.17 examples/s]\n",
      "Map: 100%|██████████| 293855/293855 [18:16<00:00, 268.04 examples/s]\n"
     ]
    }
   ],
   "execution_count": 11
  },
  {
   "metadata": {},
   "cell_type": "markdown",
   "source": "Loading DistilBERT",
   "id": "e32804bf6341b85c"
  },
  {
   "metadata": {
    "ExecuteTime": {
     "end_time": "2024-12-31T15:53:28.355365Z",
     "start_time": "2024-12-31T15:53:28.346636Z"
    }
   },
   "cell_type": "code",
   "source": "print(training.columns)",
   "id": "ac2832a16280a76b",
   "outputs": [
    {
     "name": "stdout",
     "output_type": "stream",
     "text": [
      "Index(['seq_id', 'medline_ui', 'mesh_terms', 'title', 'publication_type',\n",
      "       'abstract', 'author', 'source', 'title_abstract', 'label'],\n",
      "      dtype='object')\n"
     ]
    }
   ],
   "execution_count": 12
  },
  {
   "metadata": {
    "ExecuteTime": {
     "end_time": "2024-12-31T15:54:20.877262Z",
     "start_time": "2024-12-31T15:53:28.416436Z"
    }
   },
   "cell_type": "code",
   "source": [
    "from transformers import DistilBertForSequenceClassification\n",
    "\n",
    "# Load the model with the number of labels\n",
    "num_labels = len(set(training[\"label\"]))\n",
    "model = DistilBertForSequenceClassification.from_pretrained(\"distilbert-base-uncased\", num_labels=num_labels)"
   ],
   "id": "5c7ef9f777cd8f50",
   "outputs": [
    {
     "name": "stderr",
     "output_type": "stream",
     "text": [
      "C:\\Users\\asus9\\AppData\\Local\\Programs\\Python\\Python312\\Lib\\site-packages\\huggingface_hub\\file_download.py:139: UserWarning: `huggingface_hub` cache-system uses symlinks by default to efficiently store duplicated files but your machine does not support them in C:\\Users\\asus9\\.cache\\huggingface\\hub\\models--distilbert-base-uncased. Caching files will still work but in a degraded version that might require more space on your disk. This warning can be disabled by setting the `HF_HUB_DISABLE_SYMLINKS_WARNING` environment variable. For more details, see https://huggingface.co/docs/huggingface_hub/how-to-cache#limitations.\n",
      "To support symlinks on Windows, you either need to activate Developer Mode or to run Python as an administrator. In order to activate developer mode, see this article: https://docs.microsoft.com/en-us/windows/apps/get-started/enable-your-device-for-development\n",
      "  warnings.warn(message)\n",
      "Some weights of DistilBertForSequenceClassification were not initialized from the model checkpoint at distilbert-base-uncased and are newly initialized: ['classifier.bias', 'classifier.weight', 'pre_classifier.bias', 'pre_classifier.weight']\n",
      "You should probably TRAIN this model on a down-stream task to be able to use it for predictions and inference.\n"
     ]
    }
   ],
   "execution_count": 13
  },
  {
   "metadata": {},
   "cell_type": "markdown",
   "source": "Defining trainer and finetuning BERT",
   "id": "892c48eb4e3d2c9e"
  },
  {
   "metadata": {
    "ExecuteTime": {
     "end_time": "2024-12-31T15:56:54.760975Z",
     "start_time": "2024-12-31T15:56:49.778320Z"
    }
   },
   "cell_type": "code",
   "source": [
    "from transformers import Trainer, TrainingArguments\n",
    "from sklearn.metrics import precision_score, recall_score, f1_score, accuracy_score\n",
    "\n",
    "def compute_metrics(eval_pred):\n",
    "    # Extracting logits and labels from eval predictioons for metrics\n",
    "    logits, labels = eval_pred\n",
    "    predictions = logits.argmax(axis=-1)\n",
    "\n",
    "    # Computing metrics for comparison from paper\n",
    "    precision = precision_score(labels, predictions, average=\"binary\")\n",
    "    recall = recall_score(labels, predictions, average=\"binary\")\n",
    "    f1 = f1_score(labels, predictions, average=\"binary\")\n",
    "    f2 = f1_score(labels, predictions, beta=2, average=\"binary\")\n",
    "    accuracy = accuracy_score(labels, predictions)\n",
    "\n",
    "    return {\n",
    "        \"accuracy\": accuracy,\n",
    "        \"precision\": precision,\n",
    "        \"recall\": recall,\n",
    "        \"f1\": f1,\n",
    "        \"f2\": f2,\n",
    "    }\n",
    "\n",
    "# Define training arguments\n",
    "training_args = TrainingArguments(\n",
    "    output_dir=\"./results\",\n",
    "    evaluation_strategy=\"epoch\",\n",
    "    learning_rate=2e-5,\n",
    "    per_device_train_batch_size=16,\n",
    "    per_device_eval_batch_size=16,\n",
    "    num_train_epochs=3,\n",
    "    weight_decay=0.01,\n",
    "    logging_dir=\"./logs\",\n",
    "    logging_steps=10,\n",
    "    save_strategy=\"epoch\"\n",
    ")\n",
    "\n",
    "# Defining Trainer\n",
    "trainer = Trainer(\n",
    "    model=model,\n",
    "    args=training_args,\n",
    "    train_dataset=train_dataset,\n",
    "    eval_dataset=test_dataset,\n",
    "    tokenizer=tokenizer,\n",
    "    compute_metrics=compute_metrics\n",
    ")\n"
   ],
   "id": "426e9c9265bcc2",
   "outputs": [
    {
     "name": "stderr",
     "output_type": "stream",
     "text": [
      "C:\\Users\\asus9\\AppData\\Local\\Programs\\Python\\Python312\\Lib\\site-packages\\transformers\\training_args.py:1575: FutureWarning: `evaluation_strategy` is deprecated and will be removed in version 4.46 of 🤗 Transformers. Use `eval_strategy` instead\n",
      "  warnings.warn(\n",
      "C:\\Users\\asus9\\AppData\\Local\\Temp\\ipykernel_7340\\54591628.py:39: FutureWarning: `tokenizer` is deprecated and will be removed in version 5.0.0 for `Trainer.__init__`. Use `processing_class` instead.\n",
      "  trainer = Trainer(\n"
     ]
    }
   ],
   "execution_count": 15
  },
  {
   "metadata": {},
   "cell_type": "markdown",
   "source": "Training and evaluating",
   "id": "e5274c60a10fbd90"
  },
  {
   "metadata": {
    "jupyter": {
     "is_executing": true
    },
    "ExecuteTime": {
     "start_time": "2024-12-31T15:57:05.666343Z"
    }
   },
   "cell_type": "code",
   "source": [
    "# Training Trainer BERTs training\n",
    "trainer.train()\n",
    "\n",
    "# Evaluating on test sett\n",
    "trainer.evaluate()"
   ],
   "id": "f14e82bceea69a63",
   "outputs": [
    {
     "name": "stderr",
     "output_type": "stream",
     "text": [
      "\u001B[34m\u001B[1mwandb\u001B[0m: \u001B[33mWARNING\u001B[0m The `run_name` is currently set to the same value as `TrainingArguments.output_dir`. If this was not intended, please specify a different run name by setting the `TrainingArguments.run_name` parameter.\n",
      "wandb: Using wandb-core as the SDK backend.  Please refer to https://wandb.me/wandb-core for more information.\n",
      "wandb: Currently logged in as: sergejs (sergejs-tu-wien). Use `wandb login --relogin` to force relogin\n"
     ]
    },
    {
     "data": {
      "text/plain": [
       "<IPython.core.display.HTML object>"
      ],
      "text/html": [
       "Tracking run with wandb version 0.19.1"
      ]
     },
     "metadata": {},
     "output_type": "display_data"
    },
    {
     "data": {
      "text/plain": [
       "<IPython.core.display.HTML object>"
      ],
      "text/html": [
       "Run data is saved locally in <code>C:\\Data Science\\Module\\Experiment Design for Data Science\\Exercise\\Exercise_2\\WS_24_EDDS_GROUP2\\wandb\\run-20241231_165708-j5argbfy</code>"
      ]
     },
     "metadata": {},
     "output_type": "display_data"
    },
    {
     "data": {
      "text/plain": [
       "<IPython.core.display.HTML object>"
      ],
      "text/html": [
       "Syncing run <strong><a href='https://wandb.ai/sergejs-tu-wien/huggingface/runs/j5argbfy' target=\"_blank\">./results</a></strong> to <a href='https://wandb.ai/sergejs-tu-wien/huggingface' target=\"_blank\">Weights & Biases</a> (<a href='https://wandb.me/developer-guide' target=\"_blank\">docs</a>)<br>"
      ]
     },
     "metadata": {},
     "output_type": "display_data"
    },
    {
     "data": {
      "text/plain": [
       "<IPython.core.display.HTML object>"
      ],
      "text/html": [
       " View project at <a href='https://wandb.ai/sergejs-tu-wien/huggingface' target=\"_blank\">https://wandb.ai/sergejs-tu-wien/huggingface</a>"
      ]
     },
     "metadata": {},
     "output_type": "display_data"
    },
    {
     "data": {
      "text/plain": [
       "<IPython.core.display.HTML object>"
      ],
      "text/html": [
       " View run at <a href='https://wandb.ai/sergejs-tu-wien/huggingface/runs/j5argbfy' target=\"_blank\">https://wandb.ai/sergejs-tu-wien/huggingface/runs/j5argbfy</a>"
      ]
     },
     "metadata": {},
     "output_type": "display_data"
    },
    {
     "data": {
      "text/plain": [
       "<IPython.core.display.HTML object>"
      ],
      "text/html": [
       "\n",
       "    <div>\n",
       "      \n",
       "      <progress value='18' max='10260' style='width:300px; height:20px; vertical-align: middle;'></progress>\n",
       "      [   18/10260 04:56 < 52:45:18, 0.05 it/s, Epoch 0.00/3]\n",
       "    </div>\n",
       "    <table border=\"1\" class=\"dataframe\">\n",
       "  <thead>\n",
       " <tr style=\"text-align: left;\">\n",
       "      <th>Epoch</th>\n",
       "      <th>Training Loss</th>\n",
       "      <th>Validation Loss</th>\n",
       "    </tr>\n",
       "  </thead>\n",
       "  <tbody>\n",
       "  </tbody>\n",
       "</table><p>"
      ]
     },
     "metadata": {},
     "output_type": "display_data"
    }
   ],
   "execution_count": null
  }
 ],
 "metadata": {
  "kernelspec": {
   "display_name": "Python 3",
   "language": "python",
   "name": "python3"
  },
  "language_info": {
   "codemirror_mode": {
    "name": "ipython",
    "version": 2
   },
   "file_extension": ".py",
   "mimetype": "text/x-python",
   "name": "python",
   "nbconvert_exporter": "python",
   "pygments_lexer": "ipython2",
   "version": "2.7.6"
  }
 },
 "nbformat": 4,
 "nbformat_minor": 5
}
