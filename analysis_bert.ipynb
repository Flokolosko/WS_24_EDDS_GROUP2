{
 "cells": [
  {
   "cell_type": "markdown",
   "id": "35dc65b72dbf70a2",
   "metadata": {},
   "source": [
    "# 1. Data loading\n",
    "Firstly, we will load the *OHSUMED* data from different files and merge them into one combined dataframe, containing all years from 1987 - 1991. Afterwards, we will load the file where the relevance labels of documents during all five years will be labeled. In the end, we will left join the relevance labels to our main dataframe."
   ]
  },
  {
   "cell_type": "code",
   "execution_count": 14,
   "id": "4e74b25fa83a4bba",
   "metadata": {
    "ExecuteTime": {
     "end_time": "2025-01-03T00:23:15.994221Z",
     "start_time": "2025-01-03T00:23:06.733592Z"
    }
   },
   "outputs": [],
   "source": [
    "import pandas as pd\n",
    "import numpy as np\n",
    "from sklearn.model_selection import train_test_split\n",
    "from transformers import DistilBertTokenizer\n",
    "from transformers import DistilBertForSequenceClassification\n",
    "from transformers import DistilBertForSequenceClassification, Trainer, TrainingArguments\n",
    "from sklearn.metrics import precision_score, recall_score, f1_score, accuracy_score\n",
    "\n",
    "def parse_ohsumed_file(file_path):\n",
    "    \"\"\"Parses an OHSUMED file into a DataFrame with proper column names.\"\"\"\n",
    "    documents = []\n",
    "    document = {}\n",
    "\n",
    "    # Read the file line by line\n",
    "    with open(file_path, 'r', encoding='utf-8') as f:\n",
    "        for line in f:\n",
    "            line = line.strip()  # Remove extra whitespace\n",
    "\n",
    "            if line.startswith(\".I\"):  # New document identifier\n",
    "                if document:  # If there's an existing document, save it\n",
    "                    documents.append(document)\n",
    "                document = {\"sequential identifier\": line[3:]}  # Initialize a new document\n",
    "\n",
    "            elif line.startswith(\".U\"):  # MEDLINE identifier\n",
    "                document[\"MEDLINE identifier\"] = next(f).strip()\n",
    "\n",
    "            elif line.startswith(\".S\"):  # Source\n",
    "                document[\"source\"] = next(f).strip()\n",
    "\n",
    "            elif line.startswith(\".M\"):  # MeSH terms\n",
    "                document[\"mesh_terms\"] = next(f).strip()\n",
    "\n",
    "            elif line.startswith(\".T\"):  # Title\n",
    "                document[\"title\"] = next(f).strip()\n",
    "\n",
    "            elif line.startswith(\".P\"):  # Publication type\n",
    "                document[\"publication type\"] = next(f).strip()\n",
    "\n",
    "            elif line.startswith(\".W\"):  # Abstract\n",
    "                document[\"abstract\"] = next(f).strip()\n",
    "\n",
    "            elif line.startswith(\".A\"):  # Author\n",
    "                document[\"author\"] = next(f).strip()\n",
    "\n",
    "    # Add the last document if it exists\n",
    "    if document:\n",
    "        documents.append(document)\n",
    "\n",
    "    # Convert the list of documents into a DataFrame\n",
    "    return pd.DataFrame(documents)\n",
    "\n",
    "# File paths for individual files\n",
    "file_87_path = \"./data/ohsumed.87.txt\"\n",
    "file_88_path = \"./data/ohsumed.88.txt\"\n",
    "file_89_path = \"./data/ohsumed.89.txt\"\n",
    "file_90_path = \"./data/ohsumed.90.txt\"\n",
    "file_91_path = \"./data/ohsumed.91.txt\"\n",
    "\n",
    "# Parse each file into its own DataFrame\n",
    "df_ohsumed_87 = parse_ohsumed_file(file_87_path)\n",
    "df_ohsumed_88 = parse_ohsumed_file(file_88_path)\n",
    "df_ohsumed_89 = parse_ohsumed_file(file_89_path)\n",
    "df_ohsumed_90 = parse_ohsumed_file(file_90_path)\n",
    "df_ohsumed_91 = parse_ohsumed_file(file_91_path)"
   ]
  },
  {
   "cell_type": "code",
   "execution_count": 15,
   "id": "1f82e80aca558d1d",
   "metadata": {
    "ExecuteTime": {
     "end_time": "2025-01-03T00:23:16.293057Z",
     "start_time": "2025-01-03T00:23:16.282917Z"
    }
   },
   "outputs": [
    {
     "name": "stdout",
     "output_type": "stream",
     "text": [
      "Number of rows in ohsumed.87: 54710\n",
      "Number of rows in ohsumed.88: 70825\n",
      "Number of rows in ohsumed.89: 74869\n",
      "Number of rows in ohsumed.90: 73824\n",
      "Number of rows in ohsumed.91: 74338\n"
     ]
    }
   ],
   "source": [
    "# Checking row amount of all years files\n",
    "print(f\"Number of rows in ohsumed.87: {len(df_ohsumed_87)}\")\n",
    "print(f\"Number of rows in ohsumed.88: {len(df_ohsumed_88)}\")\n",
    "print(f\"Number of rows in ohsumed.89: {len(df_ohsumed_89)}\")\n",
    "print(f\"Number of rows in ohsumed.90: {len(df_ohsumed_90)}\")\n",
    "print(f\"Number of rows in ohsumed.91: {len(df_ohsumed_91)}\")"
   ]
  },
  {
   "cell_type": "code",
   "execution_count": 16,
   "id": "e40060215a7b92d8",
   "metadata": {
    "ExecuteTime": {
     "end_time": "2025-01-03T00:23:16.358974Z",
     "start_time": "2025-01-03T00:23:16.303019Z"
    }
   },
   "outputs": [
    {
     "name": "stdout",
     "output_type": "stream",
     "text": [
      "Combined DataFrame shape: (348566, 8)\n",
      "  sequential identifier MEDLINE identifier                             source  \\\n",
      "0                     1           87049087    Am J Emerg Med 8703; 4(6):491-5   \n",
      "1                     2           87049088  Am J Emerg Med 8703; 4(6):496-500   \n",
      "2                     3           87049089    Am J Emerg Med 8703; 4(6):501-3   \n",
      "3                     4           87049090    Am J Emerg Med 8703; 4(6):504-6   \n",
      "4                     5           87049092    Am J Emerg Med 8703; 4(6):511-3   \n",
      "\n",
      "                                          mesh_terms  \\\n",
      "0  Allied Health Personnel/*; Electric Countersho...   \n",
      "1  Antidepressive Agents, Tricyclic/*PO; Arrhythm...   \n",
      "2  Adult; Aircraft/*; Altitude/*; Blood Gas Monit...   \n",
      "3  Adolescence; Adult; Aged; Blood Glucose/*ME; D...   \n",
      "4  Aged; Aged, 80 and over; Case Report; Female; ...   \n",
      "\n",
      "                                               title  publication type  \\\n",
      "0  Refibrillation managed by EMT-Ds: incidence an...  JOURNAL ARTICLE.   \n",
      "1  Tricyclic antidepressant overdose: emergency d...  JOURNAL ARTICLE.   \n",
      "2  Transconjunctival oxygen monitoring as a predi...  JOURNAL ARTICLE.   \n",
      "3  Serum glucose changes after administration of ...  JOURNAL ARTICLE.   \n",
      "4  Nasogastric intubation: morbidity in an asympt...  JOURNAL ARTICLE.   \n",
      "\n",
      "                                            abstract  \\\n",
      "0  Some patients converted from ventricular fibri...   \n",
      "1  There is controversy regarding the appropriate...   \n",
      "2  As the use of helicopters for air transport of...   \n",
      "3  A prospective clinical trial was conducted to ...   \n",
      "4  An unusual case of a misdirected nasogastric t...   \n",
      "\n",
      "                                              author  \n",
      "0                               Stults KR; Brown DD.  \n",
      "1                 Foulke GE; Albertson TE; Walby WF.  \n",
      "2  Shufflebarger C; Jehle D; Cottington E; Martin M.  \n",
      "3                                          Adler PM.  \n",
      "4                                   Gough D; Rust D.  \n"
     ]
    }
   ],
   "source": [
    "# Combine all DataFrames into a single DataFrame\n",
    "ohsumed_combined_df = pd.concat([df_ohsumed_87, df_ohsumed_88, df_ohsumed_89, df_ohsumed_90, df_ohsumed_91], ignore_index=True)\n",
    "\n",
    "# Print the combined DataFrame's shape (rows and columns). Should be: 348566\n",
    "print(f\"Combined DataFrame shape: {ohsumed_combined_df.shape}\")\n",
    "\n",
    "# Display the first few rows of the combined DataFrame\n",
    "print(ohsumed_combined_df.head())"
   ]
  },
  {
   "cell_type": "code",
   "execution_count": 17,
   "id": "1caf5d95e1d30c27",
   "metadata": {
    "ExecuteTime": {
     "end_time": "2025-01-03T00:23:16.421630Z",
     "start_time": "2025-01-03T00:23:16.382103Z"
    }
   },
   "outputs": [
    {
     "name": "stdout",
     "output_type": "stream",
     "text": [
      "Loaded judged file with 16140 rows\n"
     ]
    },
    {
     "data": {
      "text/html": [
       "<div>\n",
       "<style scoped>\n",
       "    .dataframe tbody tr th:only-of-type {\n",
       "        vertical-align: middle;\n",
       "    }\n",
       "\n",
       "    .dataframe tbody tr th {\n",
       "        vertical-align: top;\n",
       "    }\n",
       "\n",
       "    .dataframe thead th {\n",
       "        text-align: right;\n",
       "    }\n",
       "</style>\n",
       "<table border=\"1\" class=\"dataframe\">\n",
       "  <thead>\n",
       "    <tr style=\"text-align: right;\">\n",
       "      <th></th>\n",
       "      <th>Query</th>\n",
       "      <th>Document-UI</th>\n",
       "      <th>Document-Index</th>\n",
       "      <th>Relevance1</th>\n",
       "      <th>Relevance2</th>\n",
       "      <th>Relevance3</th>\n",
       "    </tr>\n",
       "  </thead>\n",
       "  <tbody>\n",
       "    <tr>\n",
       "      <th>0</th>\n",
       "      <td>1</td>\n",
       "      <td>87097544</td>\n",
       "      <td>40626</td>\n",
       "      <td>d</td>\n",
       "      <td>NaN</td>\n",
       "      <td>d</td>\n",
       "    </tr>\n",
       "    <tr>\n",
       "      <th>1</th>\n",
       "      <td>1</td>\n",
       "      <td>87153566</td>\n",
       "      <td>11852</td>\n",
       "      <td>n</td>\n",
       "      <td>NaN</td>\n",
       "      <td>n</td>\n",
       "    </tr>\n",
       "    <tr>\n",
       "      <th>2</th>\n",
       "      <td>1</td>\n",
       "      <td>87157536</td>\n",
       "      <td>12693</td>\n",
       "      <td>d</td>\n",
       "      <td>NaN</td>\n",
       "      <td>NaN</td>\n",
       "    </tr>\n",
       "    <tr>\n",
       "      <th>3</th>\n",
       "      <td>1</td>\n",
       "      <td>87157537</td>\n",
       "      <td>12694</td>\n",
       "      <td>d</td>\n",
       "      <td>NaN</td>\n",
       "      <td>NaN</td>\n",
       "    </tr>\n",
       "    <tr>\n",
       "      <th>4</th>\n",
       "      <td>1</td>\n",
       "      <td>87184723</td>\n",
       "      <td>15450</td>\n",
       "      <td>n</td>\n",
       "      <td>NaN</td>\n",
       "      <td>NaN</td>\n",
       "    </tr>\n",
       "  </tbody>\n",
       "</table>\n",
       "</div>"
      ],
      "text/plain": [
       "   Query  Document-UI  Document-Index Relevance1 Relevance2 Relevance3\n",
       "0      1     87097544           40626          d        NaN          d\n",
       "1      1     87153566           11852          n        NaN          n\n",
       "2      1     87157536           12693          d        NaN        NaN\n",
       "3      1     87157537           12694          d        NaN        NaN\n",
       "4      1     87184723           15450          n        NaN        NaN"
      ]
     },
     "execution_count": 17,
     "metadata": {},
     "output_type": "execute_result"
    }
   ],
   "source": [
    "# Load the judged file (relevance labeles)\n",
    "judged_df = pd.read_csv(\"./data/judged.txt\", sep=\"\\t\", header=None,\n",
    "                        names=[\"Query\", \"Document-UI\", \"Document-Index\", \"Relevance1\", \"Relevance2\", \"Relevance3\"])\n",
    "\n",
    "print(f\"Loaded judged file with {len(judged_df)} rows\")\n",
    "judged_df.head()"
   ]
  },
  {
   "cell_type": "code",
   "execution_count": 26,
   "id": "716274c8",
   "metadata": {},
   "outputs": [
    {
     "name": "stdout",
     "output_type": "stream",
     "text": [
      "Unique documents: 14430\n",
      "New df size: 14430\n"
     ]
    }
   ],
   "source": [
    "# Get unique documents\n",
    "unique_docs = judged_df['Document-UI'].nunique()\n",
    "judged_df = judged_df.drop_duplicates(subset=['Document-UI'], keep='first')\n",
    "\n",
    "print(f\"Unique documents: {unique_docs}\")\n",
    "print(f\"New df size: {len(judged_df)}\")"
   ]
  },
  {
   "cell_type": "code",
   "execution_count": 27,
   "id": "7fd89d53f138fcfc",
   "metadata": {
    "ExecuteTime": {
     "end_time": "2025-01-03T00:23:17.082326Z",
     "start_time": "2025-01-03T00:23:16.492793Z"
    }
   },
   "outputs": [
    {
     "name": "stdout",
     "output_type": "stream",
     "text": [
      "Resulting DataFrame shape: (348566, 14)\n",
      "  sequential identifier  MEDLINE identifier  \\\n",
      "0                     1            87049087   \n",
      "1                     2            87049088   \n",
      "2                     3            87049089   \n",
      "3                     4            87049090   \n",
      "4                     5            87049092   \n",
      "\n",
      "                              source  \\\n",
      "0    Am J Emerg Med 8703; 4(6):491-5   \n",
      "1  Am J Emerg Med 8703; 4(6):496-500   \n",
      "2    Am J Emerg Med 8703; 4(6):501-3   \n",
      "3    Am J Emerg Med 8703; 4(6):504-6   \n",
      "4    Am J Emerg Med 8703; 4(6):511-3   \n",
      "\n",
      "                                          mesh_terms  \\\n",
      "0  Allied Health Personnel/*; Electric Countersho...   \n",
      "1  Antidepressive Agents, Tricyclic/*PO; Arrhythm...   \n",
      "2  Adult; Aircraft/*; Altitude/*; Blood Gas Monit...   \n",
      "3  Adolescence; Adult; Aged; Blood Glucose/*ME; D...   \n",
      "4  Aged; Aged, 80 and over; Case Report; Female; ...   \n",
      "\n",
      "                                               title  publication type  \\\n",
      "0  Refibrillation managed by EMT-Ds: incidence an...  JOURNAL ARTICLE.   \n",
      "1  Tricyclic antidepressant overdose: emergency d...  JOURNAL ARTICLE.   \n",
      "2  Transconjunctival oxygen monitoring as a predi...  JOURNAL ARTICLE.   \n",
      "3  Serum glucose changes after administration of ...  JOURNAL ARTICLE.   \n",
      "4  Nasogastric intubation: morbidity in an asympt...  JOURNAL ARTICLE.   \n",
      "\n",
      "                                            abstract  \\\n",
      "0  Some patients converted from ventricular fibri...   \n",
      "1  There is controversy regarding the appropriate...   \n",
      "2  As the use of helicopters for air transport of...   \n",
      "3  A prospective clinical trial was conducted to ...   \n",
      "4  An unusual case of a misdirected nasogastric t...   \n",
      "\n",
      "                                              author  Query  Document-Index  \\\n",
      "0                               Stults KR; Brown DD.    NaN             NaN   \n",
      "1                 Foulke GE; Albertson TE; Walby WF.    NaN             NaN   \n",
      "2  Shufflebarger C; Jehle D; Cottington E; Martin M.    NaN             NaN   \n",
      "3                                          Adler PM.    NaN             NaN   \n",
      "4                                   Gough D; Rust D.    NaN             NaN   \n",
      "\n",
      "  Relevance1 Relevance2 Relevance3  is_relevant_ind  \n",
      "0        NaN        NaN        NaN              NaN  \n",
      "1        NaN        NaN        NaN              NaN  \n",
      "2        NaN        NaN        NaN              NaN  \n",
      "3        NaN        NaN        NaN              NaN  \n",
      "4        NaN        NaN        NaN              NaN  \n",
      "Resulting DataFrame shape: (348566, 10)\n",
      "  sequential identifier  MEDLINE identifier  \\\n",
      "0                     1            87049087   \n",
      "1                     2            87049088   \n",
      "2                     3            87049089   \n",
      "3                     4            87049090   \n",
      "4                     5            87049092   \n",
      "\n",
      "                              source  \\\n",
      "0    Am J Emerg Med 8703; 4(6):491-5   \n",
      "1  Am J Emerg Med 8703; 4(6):496-500   \n",
      "2    Am J Emerg Med 8703; 4(6):501-3   \n",
      "3    Am J Emerg Med 8703; 4(6):504-6   \n",
      "4    Am J Emerg Med 8703; 4(6):511-3   \n",
      "\n",
      "                                          mesh_terms  \\\n",
      "0  Allied Health Personnel/*; Electric Countersho...   \n",
      "1  Antidepressive Agents, Tricyclic/*PO; Arrhythm...   \n",
      "2  Adult; Aircraft/*; Altitude/*; Blood Gas Monit...   \n",
      "3  Adolescence; Adult; Aged; Blood Glucose/*ME; D...   \n",
      "4  Aged; Aged, 80 and over; Case Report; Female; ...   \n",
      "\n",
      "                                               title  publication type  \\\n",
      "0  Refibrillation managed by EMT-Ds: incidence an...  JOURNAL ARTICLE.   \n",
      "1  Tricyclic antidepressant overdose: emergency d...  JOURNAL ARTICLE.   \n",
      "2  Transconjunctival oxygen monitoring as a predi...  JOURNAL ARTICLE.   \n",
      "3  Serum glucose changes after administration of ...  JOURNAL ARTICLE.   \n",
      "4  Nasogastric intubation: morbidity in an asympt...  JOURNAL ARTICLE.   \n",
      "\n",
      "                                            abstract  \\\n",
      "0  Some patients converted from ventricular fibri...   \n",
      "1  There is controversy regarding the appropriate...   \n",
      "2  As the use of helicopters for air transport of...   \n",
      "3  A prospective clinical trial was conducted to ...   \n",
      "4  An unusual case of a misdirected nasogastric t...   \n",
      "\n",
      "                                              author  is_relevant_ind  \\\n",
      "0                               Stults KR; Brown DD.              NaN   \n",
      "1                 Foulke GE; Albertson TE; Walby WF.              NaN   \n",
      "2  Shufflebarger C; Jehle D; Cottington E; Martin M.              NaN   \n",
      "3                                          Adler PM.              NaN   \n",
      "4                                   Gough D; Rust D.              NaN   \n",
      "\n",
      "   Relevance_total  \n",
      "0              NaN  \n",
      "1              NaN  \n",
      "2              NaN  \n",
      "3              NaN  \n",
      "4              NaN  \n"
     ]
    }
   ],
   "source": [
    "judged_df.rename(columns={\"Document-UI\": \"MEDLINE identifier\"}, inplace=True)\n",
    "\n",
    "# Converting key to string\n",
    "ohsumed_combined_df[\"MEDLINE identifier\"] = ohsumed_combined_df[\"MEDLINE identifier\"].astype(int)\n",
    "judged_df[\"MEDLINE identifier\"] = judged_df[\"MEDLINE identifier\"].astype(int)\n",
    "judged_df[\"is_relevant_ind\"] = 1\n",
    "\n",
    "# Perform the left join\n",
    "merged_df = ohsumed_combined_df.merge(judged_df, on=\"MEDLINE identifier\", how=\"left\")\n",
    "\n",
    "# Display the resulting DataFrame\n",
    "print(f\"Resulting DataFrame shape: {merged_df.shape}\")\n",
    "print(merged_df.head())\n",
    "\n",
    "# Create a new column Relevance_total based on the rules that can be kept showing relevance for all three relevance columns\n",
    "merged_df[\"Relevance_total\"] = np.where(\n",
    "    ~merged_df[\"Relevance1\"].isna(),  # If Relevance1 is not NaN, take it\n",
    "    merged_df[\"Relevance1\"],\n",
    "    np.where(\n",
    "        ~merged_df[\"Relevance2\"].isna(),  # Else if Relevance2 is not NaN, take it\n",
    "        merged_df[\"Relevance2\"],\n",
    "        merged_df[\"Relevance3\"]  # Else take Relevance3\n",
    "    )\n",
    ")\n",
    "merged_df.head(10000)\n",
    "\n",
    "# Drop the specified columns\n",
    "columns_to_drop = [\"Query\", \"Document-Index\", \"Relevance1\", \"Relevance2\", \"Relevance3\"]\n",
    "merged_df.drop(columns=columns_to_drop, inplace=True)\n",
    "# Mapping relevance labels to int\n",
    "relevance_mapping = {'n': 0, 'p': 1, 'd': 2}\n",
    "\n",
    "# Filling mising values in abstract so that BERT can be trained on strings\n",
    "merged_df[\"abstract\"] = merged_df[\"abstract\"].fillna(\"\")\n",
    "\n",
    "# Apply the mapping to the Relevance1 column\n",
    "merged_df[\"Relevance_total\"] = merged_df[\"Relevance_total\"].map(relevance_mapping)\n",
    "\n",
    "# Display the resulting DataFrame\n",
    "print(f\"Resulting DataFrame shape: {merged_df.shape}\")\n",
    "print(merged_df.head())\n",
    "\n",
    "#filtered_df = merged_df[merged_df[\"Relevance1\"].notna()]\n",
    "#\n",
    "## Display the filtered DataFrame\n",
    "#print(f\"Number of rows where Relevance1 is not NaN: {len(filtered_df)}\")\n",
    "#print(filtered_df.head())"
   ]
  },
  {
   "cell_type": "code",
   "execution_count": 6,
   "id": "8661ed6849b71fb0",
   "metadata": {
    "ExecuteTime": {
     "end_time": "2025-01-03T00:23:17.158143Z",
     "start_time": "2025-01-03T00:23:17.137846Z"
    }
   },
   "outputs": [
    {
     "name": "stdout",
     "output_type": "stream",
     "text": [
      "Number of rows where is_relevant_ind = 1: 16140\n"
     ]
    }
   ],
   "source": [
    "#Checking how many relevant documents are present in merged DF. Expectation: 16140\n",
    "count_is_relevant = merged_df[merged_df[\"is_relevant_ind\"] == 1].shape[0]\n",
    "print(f\"Number of rows where is_relevant_ind = 1: {count_is_relevant}\")"
   ]
  },
  {
   "cell_type": "markdown",
   "id": "28bf3be64eba304f",
   "metadata": {},
   "source": [
    "Now, we have a merged dataframe, containing all document data and also the relevance labeling of the documents. Now we can proceed with splitting the data."
   ]
  },
  {
   "cell_type": "code",
   "execution_count": 7,
   "id": "initial_id",
   "metadata": {
    "ExecuteTime": {
     "end_time": "2025-01-03T00:23:17.434333Z",
     "start_time": "2025-01-03T00:23:17.216823Z"
    },
    "collapsed": true
   },
   "outputs": [
    {
     "name": "stdout",
     "output_type": "stream",
     "text": [
      "Test set size: 16140\n",
      "Training set size: 284015\n",
      "Validation set size: 50121\n"
     ]
    }
   ],
   "source": [
    "test = merged_df[merged_df[\"is_relevant_ind\"] == 1]\n",
    "remaining_rows = merged_df[merged_df[\"is_relevant_ind\"] != 1]\n",
    "training, validation = train_test_split(remaining_rows, test_size=0.15, random_state=42)\n",
    "\n",
    "print(f\"Test set size: {len(test)}\")\n",
    "print(f\"Training set size: {len(training)}\")\n",
    "print(f\"Validation set size: {len(validation)}\")"
   ]
  },
  {
   "cell_type": "markdown",
   "id": "d1384fb8e2299c55",
   "metadata": {},
   "source": [
    "Training BERT"
   ]
  },
  {
   "cell_type": "code",
   "execution_count": 8,
   "id": "7295d700bce05d7c",
   "metadata": {
    "ExecuteTime": {
     "end_time": "2025-01-03T00:23:17.818083Z",
     "start_time": "2025-01-03T00:23:17.473316Z"
    }
   },
   "outputs": [
    {
     "name": "stderr",
     "output_type": "stream",
     "text": [
      "C:\\Users\\timgr\\AppData\\Local\\Temp\\ipykernel_24588\\4000273643.py:2: SettingWithCopyWarning: \n",
      "A value is trying to be set on a copy of a slice from a DataFrame.\n",
      "Try using .loc[row_indexer,col_indexer] = value instead\n",
      "\n",
      "See the caveats in the documentation: https://pandas.pydata.org/pandas-docs/stable/user_guide/indexing.html#returning-a-view-versus-a-copy\n",
      "  test.loc[:, 'title_abstract'] = test['title'] + ' ' + test['abstract']\n"
     ]
    },
    {
     "data": {
      "text/html": [
       "<div>\n",
       "<style scoped>\n",
       "    .dataframe tbody tr th:only-of-type {\n",
       "        vertical-align: middle;\n",
       "    }\n",
       "\n",
       "    .dataframe tbody tr th {\n",
       "        vertical-align: top;\n",
       "    }\n",
       "\n",
       "    .dataframe thead th {\n",
       "        text-align: right;\n",
       "    }\n",
       "</style>\n",
       "<table border=\"1\" class=\"dataframe\">\n",
       "  <thead>\n",
       "    <tr style=\"text-align: right;\">\n",
       "      <th></th>\n",
       "      <th>sequential identifier</th>\n",
       "      <th>MEDLINE identifier</th>\n",
       "      <th>source</th>\n",
       "      <th>mesh_terms</th>\n",
       "      <th>title</th>\n",
       "      <th>publication type</th>\n",
       "      <th>abstract</th>\n",
       "      <th>author</th>\n",
       "      <th>is_relevant_ind</th>\n",
       "      <th>Relevance_total</th>\n",
       "      <th>title_abstract</th>\n",
       "    </tr>\n",
       "  </thead>\n",
       "  <tbody>\n",
       "    <tr>\n",
       "      <th>33852</th>\n",
       "      <td>33698</td>\n",
       "      <td>87124329</td>\n",
       "      <td>Am Heart J 8705; 113(2 Pt 1):273-9</td>\n",
       "      <td>Aged; Comparative Study; Electrocardiography/*...</td>\n",
       "      <td>Non-Q wave myocardial infarction: recent chang...</td>\n",
       "      <td>JOURNAL ARTICLE.</td>\n",
       "      <td>A community-wide study of patients hospitalize...</td>\n",
       "      <td>Goldberg RJ; Gore JM; Alpert JS; Dalen JE.</td>\n",
       "      <td>NaN</td>\n",
       "      <td>NaN</td>\n",
       "      <td>Non-Q wave myocardial infarction: recent chang...</td>\n",
       "    </tr>\n",
       "    <tr>\n",
       "      <th>246463</th>\n",
       "      <td>245341</td>\n",
       "      <td>90357619</td>\n",
       "      <td>Transplant Proc 9011; 22(4):1885-6</td>\n",
       "      <td>Antibodies, Anti-Idiotypic/*IM; Antibodies, Mo...</td>\n",
       "      <td>IgM-anti-IgG antibody as cause of positive B-c...</td>\n",
       "      <td>JOURNAL ARTICLE.</td>\n",
       "      <td></td>\n",
       "      <td>Terness P; Berteli AJ; Steinitz M; Mytillineos...</td>\n",
       "      <td>NaN</td>\n",
       "      <td>NaN</td>\n",
       "      <td>IgM-anti-IgG antibody as cause of positive B-c...</td>\n",
       "    </tr>\n",
       "    <tr>\n",
       "      <th>307688</th>\n",
       "      <td>306209</td>\n",
       "      <td>91170056</td>\n",
       "      <td>J Appl Physiol 9106; 69(6):2091-6</td>\n",
       "      <td>Animal; Blood Pressure; Cardiac Output; Hemody...</td>\n",
       "      <td>Altered baroreflex function after tail suspens...</td>\n",
       "      <td>JOURNAL ARTICLE.</td>\n",
       "      <td>Experiments were performed on conscious chroni...</td>\n",
       "      <td>Brizzee BL; Walker BR.</td>\n",
       "      <td>NaN</td>\n",
       "      <td>NaN</td>\n",
       "      <td>Altered baroreflex function after tail suspens...</td>\n",
       "    </tr>\n",
       "    <tr>\n",
       "      <th>5082</th>\n",
       "      <td>5058</td>\n",
       "      <td>87097540</td>\n",
       "      <td>Am J Obstet Gynecol 8704; 156(1):52-6</td>\n",
       "      <td>Apgar Score; Cesarean Section/*; Delivery/*MT;...</td>\n",
       "      <td>Randomized management of the second nonvertex ...</td>\n",
       "      <td>JOURNAL ARTICLE.</td>\n",
       "      <td>Sixty twin deliveries after the thirty-fifth g...</td>\n",
       "      <td>Rabinovici J; Barkai G; Reichman B; Serr DM; M...</td>\n",
       "      <td>NaN</td>\n",
       "      <td>NaN</td>\n",
       "      <td>Randomized management of the second nonvertex ...</td>\n",
       "    </tr>\n",
       "    <tr>\n",
       "      <th>120978</th>\n",
       "      <td>120428</td>\n",
       "      <td>88110706</td>\n",
       "      <td>Chest 8805; 93(2):294-8</td>\n",
       "      <td>Adult; Aged; Arteries/*; Bloodletting/*; Carbo...</td>\n",
       "      <td>Single arterial puncture vs arterial cannula f...</td>\n",
       "      <td>JOURNAL ARTICLE.</td>\n",
       "      <td>In an attempt to find the least invasive, safe...</td>\n",
       "      <td>Frye M; DiBenedetto R; Lain D; Morgan K.</td>\n",
       "      <td>NaN</td>\n",
       "      <td>NaN</td>\n",
       "      <td>Single arterial puncture vs arterial cannula f...</td>\n",
       "    </tr>\n",
       "  </tbody>\n",
       "</table>\n",
       "</div>"
      ],
      "text/plain": [
       "       sequential identifier  MEDLINE identifier  \\\n",
       "33852                  33698            87124329   \n",
       "246463                245341            90357619   \n",
       "307688                306209            91170056   \n",
       "5082                    5058            87097540   \n",
       "120978                120428            88110706   \n",
       "\n",
       "                                       source  \\\n",
       "33852      Am Heart J 8705; 113(2 Pt 1):273-9   \n",
       "246463     Transplant Proc 9011; 22(4):1885-6   \n",
       "307688      J Appl Physiol 9106; 69(6):2091-6   \n",
       "5082    Am J Obstet Gynecol 8704; 156(1):52-6   \n",
       "120978                Chest 8805; 93(2):294-8   \n",
       "\n",
       "                                               mesh_terms  \\\n",
       "33852   Aged; Comparative Study; Electrocardiography/*...   \n",
       "246463  Antibodies, Anti-Idiotypic/*IM; Antibodies, Mo...   \n",
       "307688  Animal; Blood Pressure; Cardiac Output; Hemody...   \n",
       "5082    Apgar Score; Cesarean Section/*; Delivery/*MT;...   \n",
       "120978  Adult; Aged; Arteries/*; Bloodletting/*; Carbo...   \n",
       "\n",
       "                                                    title  publication type  \\\n",
       "33852   Non-Q wave myocardial infarction: recent chang...  JOURNAL ARTICLE.   \n",
       "246463  IgM-anti-IgG antibody as cause of positive B-c...  JOURNAL ARTICLE.   \n",
       "307688  Altered baroreflex function after tail suspens...  JOURNAL ARTICLE.   \n",
       "5082    Randomized management of the second nonvertex ...  JOURNAL ARTICLE.   \n",
       "120978  Single arterial puncture vs arterial cannula f...  JOURNAL ARTICLE.   \n",
       "\n",
       "                                                 abstract  \\\n",
       "33852   A community-wide study of patients hospitalize...   \n",
       "246463                                                      \n",
       "307688  Experiments were performed on conscious chroni...   \n",
       "5082    Sixty twin deliveries after the thirty-fifth g...   \n",
       "120978  In an attempt to find the least invasive, safe...   \n",
       "\n",
       "                                                   author  is_relevant_ind  \\\n",
       "33852          Goldberg RJ; Gore JM; Alpert JS; Dalen JE.              NaN   \n",
       "246463  Terness P; Berteli AJ; Steinitz M; Mytillineos...              NaN   \n",
       "307688                             Brizzee BL; Walker BR.              NaN   \n",
       "5082    Rabinovici J; Barkai G; Reichman B; Serr DM; M...              NaN   \n",
       "120978           Frye M; DiBenedetto R; Lain D; Morgan K.              NaN   \n",
       "\n",
       "        Relevance_total                                     title_abstract  \n",
       "33852               NaN  Non-Q wave myocardial infarction: recent chang...  \n",
       "246463              NaN  IgM-anti-IgG antibody as cause of positive B-c...  \n",
       "307688              NaN  Altered baroreflex function after tail suspens...  \n",
       "5082                NaN  Randomized management of the second nonvertex ...  \n",
       "120978              NaN  Single arterial puncture vs arterial cannula f...  "
      ]
     },
     "execution_count": 8,
     "metadata": {},
     "output_type": "execute_result"
    }
   ],
   "source": [
    "training.loc[:, 'title_abstract'] = training['title'] + ' ' + training['abstract']\n",
    "test.loc[:, 'title_abstract'] = test['title'] + ' ' + test['abstract']\n",
    "validation.loc[:, 'title_abstract'] = validation['title'] + ' ' + validation['abstract']\n",
    "training.head()\n",
    "test.head()\n",
    "validation.head()"
   ]
  },
  {
   "cell_type": "code",
   "execution_count": 9,
   "id": "110b32793fef0266",
   "metadata": {
    "ExecuteTime": {
     "end_time": "2025-01-03T00:23:18.451705Z",
     "start_time": "2025-01-03T00:23:17.902195Z"
    }
   },
   "outputs": [
    {
     "name": "stderr",
     "output_type": "stream",
     "text": [
      "C:\\Users\\timgr\\AppData\\Local\\Temp\\ipykernel_24588\\3570718312.py:8: SettingWithCopyWarning: \n",
      "A value is trying to be set on a copy of a slice from a DataFrame.\n",
      "Try using .loc[row_indexer,col_indexer] = value instead\n",
      "\n",
      "See the caveats in the documentation: https://pandas.pydata.org/pandas-docs/stable/user_guide/indexing.html#returning-a-view-versus-a-copy\n",
      "  test.loc[:, 'label'] = test['mesh_terms'].apply(is_sensitive)\n"
     ]
    },
    {
     "data": {
      "text/html": [
       "<div>\n",
       "<style scoped>\n",
       "    .dataframe tbody tr th:only-of-type {\n",
       "        vertical-align: middle;\n",
       "    }\n",
       "\n",
       "    .dataframe tbody tr th {\n",
       "        vertical-align: top;\n",
       "    }\n",
       "\n",
       "    .dataframe thead th {\n",
       "        text-align: right;\n",
       "    }\n",
       "</style>\n",
       "<table border=\"1\" class=\"dataframe\">\n",
       "  <thead>\n",
       "    <tr style=\"text-align: right;\">\n",
       "      <th></th>\n",
       "      <th>sequential identifier</th>\n",
       "      <th>MEDLINE identifier</th>\n",
       "      <th>source</th>\n",
       "      <th>mesh_terms</th>\n",
       "      <th>title</th>\n",
       "      <th>publication type</th>\n",
       "      <th>abstract</th>\n",
       "      <th>author</th>\n",
       "      <th>is_relevant_ind</th>\n",
       "      <th>Relevance_total</th>\n",
       "      <th>title_abstract</th>\n",
       "      <th>label</th>\n",
       "    </tr>\n",
       "  </thead>\n",
       "  <tbody>\n",
       "    <tr>\n",
       "      <th>33852</th>\n",
       "      <td>33698</td>\n",
       "      <td>87124329</td>\n",
       "      <td>Am Heart J 8705; 113(2 Pt 1):273-9</td>\n",
       "      <td>Aged; Comparative Study; Electrocardiography/*...</td>\n",
       "      <td>Non-Q wave myocardial infarction: recent chang...</td>\n",
       "      <td>JOURNAL ARTICLE.</td>\n",
       "      <td>A community-wide study of patients hospitalize...</td>\n",
       "      <td>Goldberg RJ; Gore JM; Alpert JS; Dalen JE.</td>\n",
       "      <td>NaN</td>\n",
       "      <td>NaN</td>\n",
       "      <td>Non-Q wave myocardial infarction: recent chang...</td>\n",
       "      <td>0</td>\n",
       "    </tr>\n",
       "    <tr>\n",
       "      <th>246463</th>\n",
       "      <td>245341</td>\n",
       "      <td>90357619</td>\n",
       "      <td>Transplant Proc 9011; 22(4):1885-6</td>\n",
       "      <td>Antibodies, Anti-Idiotypic/*IM; Antibodies, Mo...</td>\n",
       "      <td>IgM-anti-IgG antibody as cause of positive B-c...</td>\n",
       "      <td>JOURNAL ARTICLE.</td>\n",
       "      <td></td>\n",
       "      <td>Terness P; Berteli AJ; Steinitz M; Mytillineos...</td>\n",
       "      <td>NaN</td>\n",
       "      <td>NaN</td>\n",
       "      <td>IgM-anti-IgG antibody as cause of positive B-c...</td>\n",
       "      <td>0</td>\n",
       "    </tr>\n",
       "    <tr>\n",
       "      <th>307688</th>\n",
       "      <td>306209</td>\n",
       "      <td>91170056</td>\n",
       "      <td>J Appl Physiol 9106; 69(6):2091-6</td>\n",
       "      <td>Animal; Blood Pressure; Cardiac Output; Hemody...</td>\n",
       "      <td>Altered baroreflex function after tail suspens...</td>\n",
       "      <td>JOURNAL ARTICLE.</td>\n",
       "      <td>Experiments were performed on conscious chroni...</td>\n",
       "      <td>Brizzee BL; Walker BR.</td>\n",
       "      <td>NaN</td>\n",
       "      <td>NaN</td>\n",
       "      <td>Altered baroreflex function after tail suspens...</td>\n",
       "      <td>0</td>\n",
       "    </tr>\n",
       "    <tr>\n",
       "      <th>5082</th>\n",
       "      <td>5058</td>\n",
       "      <td>87097540</td>\n",
       "      <td>Am J Obstet Gynecol 8704; 156(1):52-6</td>\n",
       "      <td>Apgar Score; Cesarean Section/*; Delivery/*MT;...</td>\n",
       "      <td>Randomized management of the second nonvertex ...</td>\n",
       "      <td>JOURNAL ARTICLE.</td>\n",
       "      <td>Sixty twin deliveries after the thirty-fifth g...</td>\n",
       "      <td>Rabinovici J; Barkai G; Reichman B; Serr DM; M...</td>\n",
       "      <td>NaN</td>\n",
       "      <td>NaN</td>\n",
       "      <td>Randomized management of the second nonvertex ...</td>\n",
       "      <td>0</td>\n",
       "    </tr>\n",
       "    <tr>\n",
       "      <th>120978</th>\n",
       "      <td>120428</td>\n",
       "      <td>88110706</td>\n",
       "      <td>Chest 8805; 93(2):294-8</td>\n",
       "      <td>Adult; Aged; Arteries/*; Bloodletting/*; Carbo...</td>\n",
       "      <td>Single arterial puncture vs arterial cannula f...</td>\n",
       "      <td>JOURNAL ARTICLE.</td>\n",
       "      <td>In an attempt to find the least invasive, safe...</td>\n",
       "      <td>Frye M; DiBenedetto R; Lain D; Morgan K.</td>\n",
       "      <td>NaN</td>\n",
       "      <td>NaN</td>\n",
       "      <td>Single arterial puncture vs arterial cannula f...</td>\n",
       "      <td>0</td>\n",
       "    </tr>\n",
       "  </tbody>\n",
       "</table>\n",
       "</div>"
      ],
      "text/plain": [
       "       sequential identifier  MEDLINE identifier  \\\n",
       "33852                  33698            87124329   \n",
       "246463                245341            90357619   \n",
       "307688                306209            91170056   \n",
       "5082                    5058            87097540   \n",
       "120978                120428            88110706   \n",
       "\n",
       "                                       source  \\\n",
       "33852      Am Heart J 8705; 113(2 Pt 1):273-9   \n",
       "246463     Transplant Proc 9011; 22(4):1885-6   \n",
       "307688      J Appl Physiol 9106; 69(6):2091-6   \n",
       "5082    Am J Obstet Gynecol 8704; 156(1):52-6   \n",
       "120978                Chest 8805; 93(2):294-8   \n",
       "\n",
       "                                               mesh_terms  \\\n",
       "33852   Aged; Comparative Study; Electrocardiography/*...   \n",
       "246463  Antibodies, Anti-Idiotypic/*IM; Antibodies, Mo...   \n",
       "307688  Animal; Blood Pressure; Cardiac Output; Hemody...   \n",
       "5082    Apgar Score; Cesarean Section/*; Delivery/*MT;...   \n",
       "120978  Adult; Aged; Arteries/*; Bloodletting/*; Carbo...   \n",
       "\n",
       "                                                    title  publication type  \\\n",
       "33852   Non-Q wave myocardial infarction: recent chang...  JOURNAL ARTICLE.   \n",
       "246463  IgM-anti-IgG antibody as cause of positive B-c...  JOURNAL ARTICLE.   \n",
       "307688  Altered baroreflex function after tail suspens...  JOURNAL ARTICLE.   \n",
       "5082    Randomized management of the second nonvertex ...  JOURNAL ARTICLE.   \n",
       "120978  Single arterial puncture vs arterial cannula f...  JOURNAL ARTICLE.   \n",
       "\n",
       "                                                 abstract  \\\n",
       "33852   A community-wide study of patients hospitalize...   \n",
       "246463                                                      \n",
       "307688  Experiments were performed on conscious chroni...   \n",
       "5082    Sixty twin deliveries after the thirty-fifth g...   \n",
       "120978  In an attempt to find the least invasive, safe...   \n",
       "\n",
       "                                                   author  is_relevant_ind  \\\n",
       "33852          Goldberg RJ; Gore JM; Alpert JS; Dalen JE.              NaN   \n",
       "246463  Terness P; Berteli AJ; Steinitz M; Mytillineos...              NaN   \n",
       "307688                             Brizzee BL; Walker BR.              NaN   \n",
       "5082    Rabinovici J; Barkai G; Reichman B; Serr DM; M...              NaN   \n",
       "120978           Frye M; DiBenedetto R; Lain D; Morgan K.              NaN   \n",
       "\n",
       "        Relevance_total                                     title_abstract  \\\n",
       "33852               NaN  Non-Q wave myocardial infarction: recent chang...   \n",
       "246463              NaN  IgM-anti-IgG antibody as cause of positive B-c...   \n",
       "307688              NaN  Altered baroreflex function after tail suspens...   \n",
       "5082                NaN  Randomized management of the second nonvertex ...   \n",
       "120978              NaN  Single arterial puncture vs arterial cannula f...   \n",
       "\n",
       "        label  \n",
       "33852       0  \n",
       "246463      0  \n",
       "307688      0  \n",
       "5082        0  \n",
       "120978      0  "
      ]
     },
     "execution_count": 9,
     "metadata": {},
     "output_type": "execute_result"
    }
   ],
   "source": [
    "def is_sensitive(mesh_terms):\n",
    "    if isinstance(mesh_terms, str):\n",
    "        return 1 if 'urogenital' in mesh_terms.lower() or 'pregnancy complications' in mesh_terms.lower() else 0\n",
    "    else:\n",
    "        return 0\n",
    "\n",
    "training.loc[:, 'label'] = training['mesh_terms'].apply(is_sensitive)\n",
    "test.loc[:, 'label'] = test['mesh_terms'].apply(is_sensitive)\n",
    "validation.loc[:, 'label'] = validation['mesh_terms'].apply(is_sensitive)\n",
    "training.head()\n",
    "test.head()\n",
    "validation.head()"
   ]
  },
  {
   "cell_type": "code",
   "execution_count": 10,
   "id": "60b3fe403a111283",
   "metadata": {
    "ExecuteTime": {
     "end_time": "2025-01-03T00:23:25.188858Z",
     "start_time": "2025-01-03T00:23:18.525960Z"
    }
   },
   "outputs": [],
   "source": [
    "from datasets import Dataset\n",
    "train_dataset = Dataset.from_pandas(training)\n",
    "test_dataset = Dataset.from_pandas(test)\n",
    "validation_dataset = Dataset.from_pandas(validation)"
   ]
  },
  {
   "cell_type": "markdown",
   "id": "b333bd941a53a20b",
   "metadata": {},
   "source": [
    "Tokenizing sentences"
   ]
  },
  {
   "cell_type": "code",
   "execution_count": 11,
   "id": "2375df8226a5ec6f",
   "metadata": {
    "ExecuteTime": {
     "end_time": "2025-01-03T01:02:21.211707Z",
     "start_time": "2025-01-03T00:23:25.250845Z"
    }
   },
   "outputs": [
    {
     "data": {
      "application/vnd.jupyter.widget-view+json": {
       "model_id": "34378ef083c94ace8b6da657e62420e8",
       "version_major": 2,
       "version_minor": 0
      },
      "text/plain": [
       "Map:   0%|          | 0/284015 [00:00<?, ? examples/s]"
      ]
     },
     "metadata": {},
     "output_type": "display_data"
    },
    {
     "data": {
      "application/vnd.jupyter.widget-view+json": {
       "model_id": "370ba479ed5f4aba8f49141b9b93b50e",
       "version_major": 2,
       "version_minor": 0
      },
      "text/plain": [
       "Map:   0%|          | 0/16140 [00:00<?, ? examples/s]"
      ]
     },
     "metadata": {},
     "output_type": "display_data"
    },
    {
     "data": {
      "application/vnd.jupyter.widget-view+json": {
       "model_id": "de8a81fca464407787b20c5442195fd8",
       "version_major": 2,
       "version_minor": 0
      },
      "text/plain": [
       "Map:   0%|          | 0/50121 [00:00<?, ? examples/s]"
      ]
     },
     "metadata": {},
     "output_type": "display_data"
    }
   ],
   "source": [
    "# Load the tokenizer\n",
    "tokenizer = DistilBertTokenizer.from_pretrained(\"distilbert-base-uncased\")\n",
    "\n",
    "# Tokenize the dataset for BERTs training\n",
    "def tokenize_function(examples):\n",
    "    return tokenizer(examples[\"title_abstract\"], truncation=True, padding=\"max_length\", max_length=512)\n",
    "\n",
    "train_dataset = train_dataset.map(tokenize_function, batched=True)\n",
    "test_dataset = test_dataset.map(tokenize_function, batched=True)\n",
    "validation_dataset = validation_dataset.map(tokenize_function, batched=True)\n",
    "\n",
    "train_dataset = train_dataset.remove_columns([\"title_abstract\"])\n",
    "test_dataset = test_dataset.remove_columns([\"title_abstract\"])\n",
    "validation_dataset = validation_dataset.remove_columns([\"title_abstract\"])\n",
    "\n",
    "train_dataset.set_format(\"torch\")\n",
    "test_dataset.set_format(\"torch\")\n",
    "validation_dataset.set_format(\"torch\")"
   ]
  },
  {
   "cell_type": "markdown",
   "id": "e32804bf6341b85c",
   "metadata": {},
   "source": [
    "Loading DistilBERT"
   ]
  },
  {
   "cell_type": "code",
   "execution_count": 12,
   "id": "ac2832a16280a76b",
   "metadata": {
    "ExecuteTime": {
     "end_time": "2025-01-03T01:03:01.842828Z",
     "start_time": "2025-01-03T01:03:01.830931Z"
    }
   },
   "outputs": [
    {
     "name": "stdout",
     "output_type": "stream",
     "text": [
      "Index(['sequential identifier', 'MEDLINE identifier', 'source', 'mesh_terms',\n",
      "       'title', 'publication type', 'abstract', 'author', 'is_relevant_ind',\n",
      "       'Relevance_total', 'title_abstract', 'label'],\n",
      "      dtype='object')\n"
     ]
    }
   ],
   "source": [
    "print(training.columns)"
   ]
  },
  {
   "cell_type": "code",
   "execution_count": 13,
   "id": "5c7ef9f777cd8f50",
   "metadata": {
    "ExecuteTime": {
     "start_time": "2025-01-03T01:03:07.234154Z"
    },
    "jupyter": {
     "is_executing": true
    }
   },
   "outputs": [
    {
     "name": "stderr",
     "output_type": "stream",
     "text": [
      "Some weights of DistilBertForSequenceClassification were not initialized from the model checkpoint at distilbert-base-uncased and are newly initialized: ['classifier.bias', 'classifier.weight', 'pre_classifier.bias', 'pre_classifier.weight']\n",
      "You should probably TRAIN this model on a down-stream task to be able to use it for predictions and inference.\n",
      "C:\\Users\\timgr\\AppData\\Roaming\\Python\\Python312\\site-packages\\transformers\\training_args.py:1575: FutureWarning: `evaluation_strategy` is deprecated and will be removed in version 4.46 of 🤗 Transformers. Use `eval_strategy` instead\n",
      "  warnings.warn(\n",
      "C:\\Users\\timgr\\AppData\\Local\\Temp\\ipykernel_24588\\755425586.py:47: FutureWarning: `tokenizer` is deprecated and will be removed in version 5.0.0 for `Trainer.__init__`. Use `processing_class` instead.\n",
      "  trainer = Trainer(\n"
     ]
    },
    {
     "data": {
      "application/vnd.jupyter.widget-view+json": {
       "model_id": "d305c2aee7ab4e90b3fbd3fa350c2ac6",
       "version_major": 2,
       "version_minor": 0
      },
      "text/plain": [
       "  0%|          | 0/106506 [00:00<?, ?it/s]"
      ]
     },
     "metadata": {},
     "output_type": "display_data"
    },
    {
     "name": "stdout",
     "output_type": "stream",
     "text": [
      "{'loss': 0.2843, 'grad_norm': 1.1465662717819214, 'learning_rate': 4.9995305428802135e-05, 'epoch': 0.0}\n",
      "{'loss': 0.1239, 'grad_norm': 0.27092117071151733, 'learning_rate': 4.999061085760427e-05, 'epoch': 0.0}\n",
      "{'loss': 0.0773, 'grad_norm': 0.10302159190177917, 'learning_rate': 4.9985916286406406e-05, 'epoch': 0.0}\n",
      "{'loss': 0.0686, 'grad_norm': 0.10726375132799149, 'learning_rate': 4.998122171520854e-05, 'epoch': 0.0}\n",
      "{'loss': 0.0038, 'grad_norm': 0.0490945428609848, 'learning_rate': 4.997652714401067e-05, 'epoch': 0.0}\n",
      "{'loss': 0.0836, 'grad_norm': 3.1726717948913574, 'learning_rate': 4.9971832572812796e-05, 'epoch': 0.0}\n",
      "{'loss': 0.002, 'grad_norm': 0.046888530254364014, 'learning_rate': 4.9967138001614935e-05, 'epoch': 0.0}\n",
      "{'loss': 0.0841, 'grad_norm': 0.06569775193929672, 'learning_rate': 4.996244343041707e-05, 'epoch': 0.0}\n",
      "{'loss': 0.0029, 'grad_norm': 0.039168283343315125, 'learning_rate': 4.99577488592192e-05, 'epoch': 0.0}\n",
      "{'loss': 0.0018, 'grad_norm': 0.02960699424147606, 'learning_rate': 4.995305428802133e-05, 'epoch': 0.0}\n",
      "{'loss': 0.2519, 'grad_norm': 0.07518134266138077, 'learning_rate': 4.994835971682347e-05, 'epoch': 0.0}\n",
      "{'loss': 0.0048, 'grad_norm': 0.08654867112636566, 'learning_rate': 4.99436651456256e-05, 'epoch': 0.0}\n",
      "{'loss': 0.0032, 'grad_norm': 0.047894127666950226, 'learning_rate': 4.9938970574427735e-05, 'epoch': 0.0}\n",
      "{'loss': 0.0019, 'grad_norm': 0.033306386321783066, 'learning_rate': 4.993427600322987e-05, 'epoch': 0.0}\n",
      "{'loss': 0.0868, 'grad_norm': 0.0351356640458107, 'learning_rate': 4.9929581432032e-05, 'epoch': 0.0}\n",
      "{'loss': 0.0853, 'grad_norm': 0.05924380570650101, 'learning_rate': 4.992488686083414e-05, 'epoch': 0.0}\n",
      "{'loss': 0.0778, 'grad_norm': 0.06141631677746773, 'learning_rate': 4.992019228963627e-05, 'epoch': 0.0}\n",
      "{'loss': 0.0031, 'grad_norm': 0.05679459124803543, 'learning_rate': 4.9915497718438396e-05, 'epoch': 0.01}\n",
      "{'loss': 0.0023, 'grad_norm': 0.03855253383517265, 'learning_rate': 4.991080314724053e-05, 'epoch': 0.01}\n",
      "{'loss': 0.0014, 'grad_norm': 0.021959006786346436, 'learning_rate': 4.990610857604267e-05, 'epoch': 0.01}\n",
      "{'loss': 0.001, 'grad_norm': 0.018370555713772774, 'learning_rate': 4.99014140048448e-05, 'epoch': 0.01}\n",
      "{'loss': 0.0007, 'grad_norm': 0.015239395201206207, 'learning_rate': 4.989671943364693e-05, 'epoch': 0.01}\n",
      "{'loss': 0.0937, 'grad_norm': 0.021781854331493378, 'learning_rate': 4.9892024862449064e-05, 'epoch': 0.01}\n",
      "{'loss': 0.1795, 'grad_norm': 3.3445746898651123, 'learning_rate': 4.98873302912512e-05, 'epoch': 0.01}\n",
      "{'loss': 0.081, 'grad_norm': 0.17615562677383423, 'learning_rate': 4.9882635720053335e-05, 'epoch': 0.01}\n",
      "{'loss': 0.0674, 'grad_norm': 0.12689870595932007, 'learning_rate': 4.987794114885547e-05, 'epoch': 0.01}\n",
      "{'loss': 0.1486, 'grad_norm': 0.09050901234149933, 'learning_rate': 4.98732465776576e-05, 'epoch': 0.01}\n",
      "{'loss': 0.1376, 'grad_norm': 0.31297409534454346, 'learning_rate': 4.986855200645973e-05, 'epoch': 0.01}\n",
      "{'loss': 0.007, 'grad_norm': 0.07556512951850891, 'learning_rate': 4.986385743526187e-05, 'epoch': 0.01}\n",
      "{'loss': 0.0024, 'grad_norm': 0.03543277829885483, 'learning_rate': 4.9859162864063996e-05, 'epoch': 0.01}\n",
      "{'loss': 0.1586, 'grad_norm': 0.10143919289112091, 'learning_rate': 4.985446829286613e-05, 'epoch': 0.01}\n",
      "{'loss': 0.0032, 'grad_norm': 0.06951157003641129, 'learning_rate': 4.984977372166826e-05, 'epoch': 0.01}\n",
      "{'loss': 0.0796, 'grad_norm': 0.04016292840242386, 'learning_rate': 4.98450791504704e-05, 'epoch': 0.01}\n",
      "{'loss': 0.0807, 'grad_norm': 0.08184163272380829, 'learning_rate': 4.984038457927253e-05, 'epoch': 0.01}\n",
      "{'loss': 0.1395, 'grad_norm': 0.13125762343406677, 'learning_rate': 4.9835690008074664e-05, 'epoch': 0.01}\n",
      "{'loss': 0.1206, 'grad_norm': 0.23562510311603546, 'learning_rate': 4.9830995436876796e-05, 'epoch': 0.01}\n",
      "{'loss': 0.0662, 'grad_norm': 0.14191791415214539, 'learning_rate': 4.9826300865678935e-05, 'epoch': 0.01}\n",
      "{'loss': 0.0695, 'grad_norm': 0.09610699862241745, 'learning_rate': 4.982160629448107e-05, 'epoch': 0.01}\n",
      "{'loss': 0.0737, 'grad_norm': 0.05791066959500313, 'learning_rate': 4.98169117232832e-05, 'epoch': 0.01}\n",
      "{'loss': 0.0767, 'grad_norm': 0.07940846681594849, 'learning_rate': 4.981221715208533e-05, 'epoch': 0.01}\n",
      "{'loss': 0.0037, 'grad_norm': 0.058841459453105927, 'learning_rate': 4.9807522580887464e-05, 'epoch': 0.01}\n",
      "{'loss': 0.0784, 'grad_norm': 3.3188283443450928, 'learning_rate': 4.9802828009689596e-05, 'epoch': 0.01}\n",
      "{'loss': 0.0029, 'grad_norm': 0.061596062034368515, 'learning_rate': 4.979813343849173e-05, 'epoch': 0.01}\n",
      "{'loss': 0.0022, 'grad_norm': 0.03287377581000328, 'learning_rate': 4.979343886729386e-05, 'epoch': 0.01}\n",
      "{'loss': 0.0013, 'grad_norm': 0.023905998095870018, 'learning_rate': 4.978874429609599e-05, 'epoch': 0.01}\n",
      "{'loss': 0.0009, 'grad_norm': 0.022042280063033104, 'learning_rate': 4.978404972489813e-05, 'epoch': 0.01}\n",
      "{'loss': 0.0008, 'grad_norm': 0.022054757922887802, 'learning_rate': 4.9779355153700264e-05, 'epoch': 0.01}\n",
      "{'loss': 0.0006, 'grad_norm': 0.01708219200372696, 'learning_rate': 4.9774660582502396e-05, 'epoch': 0.01}\n",
      "{'loss': 0.0005, 'grad_norm': 0.012935513630509377, 'learning_rate': 4.976996601130453e-05, 'epoch': 0.01}\n",
      "{'loss': 0.0004, 'grad_norm': 0.009564329870045185, 'learning_rate': 4.976527144010667e-05, 'epoch': 0.01}\n",
      "{'loss': 0.0004, 'grad_norm': 0.009073876775801182, 'learning_rate': 4.97605768689088e-05, 'epoch': 0.01}\n",
      "{'loss': 0.0003, 'grad_norm': 0.008813545107841492, 'learning_rate': 4.975588229771093e-05, 'epoch': 0.01}\n",
      "{'loss': 0.0857, 'grad_norm': 0.010101393796503544, 'learning_rate': 4.975118772651306e-05, 'epoch': 0.01}\n",
      "{'loss': 0.1521, 'grad_norm': 0.12127521634101868, 'learning_rate': 4.9746493155315197e-05, 'epoch': 0.02}\n",
      "{'loss': 0.0054, 'grad_norm': 0.38806942105293274, 'learning_rate': 4.974179858411733e-05, 'epoch': 0.02}\n",
      "{'loss': 0.0011, 'grad_norm': 0.020485857501626015, 'learning_rate': 4.973710401291946e-05, 'epoch': 0.02}\n",
      "{'loss': 0.1487, 'grad_norm': 0.026220988482236862, 'learning_rate': 4.973240944172159e-05, 'epoch': 0.02}\n",
      "{'loss': 0.0758, 'grad_norm': 0.0540664903819561, 'learning_rate': 4.9727714870523725e-05, 'epoch': 0.02}\n",
      "{'loss': 0.0791, 'grad_norm': 0.07364894449710846, 'learning_rate': 4.9723020299325864e-05, 'epoch': 0.02}\n",
      "{'loss': 0.0545, 'grad_norm': 15.666070938110352, 'learning_rate': 4.9718325728128e-05, 'epoch': 0.02}\n",
      "{'loss': 0.0468, 'grad_norm': 0.026346279308199883, 'learning_rate': 4.971363115693013e-05, 'epoch': 0.02}\n",
      "{'loss': 0.0014, 'grad_norm': 0.02277672104537487, 'learning_rate': 4.970893658573226e-05, 'epoch': 0.02}\n",
      "{'loss': 0.2006, 'grad_norm': 3.7734599113464355, 'learning_rate': 4.97042420145344e-05, 'epoch': 0.02}\n",
      "{'loss': 0.0095, 'grad_norm': 1.621913194656372, 'learning_rate': 4.969954744333653e-05, 'epoch': 0.02}\n",
      "{'loss': 0.0018, 'grad_norm': 0.033725328743457794, 'learning_rate': 4.969485287213866e-05, 'epoch': 0.02}\n",
      "{'loss': 0.0837, 'grad_norm': 0.06109499931335449, 'learning_rate': 4.969015830094079e-05, 'epoch': 0.02}\n",
      "{'loss': 0.1209, 'grad_norm': 0.04878055676817894, 'learning_rate': 4.968546372974293e-05, 'epoch': 0.02}\n",
      "{'loss': 0.0032, 'grad_norm': 0.3713076710700989, 'learning_rate': 4.968076915854506e-05, 'epoch': 0.02}\n",
      "{'loss': 0.0018, 'grad_norm': 0.026326168328523636, 'learning_rate': 4.9676074587347193e-05, 'epoch': 0.02}\n",
      "{'loss': 0.001, 'grad_norm': 0.019555669277906418, 'learning_rate': 4.9671380016149326e-05, 'epoch': 0.02}\n",
      "{'loss': 0.0759, 'grad_norm': 0.01985383778810501, 'learning_rate': 4.966668544495146e-05, 'epoch': 0.02}\n",
      "{'loss': 0.0244, 'grad_norm': 0.01937236823141575, 'learning_rate': 4.96619908737536e-05, 'epoch': 0.02}\n",
      "{'loss': 0.1095, 'grad_norm': 5.786746025085449, 'learning_rate': 4.965729630255573e-05, 'epoch': 0.02}\n",
      "{'loss': 0.0083, 'grad_norm': 0.7674090266227722, 'learning_rate': 4.965260173135786e-05, 'epoch': 0.02}\n",
      "{'loss': 0.0021, 'grad_norm': 0.01470430102199316, 'learning_rate': 4.9647907160159994e-05, 'epoch': 0.02}\n",
      "{'loss': 0.1049, 'grad_norm': 0.06382910907268524, 'learning_rate': 4.9643212588962126e-05, 'epoch': 0.02}\n",
      "{'loss': 0.0016, 'grad_norm': 0.027960363775491714, 'learning_rate': 4.963851801776426e-05, 'epoch': 0.02}\n",
      "{'loss': 0.0009, 'grad_norm': 0.013437853194773197, 'learning_rate': 4.963382344656639e-05, 'epoch': 0.02}\n",
      "{'loss': 0.0006, 'grad_norm': 0.014214340597391129, 'learning_rate': 4.962912887536852e-05, 'epoch': 0.02}\n",
      "{'loss': 0.0005, 'grad_norm': 0.013386167585849762, 'learning_rate': 4.962443430417066e-05, 'epoch': 0.02}\n",
      "{'loss': 0.0004, 'grad_norm': 0.010681452229619026, 'learning_rate': 4.9619739732972794e-05, 'epoch': 0.02}\n",
      "{'loss': 0.0006, 'grad_norm': 0.007892047986388206, 'learning_rate': 4.9615045161774926e-05, 'epoch': 0.02}\n",
      "{'loss': 0.0648, 'grad_norm': 0.010568096302449703, 'learning_rate': 4.961035059057706e-05, 'epoch': 0.02}\n",
      "{'loss': 0.0005, 'grad_norm': 0.01030435599386692, 'learning_rate': 4.960565601937919e-05, 'epoch': 0.02}\n",
      "{'loss': 0.001, 'grad_norm': 0.01660349778831005, 'learning_rate': 4.960096144818133e-05, 'epoch': 0.02}\n",
      "{'loss': 0.0008, 'grad_norm': 0.008168062195181847, 'learning_rate': 4.959626687698346e-05, 'epoch': 0.02}\n",
      "{'loss': 0.0003, 'grad_norm': 0.007977094501256943, 'learning_rate': 4.9591572305785594e-05, 'epoch': 0.02}\n",
      "{'loss': 0.1768, 'grad_norm': 0.013033692725002766, 'learning_rate': 4.9586877734587726e-05, 'epoch': 0.02}\n",
      "{'loss': 0.0009, 'grad_norm': 0.018287409096956253, 'learning_rate': 4.958218316338986e-05, 'epoch': 0.03}\n",
      "{'loss': 0.0495, 'grad_norm': 0.021376073360443115, 'learning_rate': 4.957748859219199e-05, 'epoch': 0.03}\n",
      "{'loss': 0.0898, 'grad_norm': 3.5752060413360596, 'learning_rate': 4.957279402099412e-05, 'epoch': 0.03}\n",
      "{'loss': 0.1103, 'grad_norm': 0.0958055928349495, 'learning_rate': 4.9568099449796255e-05, 'epoch': 0.03}\n",
      "{'loss': 0.0873, 'grad_norm': 3.3431625366210938, 'learning_rate': 4.9563404878598394e-05, 'epoch': 0.03}\n",
      "{'loss': 0.003, 'grad_norm': 0.06375662237405777, 'learning_rate': 4.9558710307400526e-05, 'epoch': 0.03}\n",
      "{'loss': 0.0312, 'grad_norm': 1.2524057626724243, 'learning_rate': 4.955401573620266e-05, 'epoch': 0.03}\n",
      "{'loss': 0.0884, 'grad_norm': 3.4847233295440674, 'learning_rate': 4.954932116500479e-05, 'epoch': 0.03}\n",
      "{'loss': 0.0198, 'grad_norm': 0.036466699093580246, 'learning_rate': 4.954462659380692e-05, 'epoch': 0.03}\n",
      "{'loss': 0.0255, 'grad_norm': 0.03107299469411373, 'learning_rate': 4.953993202260906e-05, 'epoch': 0.03}\n",
      "{'loss': 0.1011, 'grad_norm': 0.027537010610103607, 'learning_rate': 4.9535237451411194e-05, 'epoch': 0.03}\n",
      "{'loss': 0.004, 'grad_norm': 0.037084273993968964, 'learning_rate': 4.9530542880213326e-05, 'epoch': 0.03}\n",
      "{'loss': 0.0333, 'grad_norm': 0.03255493938922882, 'learning_rate': 4.952584830901545e-05, 'epoch': 0.03}\n",
      "{'loss': 0.0035, 'grad_norm': 0.02402856945991516, 'learning_rate': 4.952115373781759e-05, 'epoch': 0.03}\n",
      "{'loss': 0.0061, 'grad_norm': 0.3786619305610657, 'learning_rate': 4.951645916661972e-05, 'epoch': 0.03}\n",
      "{'loss': 0.1464, 'grad_norm': 1.5769450664520264, 'learning_rate': 4.9511764595421855e-05, 'epoch': 0.03}\n",
      "{'loss': 0.0846, 'grad_norm': 0.04102515056729317, 'learning_rate': 4.950707002422399e-05, 'epoch': 0.03}\n",
      "{'loss': 0.0273, 'grad_norm': 0.05723825469613075, 'learning_rate': 4.9502375453026126e-05, 'epoch': 0.03}\n",
      "{'loss': 0.0019, 'grad_norm': 0.029457276687026024, 'learning_rate': 4.949768088182826e-05, 'epoch': 0.03}\n",
      "{'loss': 0.007, 'grad_norm': 0.018592912703752518, 'learning_rate': 4.949298631063039e-05, 'epoch': 0.03}\n",
      "{'loss': 0.1175, 'grad_norm': 0.032757069915533066, 'learning_rate': 4.948829173943252e-05, 'epoch': 0.03}\n",
      "{'loss': 0.0111, 'grad_norm': 1.904043197631836, 'learning_rate': 4.9483597168234655e-05, 'epoch': 0.03}\n",
      "{'loss': 0.0065, 'grad_norm': 0.5703570246696472, 'learning_rate': 4.9478902597036794e-05, 'epoch': 0.03}\n",
      "{'loss': 0.0207, 'grad_norm': 0.017794841900467873, 'learning_rate': 4.947420802583892e-05, 'epoch': 0.03}\n",
      "{'loss': 0.019, 'grad_norm': 0.01398091297596693, 'learning_rate': 4.946951345464105e-05, 'epoch': 0.03}\n"
     ]
    },
    {
     "ename": "KeyboardInterrupt",
     "evalue": "",
     "output_type": "error",
     "traceback": [
      "\u001b[1;31m---------------------------------------------------------------------------\u001b[0m",
      "\u001b[1;31mKeyboardInterrupt\u001b[0m                         Traceback (most recent call last)",
      "Cell \u001b[1;32mIn[13], line 57\u001b[0m\n\u001b[0;32m     47\u001b[0m trainer \u001b[38;5;241m=\u001b[39m Trainer(\n\u001b[0;32m     48\u001b[0m     model\u001b[38;5;241m=\u001b[39mmodel,                            \u001b[38;5;66;03m# Model to train\u001b[39;00m\n\u001b[0;32m     49\u001b[0m     args\u001b[38;5;241m=\u001b[39mtraining_args,                     \u001b[38;5;66;03m# Training arguments\u001b[39;00m\n\u001b[1;32m   (...)\u001b[0m\n\u001b[0;32m     53\u001b[0m     compute_metrics\u001b[38;5;241m=\u001b[39mcompute_metrics         \u001b[38;5;66;03m# Function to compute metrics\u001b[39;00m\n\u001b[0;32m     54\u001b[0m )\n\u001b[0;32m     56\u001b[0m \u001b[38;5;66;03m# Train the model\u001b[39;00m\n\u001b[1;32m---> 57\u001b[0m trainer\u001b[38;5;241m.\u001b[39mtrain()\n\u001b[0;32m     59\u001b[0m \u001b[38;5;66;03m# Evaluate the model on the test dataset\u001b[39;00m\n\u001b[0;32m     60\u001b[0m test_results \u001b[38;5;241m=\u001b[39m trainer\u001b[38;5;241m.\u001b[39mevaluate(test_dataset)\n",
      "File \u001b[1;32m~\\AppData\\Roaming\\Python\\Python312\\site-packages\\transformers\\trainer.py:2164\u001b[0m, in \u001b[0;36mTrainer.train\u001b[1;34m(self, resume_from_checkpoint, trial, ignore_keys_for_eval, **kwargs)\u001b[0m\n\u001b[0;32m   2162\u001b[0m         hf_hub_utils\u001b[38;5;241m.\u001b[39menable_progress_bars()\n\u001b[0;32m   2163\u001b[0m \u001b[38;5;28;01melse\u001b[39;00m:\n\u001b[1;32m-> 2164\u001b[0m     \u001b[38;5;28;01mreturn\u001b[39;00m inner_training_loop(\n\u001b[0;32m   2165\u001b[0m         args\u001b[38;5;241m=\u001b[39margs,\n\u001b[0;32m   2166\u001b[0m         resume_from_checkpoint\u001b[38;5;241m=\u001b[39mresume_from_checkpoint,\n\u001b[0;32m   2167\u001b[0m         trial\u001b[38;5;241m=\u001b[39mtrial,\n\u001b[0;32m   2168\u001b[0m         ignore_keys_for_eval\u001b[38;5;241m=\u001b[39mignore_keys_for_eval,\n\u001b[0;32m   2169\u001b[0m     )\n",
      "File \u001b[1;32m~\\AppData\\Roaming\\Python\\Python312\\site-packages\\transformers\\trainer.py:2524\u001b[0m, in \u001b[0;36mTrainer._inner_training_loop\u001b[1;34m(self, batch_size, args, resume_from_checkpoint, trial, ignore_keys_for_eval)\u001b[0m\n\u001b[0;32m   2517\u001b[0m context \u001b[38;5;241m=\u001b[39m (\n\u001b[0;32m   2518\u001b[0m     functools\u001b[38;5;241m.\u001b[39mpartial(\u001b[38;5;28mself\u001b[39m\u001b[38;5;241m.\u001b[39maccelerator\u001b[38;5;241m.\u001b[39mno_sync, model\u001b[38;5;241m=\u001b[39mmodel)\n\u001b[0;32m   2519\u001b[0m     \u001b[38;5;28;01mif\u001b[39;00m i \u001b[38;5;241m!=\u001b[39m \u001b[38;5;28mlen\u001b[39m(batch_samples) \u001b[38;5;241m-\u001b[39m \u001b[38;5;241m1\u001b[39m\n\u001b[0;32m   2520\u001b[0m     \u001b[38;5;129;01mand\u001b[39;00m \u001b[38;5;28mself\u001b[39m\u001b[38;5;241m.\u001b[39maccelerator\u001b[38;5;241m.\u001b[39mdistributed_type \u001b[38;5;241m!=\u001b[39m DistributedType\u001b[38;5;241m.\u001b[39mDEEPSPEED\n\u001b[0;32m   2521\u001b[0m     \u001b[38;5;28;01melse\u001b[39;00m contextlib\u001b[38;5;241m.\u001b[39mnullcontext\n\u001b[0;32m   2522\u001b[0m )\n\u001b[0;32m   2523\u001b[0m \u001b[38;5;28;01mwith\u001b[39;00m context():\n\u001b[1;32m-> 2524\u001b[0m     tr_loss_step \u001b[38;5;241m=\u001b[39m \u001b[38;5;28mself\u001b[39m\u001b[38;5;241m.\u001b[39mtraining_step(model, inputs, num_items_in_batch)\n\u001b[0;32m   2526\u001b[0m \u001b[38;5;28;01mif\u001b[39;00m (\n\u001b[0;32m   2527\u001b[0m     args\u001b[38;5;241m.\u001b[39mlogging_nan_inf_filter\n\u001b[0;32m   2528\u001b[0m     \u001b[38;5;129;01mand\u001b[39;00m \u001b[38;5;129;01mnot\u001b[39;00m is_torch_xla_available()\n\u001b[0;32m   2529\u001b[0m     \u001b[38;5;129;01mand\u001b[39;00m (torch\u001b[38;5;241m.\u001b[39misnan(tr_loss_step) \u001b[38;5;129;01mor\u001b[39;00m torch\u001b[38;5;241m.\u001b[39misinf(tr_loss_step))\n\u001b[0;32m   2530\u001b[0m ):\n\u001b[0;32m   2531\u001b[0m     \u001b[38;5;66;03m# if loss is nan or inf simply add the average of previous logged losses\u001b[39;00m\n\u001b[0;32m   2532\u001b[0m     tr_loss \u001b[38;5;241m=\u001b[39m tr_loss \u001b[38;5;241m+\u001b[39m tr_loss \u001b[38;5;241m/\u001b[39m (\u001b[38;5;241m1\u001b[39m \u001b[38;5;241m+\u001b[39m \u001b[38;5;28mself\u001b[39m\u001b[38;5;241m.\u001b[39mstate\u001b[38;5;241m.\u001b[39mglobal_step \u001b[38;5;241m-\u001b[39m \u001b[38;5;28mself\u001b[39m\u001b[38;5;241m.\u001b[39m_globalstep_last_logged)\n",
      "File \u001b[1;32m~\\AppData\\Roaming\\Python\\Python312\\site-packages\\transformers\\trainer.py:3687\u001b[0m, in \u001b[0;36mTrainer.training_step\u001b[1;34m(***failed resolving arguments***)\u001b[0m\n\u001b[0;32m   3685\u001b[0m         scaled_loss\u001b[38;5;241m.\u001b[39mbackward()\n\u001b[0;32m   3686\u001b[0m \u001b[38;5;28;01melse\u001b[39;00m:\n\u001b[1;32m-> 3687\u001b[0m     \u001b[38;5;28mself\u001b[39m\u001b[38;5;241m.\u001b[39maccelerator\u001b[38;5;241m.\u001b[39mbackward(loss, \u001b[38;5;241m*\u001b[39m\u001b[38;5;241m*\u001b[39mkwargs)\n\u001b[0;32m   3688\u001b[0m     \u001b[38;5;66;03m# Finally we need to normalize the loss for reporting\u001b[39;00m\n\u001b[0;32m   3689\u001b[0m     \u001b[38;5;28;01mif\u001b[39;00m num_items_in_batch \u001b[38;5;129;01mis\u001b[39;00m \u001b[38;5;28;01mNone\u001b[39;00m:\n",
      "File \u001b[1;32m~\\AppData\\Roaming\\Python\\Python312\\site-packages\\accelerate\\accelerator.py:2248\u001b[0m, in \u001b[0;36mAccelerator.backward\u001b[1;34m(self, loss, **kwargs)\u001b[0m\n\u001b[0;32m   2246\u001b[0m     \u001b[38;5;28mself\u001b[39m\u001b[38;5;241m.\u001b[39mlomo_backward(loss, learning_rate)\n\u001b[0;32m   2247\u001b[0m \u001b[38;5;28;01melse\u001b[39;00m:\n\u001b[1;32m-> 2248\u001b[0m     loss\u001b[38;5;241m.\u001b[39mbackward(\u001b[38;5;241m*\u001b[39m\u001b[38;5;241m*\u001b[39mkwargs)\n",
      "File \u001b[1;32m~\\AppData\\Roaming\\Python\\Python312\\site-packages\\torch\\_tensor.py:581\u001b[0m, in \u001b[0;36mTensor.backward\u001b[1;34m(self, gradient, retain_graph, create_graph, inputs)\u001b[0m\n\u001b[0;32m    571\u001b[0m \u001b[38;5;28;01mif\u001b[39;00m has_torch_function_unary(\u001b[38;5;28mself\u001b[39m):\n\u001b[0;32m    572\u001b[0m     \u001b[38;5;28;01mreturn\u001b[39;00m handle_torch_function(\n\u001b[0;32m    573\u001b[0m         Tensor\u001b[38;5;241m.\u001b[39mbackward,\n\u001b[0;32m    574\u001b[0m         (\u001b[38;5;28mself\u001b[39m,),\n\u001b[1;32m   (...)\u001b[0m\n\u001b[0;32m    579\u001b[0m         inputs\u001b[38;5;241m=\u001b[39minputs,\n\u001b[0;32m    580\u001b[0m     )\n\u001b[1;32m--> 581\u001b[0m torch\u001b[38;5;241m.\u001b[39mautograd\u001b[38;5;241m.\u001b[39mbackward(\n\u001b[0;32m    582\u001b[0m     \u001b[38;5;28mself\u001b[39m, gradient, retain_graph, create_graph, inputs\u001b[38;5;241m=\u001b[39minputs\n\u001b[0;32m    583\u001b[0m )\n",
      "File \u001b[1;32m~\\AppData\\Roaming\\Python\\Python312\\site-packages\\torch\\autograd\\__init__.py:347\u001b[0m, in \u001b[0;36mbackward\u001b[1;34m(tensors, grad_tensors, retain_graph, create_graph, grad_variables, inputs)\u001b[0m\n\u001b[0;32m    342\u001b[0m     retain_graph \u001b[38;5;241m=\u001b[39m create_graph\n\u001b[0;32m    344\u001b[0m \u001b[38;5;66;03m# The reason we repeat the same comment below is that\u001b[39;00m\n\u001b[0;32m    345\u001b[0m \u001b[38;5;66;03m# some Python versions print out the first line of a multi-line function\u001b[39;00m\n\u001b[0;32m    346\u001b[0m \u001b[38;5;66;03m# calls in the traceback and some print out the last line\u001b[39;00m\n\u001b[1;32m--> 347\u001b[0m _engine_run_backward(\n\u001b[0;32m    348\u001b[0m     tensors,\n\u001b[0;32m    349\u001b[0m     grad_tensors_,\n\u001b[0;32m    350\u001b[0m     retain_graph,\n\u001b[0;32m    351\u001b[0m     create_graph,\n\u001b[0;32m    352\u001b[0m     inputs,\n\u001b[0;32m    353\u001b[0m     allow_unreachable\u001b[38;5;241m=\u001b[39m\u001b[38;5;28;01mTrue\u001b[39;00m,\n\u001b[0;32m    354\u001b[0m     accumulate_grad\u001b[38;5;241m=\u001b[39m\u001b[38;5;28;01mTrue\u001b[39;00m,\n\u001b[0;32m    355\u001b[0m )\n",
      "File \u001b[1;32m~\\AppData\\Roaming\\Python\\Python312\\site-packages\\torch\\autograd\\graph.py:825\u001b[0m, in \u001b[0;36m_engine_run_backward\u001b[1;34m(t_outputs, *args, **kwargs)\u001b[0m\n\u001b[0;32m    823\u001b[0m     unregister_hooks \u001b[38;5;241m=\u001b[39m _register_logging_hooks_on_whole_graph(t_outputs)\n\u001b[0;32m    824\u001b[0m \u001b[38;5;28;01mtry\u001b[39;00m:\n\u001b[1;32m--> 825\u001b[0m     \u001b[38;5;28;01mreturn\u001b[39;00m Variable\u001b[38;5;241m.\u001b[39m_execution_engine\u001b[38;5;241m.\u001b[39mrun_backward(  \u001b[38;5;66;03m# Calls into the C++ engine to run the backward pass\u001b[39;00m\n\u001b[0;32m    826\u001b[0m         t_outputs, \u001b[38;5;241m*\u001b[39margs, \u001b[38;5;241m*\u001b[39m\u001b[38;5;241m*\u001b[39mkwargs\n\u001b[0;32m    827\u001b[0m     )  \u001b[38;5;66;03m# Calls into the C++ engine to run the backward pass\u001b[39;00m\n\u001b[0;32m    828\u001b[0m \u001b[38;5;28;01mfinally\u001b[39;00m:\n\u001b[0;32m    829\u001b[0m     \u001b[38;5;28;01mif\u001b[39;00m attach_logging_hooks:\n",
      "\u001b[1;31mKeyboardInterrupt\u001b[0m: "
     ]
    }
   ],
   "source": [
    "from transformers import DistilBertForSequenceClassification, Trainer, TrainingArguments\n",
    "from sklearn.metrics import precision_score, recall_score, f1_score, accuracy_score\n",
    "\n",
    "# Define the compute_metrics function\n",
    "def compute_metrics(eval_pred):\n",
    "    logits, labels = eval_pred\n",
    "    predictions = logits.argmax(axis=-1)\n",
    "\n",
    "    precision = precision_score(labels, predictions, average=\"binary\")\n",
    "    recall = recall_score(labels, predictions, average=\"binary\")\n",
    "    f1 = f1_score(labels, predictions, average=\"binary\")\n",
    "    f2 = f1_score(labels, predictions, beta=2, average=\"binary\")\n",
    "    accuracy = accuracy_score(labels, predictions)\n",
    "\n",
    "    return {\n",
    "        \"accuracy\": accuracy,\n",
    "        \"precision\": precision,\n",
    "        \"recall\": recall,\n",
    "        \"f1\": f1,\n",
    "        \"f2\": f2,\n",
    "    }\n",
    "\n",
    "# Load the model with the number of labels\n",
    "num_labels = len(set(training[\"label\"]))\n",
    "model = DistilBertForSequenceClassification.from_pretrained(\n",
    "    \"distilbert-base-uncased\",\n",
    "    num_labels=num_labels\n",
    ")\n",
    "\n",
    "# Define training arguments\n",
    "training_args = TrainingArguments(\n",
    "    output_dir=\"./results\",                  # Directory to save models and checkpoints\n",
    "    evaluation_strategy=\"epoch\",            # Evaluate after each epoch\n",
    "    #learning_rate=2e-5,                     # Learning rate\n",
    "    #per_device_train_batch_size=16,         # Training batch size\n",
    "    #per_device_eval_batch_size=16,          # Evaluation batch size\n",
    "    #num_train_epochs=3,                     # Number of epochs\n",
    "    #weight_decay=0.01,                      # Regularization weight decay\n",
    "    logging_dir=\"./logs\",                   # Directory for logs\n",
    "    logging_steps=10,                       # Log every 10 steps\n",
    "    save_strategy=\"epoch\",                  # Save checkpoint after each epoch\n",
    "    metric_for_best_model=\"f1\",             # Choose F1 as the metric to optimize\n",
    "    #load_best_model_at_end=True             # Load the best model at the end of training\n",
    ")\n",
    "\n",
    "# Defining the Trainer\n",
    "trainer = Trainer(\n",
    "    model=model,                            # Model to train\n",
    "    args=training_args,                     # Training arguments\n",
    "    train_dataset=train_dataset,            # Training dataset\n",
    "    eval_dataset=validation_dataset,        # Validation dataset\n",
    "    tokenizer=tokenizer,                    # Tokenizer for data processing\n",
    "    compute_metrics=compute_metrics         # Function to compute metrics\n",
    ")\n",
    "\n",
    "# Train the model\n",
    "trainer.train()\n",
    "\n",
    "# Evaluate the model on the test dataset\n",
    "test_results = trainer.evaluate(test_dataset)\n",
    "\n",
    "print(\"Test Metrics:\", test_results)\n"
   ]
  },
  {
   "cell_type": "markdown",
   "id": "892c48eb4e3d2c9e",
   "metadata": {},
   "source": [
    "Defining trainer and finetuning BERT"
   ]
  },
  {
   "cell_type": "markdown",
   "id": "e5274c60a10fbd90",
   "metadata": {},
   "source": [
    "Training and evaluating"
   ]
  }
 ],
 "metadata": {
  "kernelspec": {
   "display_name": "base",
   "language": "python",
   "name": "python3"
  },
  "language_info": {
   "codemirror_mode": {
    "name": "ipython",
    "version": 3
   },
   "file_extension": ".py",
   "mimetype": "text/x-python",
   "name": "python",
   "nbconvert_exporter": "python",
   "pygments_lexer": "ipython3",
   "version": "3.12.4"
  }
 },
 "nbformat": 4,
 "nbformat_minor": 5
}
