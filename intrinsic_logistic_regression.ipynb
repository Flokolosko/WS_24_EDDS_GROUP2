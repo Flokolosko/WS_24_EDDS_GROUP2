{
  "cells": [
    {
      "cell_type": "markdown",
      "id": "35dc65b72dbf70a2",
      "metadata": {
        "id": "35dc65b72dbf70a2"
      },
      "source": [
        "# Intrinsic Evaluation\n",
        "Firstly, we will load the *OHSUMED* data from different files and merge them into one combined dataframe, containing all years from 1987 - 1991. Afterwards, we will load the file where the relevance labels of documents during all five years will be labeled. In the end, we will left join the relevance labels to our main dataframe.\n",
        "\n",
        "This data was not given by the paper and we had to search for it ourselves which was quite challenging."
      ]
    },
    {
      "cell_type": "code",
      "execution_count": 5,
      "id": "4e74b25fa83a4bba",
      "metadata": {
        "id": "4e74b25fa83a4bba"
      },
      "outputs": [],
      "source": [
        "import pandas as pd\n",
        "import numpy as np\n",
        "from sklearn.model_selection import train_test_split\n",
        "from sklearn.metrics import precision_score, recall_score, f1_score, accuracy_score\n",
        "\n",
        "def parse_ohsumed_file(file_path):\n",
        "    \"\"\"Parses an OHSUMED file into a DataFrame with proper column names.\"\"\"\n",
        "    documents = []\n",
        "    document = {}\n",
        "\n",
        "    # Read the file line by line\n",
        "    with open(file_path, 'r', encoding='utf-8') as f:\n",
        "        for line in f:\n",
        "            line = line.strip()  # Remove extra whitespace\n",
        "\n",
        "            if line.startswith(\".I\"):  # New document identifier\n",
        "                if document:  # If there's an existing document, save it\n",
        "                    documents.append(document)\n",
        "                document = {\"sequential identifier\": line[3:]}  # Initialize a new document\n",
        "\n",
        "            elif line.startswith(\".U\"):  # MEDLINE identifier\n",
        "                document[\"MEDLINE identifier\"] = next(f).strip()\n",
        "\n",
        "            elif line.startswith(\".S\"):  # Source\n",
        "                document[\"source\"] = next(f).strip()\n",
        "\n",
        "            elif line.startswith(\".M\"):  # MeSH terms\n",
        "                document[\"mesh_terms\"] = next(f).strip()\n",
        "\n",
        "            elif line.startswith(\".T\"):  # Title\n",
        "                document[\"title\"] = next(f).strip()\n",
        "\n",
        "            elif line.startswith(\".P\"):  # Publication type\n",
        "                document[\"publication type\"] = next(f).strip()\n",
        "\n",
        "            elif line.startswith(\".W\"):  # Abstract\n",
        "                document[\"abstract\"] = next(f).strip()\n",
        "\n",
        "            elif line.startswith(\".A\"):  # Author\n",
        "                document[\"author\"] = next(f).strip()\n",
        "\n",
        "    # Add the last document if it exists\n",
        "    if document:\n",
        "        documents.append(document)\n",
        "\n",
        "    # Convert the list of documents into a DataFrame\n",
        "    return pd.DataFrame(documents)\n",
        "\n",
        "# File paths for individual files\n",
        "file_87_path = \"data/ohsumed.87.txt\"\n",
        "file_88_path = \"data/ohsumed.88.txt\"\n",
        "file_89_path = \"data/ohsumed.89.txt\"\n",
        "file_90_path = \"data/ohsumed.90.txt\"\n",
        "file_91_path = \"data/ohsumed.91.txt\"\n",
        "\n",
        "# Parse each file into its own DataFrame\n",
        "df_ohsumed_87 = parse_ohsumed_file(file_87_path)\n",
        "df_ohsumed_88 = parse_ohsumed_file(file_88_path)\n",
        "df_ohsumed_89 = parse_ohsumed_file(file_89_path)\n",
        "df_ohsumed_90 = parse_ohsumed_file(file_90_path)\n",
        "df_ohsumed_91 = parse_ohsumed_file(file_91_path)"
      ]
    },
    {
      "cell_type": "code",
      "execution_count": 6,
      "id": "1f82e80aca558d1d",
      "metadata": {
        "colab": {
          "base_uri": "https://localhost:8080/"
        },
        "id": "1f82e80aca558d1d",
        "outputId": "98c8a9a2-07d6-489d-8581-0b0984e52760"
      },
      "outputs": [
        {
          "name": "stdout",
          "output_type": "stream",
          "text": [
            "Number of rows in ohsumed.87: 54710\n",
            "Number of rows in ohsumed.88: 70825\n",
            "Number of rows in ohsumed.89: 74869\n",
            "Number of rows in ohsumed.90: 73824\n",
            "Number of rows in ohsumed.91: 74338\n"
          ]
        }
      ],
      "source": [
        "# Checking row amount of all years files\n",
        "print(f\"Number of rows in ohsumed.87: {len(df_ohsumed_87)}\")\n",
        "print(f\"Number of rows in ohsumed.88: {len(df_ohsumed_88)}\")\n",
        "print(f\"Number of rows in ohsumed.89: {len(df_ohsumed_89)}\")\n",
        "print(f\"Number of rows in ohsumed.90: {len(df_ohsumed_90)}\")\n",
        "print(f\"Number of rows in ohsumed.91: {len(df_ohsumed_91)}\")"
      ]
    },
    {
      "cell_type": "code",
      "execution_count": 7,
      "id": "e40060215a7b92d8",
      "metadata": {
        "colab": {
          "base_uri": "https://localhost:8080/"
        },
        "id": "e40060215a7b92d8",
        "outputId": "5620b4f0-a728-4e13-8754-89a57dcfd76a"
      },
      "outputs": [
        {
          "name": "stdout",
          "output_type": "stream",
          "text": [
            "Combined DataFrame shape: (348566, 8)\n",
            "  sequential identifier MEDLINE identifier                             source  \\\n",
            "0                     1           87049087    Am J Emerg Med 8703; 4(6):491-5   \n",
            "1                     2           87049088  Am J Emerg Med 8703; 4(6):496-500   \n",
            "2                     3           87049089    Am J Emerg Med 8703; 4(6):501-3   \n",
            "3                     4           87049090    Am J Emerg Med 8703; 4(6):504-6   \n",
            "4                     5           87049092    Am J Emerg Med 8703; 4(6):511-3   \n",
            "\n",
            "                                          mesh_terms  \\\n",
            "0  Allied Health Personnel/*; Electric Countersho...   \n",
            "1  Antidepressive Agents, Tricyclic/*PO; Arrhythm...   \n",
            "2  Adult; Aircraft/*; Altitude/*; Blood Gas Monit...   \n",
            "3  Adolescence; Adult; Aged; Blood Glucose/*ME; D...   \n",
            "4  Aged; Aged, 80 and over; Case Report; Female; ...   \n",
            "\n",
            "                                               title  publication type  \\\n",
            "0  Refibrillation managed by EMT-Ds: incidence an...  JOURNAL ARTICLE.   \n",
            "1  Tricyclic antidepressant overdose: emergency d...  JOURNAL ARTICLE.   \n",
            "2  Transconjunctival oxygen monitoring as a predi...  JOURNAL ARTICLE.   \n",
            "3  Serum glucose changes after administration of ...  JOURNAL ARTICLE.   \n",
            "4  Nasogastric intubation: morbidity in an asympt...  JOURNAL ARTICLE.   \n",
            "\n",
            "                                            abstract  \\\n",
            "0  Some patients converted from ventricular fibri...   \n",
            "1  There is controversy regarding the appropriate...   \n",
            "2  As the use of helicopters for air transport of...   \n",
            "3  A prospective clinical trial was conducted to ...   \n",
            "4  An unusual case of a misdirected nasogastric t...   \n",
            "\n",
            "                                              author  \n",
            "0                               Stults KR; Brown DD.  \n",
            "1                 Foulke GE; Albertson TE; Walby WF.  \n",
            "2  Shufflebarger C; Jehle D; Cottington E; Martin M.  \n",
            "3                                          Adler PM.  \n",
            "4                                   Gough D; Rust D.  \n"
          ]
        }
      ],
      "source": [
        "# Combine all DataFrames into a single DataFrame\n",
        "ohsumed_combined_df = pd.concat([df_ohsumed_87, df_ohsumed_88, df_ohsumed_89, df_ohsumed_90, df_ohsumed_91], ignore_index=True)\n",
        "\n",
        "# Print the combined DataFrame's shape (rows and columns). Should be: 348566\n",
        "print(f\"Combined DataFrame shape: {ohsumed_combined_df.shape}\")\n",
        "\n",
        "# Display the first few rows of the combined DataFrame\n",
        "print(ohsumed_combined_df.head())"
      ]
    },
    {
      "cell_type": "markdown",
      "id": "2b351c8c",
      "metadata": {},
      "source": [
        "to get the right relevance labels, we had to search for the \"judged.txt\". This was also quite hard and required an intensive online-search"
      ]
    },
    {
      "cell_type": "code",
      "execution_count": 8,
      "id": "1caf5d95e1d30c27",
      "metadata": {
        "colab": {
          "base_uri": "https://localhost:8080/",
          "height": 259
        },
        "id": "1caf5d95e1d30c27",
        "outputId": "20d0f022-1440-471e-b3cc-5c73942497e1"
      },
      "outputs": [
        {
          "name": "stdout",
          "output_type": "stream",
          "text": [
            "Loaded judged file with 16140 rows\n",
            "Unique documents: 14430\n",
            "New df size: 14430\n"
          ]
        },
        {
          "data": {
            "text/html": [
              "<div>\n",
              "<style scoped>\n",
              "    .dataframe tbody tr th:only-of-type {\n",
              "        vertical-align: middle;\n",
              "    }\n",
              "\n",
              "    .dataframe tbody tr th {\n",
              "        vertical-align: top;\n",
              "    }\n",
              "\n",
              "    .dataframe thead th {\n",
              "        text-align: right;\n",
              "    }\n",
              "</style>\n",
              "<table border=\"1\" class=\"dataframe\">\n",
              "  <thead>\n",
              "    <tr style=\"text-align: right;\">\n",
              "      <th></th>\n",
              "      <th>Query</th>\n",
              "      <th>Document-UI</th>\n",
              "      <th>Document-Index</th>\n",
              "      <th>Relevance1</th>\n",
              "      <th>Relevance2</th>\n",
              "      <th>Relevance3</th>\n",
              "    </tr>\n",
              "  </thead>\n",
              "  <tbody>\n",
              "    <tr>\n",
              "      <th>0</th>\n",
              "      <td>1</td>\n",
              "      <td>87097544</td>\n",
              "      <td>40626</td>\n",
              "      <td>d</td>\n",
              "      <td>NaN</td>\n",
              "      <td>d</td>\n",
              "    </tr>\n",
              "    <tr>\n",
              "      <th>1</th>\n",
              "      <td>1</td>\n",
              "      <td>87153566</td>\n",
              "      <td>11852</td>\n",
              "      <td>n</td>\n",
              "      <td>NaN</td>\n",
              "      <td>n</td>\n",
              "    </tr>\n",
              "    <tr>\n",
              "      <th>2</th>\n",
              "      <td>1</td>\n",
              "      <td>87157536</td>\n",
              "      <td>12693</td>\n",
              "      <td>d</td>\n",
              "      <td>NaN</td>\n",
              "      <td>NaN</td>\n",
              "    </tr>\n",
              "    <tr>\n",
              "      <th>3</th>\n",
              "      <td>1</td>\n",
              "      <td>87157537</td>\n",
              "      <td>12694</td>\n",
              "      <td>d</td>\n",
              "      <td>NaN</td>\n",
              "      <td>NaN</td>\n",
              "    </tr>\n",
              "    <tr>\n",
              "      <th>4</th>\n",
              "      <td>1</td>\n",
              "      <td>87184723</td>\n",
              "      <td>15450</td>\n",
              "      <td>n</td>\n",
              "      <td>NaN</td>\n",
              "      <td>NaN</td>\n",
              "    </tr>\n",
              "  </tbody>\n",
              "</table>\n",
              "</div>"
            ],
            "text/plain": [
              "   Query  Document-UI  Document-Index Relevance1 Relevance2 Relevance3\n",
              "0      1     87097544           40626          d        NaN          d\n",
              "1      1     87153566           11852          n        NaN          n\n",
              "2      1     87157536           12693          d        NaN        NaN\n",
              "3      1     87157537           12694          d        NaN        NaN\n",
              "4      1     87184723           15450          n        NaN        NaN"
            ]
          },
          "execution_count": 8,
          "metadata": {},
          "output_type": "execute_result"
        }
      ],
      "source": [
        "# Load the judged file (relevance labeles)\n",
        "judged_df = pd.read_csv(\"./data/judged.txt\", sep=\"\\t\", header=None,\n",
        "                        names=[\"Query\", \"Document-UI\", \"Document-Index\", \"Relevance1\", \"Relevance2\", \"Relevance3\"])\n",
        "\n",
        "print(f\"Loaded judged file with {len(judged_df)} rows\")\n",
        "judged_df.head()\n",
        "\n",
        "# Get unique documents\n",
        "unique_docs = judged_df['Document-UI'].nunique()\n",
        "judged_df = judged_df.drop_duplicates(subset=['Document-UI'], keep='first')\n",
        "\n",
        "# We keep only unique documents\n",
        "print(f\"Unique documents: {unique_docs}\")\n",
        "print(f\"New df size: {len(judged_df)}\")\n",
        "\n",
        "judged_df.head()"
      ]
    },
    {
      "cell_type": "code",
      "execution_count": 9,
      "id": "7fd89d53f138fcfc",
      "metadata": {
        "colab": {
          "base_uri": "https://localhost:8080/"
        },
        "id": "7fd89d53f138fcfc",
        "outputId": "36372636-9125-4288-c37c-235182aee504"
      },
      "outputs": [
        {
          "name": "stdout",
          "output_type": "stream",
          "text": [
            "Resulting DataFrame shape: (348566, 14)\n",
            "  sequential identifier  MEDLINE identifier  \\\n",
            "0                     1            87049087   \n",
            "1                     2            87049088   \n",
            "2                     3            87049089   \n",
            "3                     4            87049090   \n",
            "4                     5            87049092   \n",
            "\n",
            "                              source  \\\n",
            "0    Am J Emerg Med 8703; 4(6):491-5   \n",
            "1  Am J Emerg Med 8703; 4(6):496-500   \n",
            "2    Am J Emerg Med 8703; 4(6):501-3   \n",
            "3    Am J Emerg Med 8703; 4(6):504-6   \n",
            "4    Am J Emerg Med 8703; 4(6):511-3   \n",
            "\n",
            "                                          mesh_terms  \\\n",
            "0  Allied Health Personnel/*; Electric Countersho...   \n",
            "1  Antidepressive Agents, Tricyclic/*PO; Arrhythm...   \n",
            "2  Adult; Aircraft/*; Altitude/*; Blood Gas Monit...   \n",
            "3  Adolescence; Adult; Aged; Blood Glucose/*ME; D...   \n",
            "4  Aged; Aged, 80 and over; Case Report; Female; ...   \n",
            "\n",
            "                                               title  publication type  \\\n",
            "0  Refibrillation managed by EMT-Ds: incidence an...  JOURNAL ARTICLE.   \n",
            "1  Tricyclic antidepressant overdose: emergency d...  JOURNAL ARTICLE.   \n",
            "2  Transconjunctival oxygen monitoring as a predi...  JOURNAL ARTICLE.   \n",
            "3  Serum glucose changes after administration of ...  JOURNAL ARTICLE.   \n",
            "4  Nasogastric intubation: morbidity in an asympt...  JOURNAL ARTICLE.   \n",
            "\n",
            "                                            abstract  \\\n",
            "0  Some patients converted from ventricular fibri...   \n",
            "1  There is controversy regarding the appropriate...   \n",
            "2  As the use of helicopters for air transport of...   \n",
            "3  A prospective clinical trial was conducted to ...   \n",
            "4  An unusual case of a misdirected nasogastric t...   \n",
            "\n",
            "                                              author  Query  Document-Index  \\\n",
            "0                               Stults KR; Brown DD.    NaN             NaN   \n",
            "1                 Foulke GE; Albertson TE; Walby WF.    NaN             NaN   \n",
            "2  Shufflebarger C; Jehle D; Cottington E; Martin M.    NaN             NaN   \n",
            "3                                          Adler PM.    NaN             NaN   \n",
            "4                                   Gough D; Rust D.    NaN             NaN   \n",
            "\n",
            "  Relevance1 Relevance2 Relevance3  is_relevant_ind  \n",
            "0        NaN        NaN        NaN              NaN  \n",
            "1        NaN        NaN        NaN              NaN  \n",
            "2        NaN        NaN        NaN              NaN  \n",
            "3        NaN        NaN        NaN              NaN  \n",
            "4        NaN        NaN        NaN              NaN  \n",
            "Resulting DataFrame shape: (348566, 10)\n",
            "  sequential identifier  MEDLINE identifier  \\\n",
            "0                     1            87049087   \n",
            "1                     2            87049088   \n",
            "2                     3            87049089   \n",
            "3                     4            87049090   \n",
            "4                     5            87049092   \n",
            "\n",
            "                              source  \\\n",
            "0    Am J Emerg Med 8703; 4(6):491-5   \n",
            "1  Am J Emerg Med 8703; 4(6):496-500   \n",
            "2    Am J Emerg Med 8703; 4(6):501-3   \n",
            "3    Am J Emerg Med 8703; 4(6):504-6   \n",
            "4    Am J Emerg Med 8703; 4(6):511-3   \n",
            "\n",
            "                                          mesh_terms  \\\n",
            "0  Allied Health Personnel/*; Electric Countersho...   \n",
            "1  Antidepressive Agents, Tricyclic/*PO; Arrhythm...   \n",
            "2  Adult; Aircraft/*; Altitude/*; Blood Gas Monit...   \n",
            "3  Adolescence; Adult; Aged; Blood Glucose/*ME; D...   \n",
            "4  Aged; Aged, 80 and over; Case Report; Female; ...   \n",
            "\n",
            "                                               title  publication type  \\\n",
            "0  Refibrillation managed by EMT-Ds: incidence an...  JOURNAL ARTICLE.   \n",
            "1  Tricyclic antidepressant overdose: emergency d...  JOURNAL ARTICLE.   \n",
            "2  Transconjunctival oxygen monitoring as a predi...  JOURNAL ARTICLE.   \n",
            "3  Serum glucose changes after administration of ...  JOURNAL ARTICLE.   \n",
            "4  Nasogastric intubation: morbidity in an asympt...  JOURNAL ARTICLE.   \n",
            "\n",
            "                                            abstract  \\\n",
            "0  Some patients converted from ventricular fibri...   \n",
            "1  There is controversy regarding the appropriate...   \n",
            "2  As the use of helicopters for air transport of...   \n",
            "3  A prospective clinical trial was conducted to ...   \n",
            "4  An unusual case of a misdirected nasogastric t...   \n",
            "\n",
            "                                              author  is_relevant_ind  \\\n",
            "0                               Stults KR; Brown DD.              NaN   \n",
            "1                 Foulke GE; Albertson TE; Walby WF.              NaN   \n",
            "2  Shufflebarger C; Jehle D; Cottington E; Martin M.              NaN   \n",
            "3                                          Adler PM.              NaN   \n",
            "4                                   Gough D; Rust D.              NaN   \n",
            "\n",
            "   Relevance_total  \n",
            "0              NaN  \n",
            "1              NaN  \n",
            "2              NaN  \n",
            "3              NaN  \n",
            "4              NaN  \n"
          ]
        }
      ],
      "source": [
        "judged_df.rename(columns={\"Document-UI\": \"MEDLINE identifier\"}, inplace=True)\n",
        "\n",
        "# Converting key to string\n",
        "ohsumed_combined_df[\"MEDLINE identifier\"] = ohsumed_combined_df[\"MEDLINE identifier\"].astype(int)\n",
        "judged_df[\"MEDLINE identifier\"] = judged_df[\"MEDLINE identifier\"].astype(int)\n",
        "judged_df[\"is_relevant_ind\"] = 1\n",
        "\n",
        "# Perform the left join\n",
        "merged_df = ohsumed_combined_df.merge(judged_df, on=\"MEDLINE identifier\", how=\"left\")\n",
        "\n",
        "# Display the resulting DataFrame\n",
        "print(f\"Resulting DataFrame shape: {merged_df.shape}\")\n",
        "print(merged_df.head())\n",
        "\n",
        "# Create a new column Relevance_total based on the rules that can be kept showing relevance for all three relevance columns\n",
        "merged_df[\"Relevance_total\"] = np.where(\n",
        "    ~merged_df[\"Relevance1\"].isna(),  # If Relevance1 is not NaN, take it\n",
        "    merged_df[\"Relevance1\"],\n",
        "    np.where(\n",
        "        ~merged_df[\"Relevance2\"].isna(),  # Else if Relevance2 is not NaN, take it\n",
        "        merged_df[\"Relevance2\"],\n",
        "        merged_df[\"Relevance3\"]  # Else take Relevance3\n",
        "    )\n",
        ")\n",
        "merged_df.head(10000)\n",
        "\n",
        "# Drop the specified columns\n",
        "columns_to_drop = [\"Query\", \"Document-Index\", \"Relevance1\", \"Relevance2\", \"Relevance3\"]\n",
        "merged_df.drop(columns=columns_to_drop, inplace=True)\n",
        "# Mapping relevance labels to int\n",
        "relevance_mapping = {'n': 0, 'p': 1, 'd': 2}\n",
        "\n",
        "# Filling mising values in abstract so that BERT can be trained on strings\n",
        "merged_df[\"abstract\"] = merged_df[\"abstract\"].fillna(\"\")\n",
        "\n",
        "# Apply the mapping to the Relevance1 column\n",
        "merged_df[\"Relevance_total\"] = merged_df[\"Relevance_total\"].map(relevance_mapping)\n",
        "\n",
        "# Display the resulting DataFrame\n",
        "print(f\"Resulting DataFrame shape: {merged_df.shape}\")\n",
        "print(merged_df.head())\n",
        "\n",
        "#filtered_df = merged_df[merged_df[\"Relevance1\"].notna()]\n",
        "#\n",
        "## Display the filtered DataFrame\n",
        "#print(f\"Number of rows where Relevance1 is not NaN: {len(filtered_df)}\")\n",
        "#print(filtered_df.head())"
      ]
    },
    {
      "cell_type": "code",
      "execution_count": 10,
      "id": "8661ed6849b71fb0",
      "metadata": {
        "colab": {
          "base_uri": "https://localhost:8080/"
        },
        "id": "8661ed6849b71fb0",
        "outputId": "7ab2e3ec-6752-4f2a-d1f9-3b0cec544671"
      },
      "outputs": [
        {
          "name": "stdout",
          "output_type": "stream",
          "text": [
            "Number of rows where is_relevant_ind = 1: 14430\n"
          ]
        }
      ],
      "source": [
        "#Checking how many relevant documents are present in merged DF. Expectation: 16140\n",
        "count_is_relevant = merged_df[merged_df[\"is_relevant_ind\"] == 1].shape[0]\n",
        "print(f\"Number of rows where is_relevant_ind = 1: {count_is_relevant}\")"
      ]
    },
    {
      "cell_type": "markdown",
      "id": "28bf3be64eba304f",
      "metadata": {
        "id": "28bf3be64eba304f"
      },
      "source": [
        "Now, we have a merged dataframe, containing all document data and also the relevance labeling of the documents. Now we can proceed with splitting the data."
      ]
    },
    {
      "cell_type": "code",
      "execution_count": 11,
      "id": "initial_id",
      "metadata": {
        "colab": {
          "base_uri": "https://localhost:8080/"
        },
        "collapsed": true,
        "id": "initial_id",
        "outputId": "c60f3b7a-e1ba-4288-c45e-3190ec66a4e2"
      },
      "outputs": [
        {
          "name": "stdout",
          "output_type": "stream",
          "text": [
            "Test set size: 14430\n",
            "Training set size: 284015\n",
            "Validation set size: 50121\n"
          ]
        }
      ],
      "source": [
        "test = merged_df[merged_df[\"is_relevant_ind\"] == 1]\n",
        "remaining_rows = merged_df[merged_df[\"is_relevant_ind\"] != 1]\n",
        "training, validation = train_test_split(remaining_rows, test_size=0.15, random_state=42)\n",
        "\n",
        "print(f\"Test set size: {len(test)}\")\n",
        "print(f\"Training set size: {len(training)}\")\n",
        "print(f\"Validation set size: {len(validation)}\")"
      ]
    },
    {
      "cell_type": "markdown",
      "id": "d1384fb8e2299c55",
      "metadata": {
        "id": "d1384fb8e2299c55"
      },
      "source": [
        "Training LR"
      ]
    },
    {
      "cell_type": "code",
      "execution_count": 12,
      "id": "7295d700bce05d7c",
      "metadata": {
        "colab": {
          "base_uri": "https://localhost:8080/",
          "height": 732
        },
        "id": "7295d700bce05d7c",
        "outputId": "062f2659-29d1-4044-e0be-0e30fe433c5b"
      },
      "outputs": [
        {
          "name": "stderr",
          "output_type": "stream",
          "text": [
            "/var/folders/yq/7prx38690sv9q36q0t8x_4x00000gn/T/ipykernel_8476/4000273643.py:2: SettingWithCopyWarning: \n",
            "A value is trying to be set on a copy of a slice from a DataFrame.\n",
            "Try using .loc[row_indexer,col_indexer] = value instead\n",
            "\n",
            "See the caveats in the documentation: https://pandas.pydata.org/pandas-docs/stable/user_guide/indexing.html#returning-a-view-versus-a-copy\n",
            "  test.loc[:, 'title_abstract'] = test['title'] + ' ' + test['abstract']\n"
          ]
        },
        {
          "data": {
            "text/html": [
              "<div>\n",
              "<style scoped>\n",
              "    .dataframe tbody tr th:only-of-type {\n",
              "        vertical-align: middle;\n",
              "    }\n",
              "\n",
              "    .dataframe tbody tr th {\n",
              "        vertical-align: top;\n",
              "    }\n",
              "\n",
              "    .dataframe thead th {\n",
              "        text-align: right;\n",
              "    }\n",
              "</style>\n",
              "<table border=\"1\" class=\"dataframe\">\n",
              "  <thead>\n",
              "    <tr style=\"text-align: right;\">\n",
              "      <th></th>\n",
              "      <th>sequential identifier</th>\n",
              "      <th>MEDLINE identifier</th>\n",
              "      <th>source</th>\n",
              "      <th>mesh_terms</th>\n",
              "      <th>title</th>\n",
              "      <th>publication type</th>\n",
              "      <th>abstract</th>\n",
              "      <th>author</th>\n",
              "      <th>is_relevant_ind</th>\n",
              "      <th>Relevance_total</th>\n",
              "      <th>title_abstract</th>\n",
              "    </tr>\n",
              "  </thead>\n",
              "  <tbody>\n",
              "    <tr>\n",
              "      <th>33697</th>\n",
              "      <td>33698</td>\n",
              "      <td>87124329</td>\n",
              "      <td>Am Heart J 8705; 113(2 Pt 1):273-9</td>\n",
              "      <td>Aged; Comparative Study; Electrocardiography/*...</td>\n",
              "      <td>Non-Q wave myocardial infarction: recent chang...</td>\n",
              "      <td>JOURNAL ARTICLE.</td>\n",
              "      <td>A community-wide study of patients hospitalize...</td>\n",
              "      <td>Goldberg RJ; Gore JM; Alpert JS; Dalen JE.</td>\n",
              "      <td>NaN</td>\n",
              "      <td>NaN</td>\n",
              "      <td>Non-Q wave myocardial infarction: recent chang...</td>\n",
              "    </tr>\n",
              "    <tr>\n",
              "      <th>245340</th>\n",
              "      <td>245341</td>\n",
              "      <td>90357619</td>\n",
              "      <td>Transplant Proc 9011; 22(4):1885-6</td>\n",
              "      <td>Antibodies, Anti-Idiotypic/*IM; Antibodies, Mo...</td>\n",
              "      <td>IgM-anti-IgG antibody as cause of positive B-c...</td>\n",
              "      <td>JOURNAL ARTICLE.</td>\n",
              "      <td></td>\n",
              "      <td>Terness P; Berteli AJ; Steinitz M; Mytillineos...</td>\n",
              "      <td>NaN</td>\n",
              "      <td>NaN</td>\n",
              "      <td>IgM-anti-IgG antibody as cause of positive B-c...</td>\n",
              "    </tr>\n",
              "    <tr>\n",
              "      <th>306208</th>\n",
              "      <td>306209</td>\n",
              "      <td>91170056</td>\n",
              "      <td>J Appl Physiol 9106; 69(6):2091-6</td>\n",
              "      <td>Animal; Blood Pressure; Cardiac Output; Hemody...</td>\n",
              "      <td>Altered baroreflex function after tail suspens...</td>\n",
              "      <td>JOURNAL ARTICLE.</td>\n",
              "      <td>Experiments were performed on conscious chroni...</td>\n",
              "      <td>Brizzee BL; Walker BR.</td>\n",
              "      <td>NaN</td>\n",
              "      <td>NaN</td>\n",
              "      <td>Altered baroreflex function after tail suspens...</td>\n",
              "    </tr>\n",
              "    <tr>\n",
              "      <th>5057</th>\n",
              "      <td>5058</td>\n",
              "      <td>87097540</td>\n",
              "      <td>Am J Obstet Gynecol 8704; 156(1):52-6</td>\n",
              "      <td>Apgar Score; Cesarean Section/*; Delivery/*MT;...</td>\n",
              "      <td>Randomized management of the second nonvertex ...</td>\n",
              "      <td>JOURNAL ARTICLE.</td>\n",
              "      <td>Sixty twin deliveries after the thirty-fifth g...</td>\n",
              "      <td>Rabinovici J; Barkai G; Reichman B; Serr DM; M...</td>\n",
              "      <td>NaN</td>\n",
              "      <td>NaN</td>\n",
              "      <td>Randomized management of the second nonvertex ...</td>\n",
              "    </tr>\n",
              "    <tr>\n",
              "      <th>120427</th>\n",
              "      <td>120428</td>\n",
              "      <td>88110706</td>\n",
              "      <td>Chest 8805; 93(2):294-8</td>\n",
              "      <td>Adult; Aged; Arteries/*; Bloodletting/*; Carbo...</td>\n",
              "      <td>Single arterial puncture vs arterial cannula f...</td>\n",
              "      <td>JOURNAL ARTICLE.</td>\n",
              "      <td>In an attempt to find the least invasive, safe...</td>\n",
              "      <td>Frye M; DiBenedetto R; Lain D; Morgan K.</td>\n",
              "      <td>NaN</td>\n",
              "      <td>NaN</td>\n",
              "      <td>Single arterial puncture vs arterial cannula f...</td>\n",
              "    </tr>\n",
              "  </tbody>\n",
              "</table>\n",
              "</div>"
            ],
            "text/plain": [
              "       sequential identifier  MEDLINE identifier  \\\n",
              "33697                  33698            87124329   \n",
              "245340                245341            90357619   \n",
              "306208                306209            91170056   \n",
              "5057                    5058            87097540   \n",
              "120427                120428            88110706   \n",
              "\n",
              "                                       source  \\\n",
              "33697      Am Heart J 8705; 113(2 Pt 1):273-9   \n",
              "245340     Transplant Proc 9011; 22(4):1885-6   \n",
              "306208      J Appl Physiol 9106; 69(6):2091-6   \n",
              "5057    Am J Obstet Gynecol 8704; 156(1):52-6   \n",
              "120427                Chest 8805; 93(2):294-8   \n",
              "\n",
              "                                               mesh_terms  \\\n",
              "33697   Aged; Comparative Study; Electrocardiography/*...   \n",
              "245340  Antibodies, Anti-Idiotypic/*IM; Antibodies, Mo...   \n",
              "306208  Animal; Blood Pressure; Cardiac Output; Hemody...   \n",
              "5057    Apgar Score; Cesarean Section/*; Delivery/*MT;...   \n",
              "120427  Adult; Aged; Arteries/*; Bloodletting/*; Carbo...   \n",
              "\n",
              "                                                    title  publication type  \\\n",
              "33697   Non-Q wave myocardial infarction: recent chang...  JOURNAL ARTICLE.   \n",
              "245340  IgM-anti-IgG antibody as cause of positive B-c...  JOURNAL ARTICLE.   \n",
              "306208  Altered baroreflex function after tail suspens...  JOURNAL ARTICLE.   \n",
              "5057    Randomized management of the second nonvertex ...  JOURNAL ARTICLE.   \n",
              "120427  Single arterial puncture vs arterial cannula f...  JOURNAL ARTICLE.   \n",
              "\n",
              "                                                 abstract  \\\n",
              "33697   A community-wide study of patients hospitalize...   \n",
              "245340                                                      \n",
              "306208  Experiments were performed on conscious chroni...   \n",
              "5057    Sixty twin deliveries after the thirty-fifth g...   \n",
              "120427  In an attempt to find the least invasive, safe...   \n",
              "\n",
              "                                                   author  is_relevant_ind  \\\n",
              "33697          Goldberg RJ; Gore JM; Alpert JS; Dalen JE.              NaN   \n",
              "245340  Terness P; Berteli AJ; Steinitz M; Mytillineos...              NaN   \n",
              "306208                             Brizzee BL; Walker BR.              NaN   \n",
              "5057    Rabinovici J; Barkai G; Reichman B; Serr DM; M...              NaN   \n",
              "120427           Frye M; DiBenedetto R; Lain D; Morgan K.              NaN   \n",
              "\n",
              "        Relevance_total                                     title_abstract  \n",
              "33697               NaN  Non-Q wave myocardial infarction: recent chang...  \n",
              "245340              NaN  IgM-anti-IgG antibody as cause of positive B-c...  \n",
              "306208              NaN  Altered baroreflex function after tail suspens...  \n",
              "5057                NaN  Randomized management of the second nonvertex ...  \n",
              "120427              NaN  Single arterial puncture vs arterial cannula f...  "
            ]
          },
          "execution_count": 12,
          "metadata": {},
          "output_type": "execute_result"
        }
      ],
      "source": [
        "training.loc[:, 'title_abstract'] = training['title'] + ' ' + training['abstract']\n",
        "test.loc[:, 'title_abstract'] = test['title'] + ' ' + test['abstract']\n",
        "validation.loc[:, 'title_abstract'] = validation['title'] + ' ' + validation['abstract']\n",
        "training.head()\n",
        "test.head()\n",
        "validation.head()"
      ]
    },
    {
      "cell_type": "markdown",
      "id": "42b66a0a",
      "metadata": {},
      "source": [
        "to assign the right \"ground truth\" labels, we have to find the correct mesh terms and parse our files to find sensitive content. The Terms can be found in mtrees2019.bin"
      ]
    },
    {
      "cell_type": "code",
      "execution_count": 13,
      "id": "110b32793fef0266",
      "metadata": {
        "colab": {
          "base_uri": "https://localhost:8080/"
        },
        "id": "110b32793fef0266",
        "outputId": "df94ecc4-053e-468b-efbc-f1f5e851bdf7"
      },
      "outputs": [
        {
          "name": "stderr",
          "output_type": "stream",
          "text": [
            "/var/folders/yq/7prx38690sv9q36q0t8x_4x00000gn/T/ipykernel_8476/453884967.py:67: SettingWithCopyWarning: \n",
            "A value is trying to be set on a copy of a slice from a DataFrame.\n",
            "Try using .loc[row_indexer,col_indexer] = value instead\n",
            "\n",
            "See the caveats in the documentation: https://pandas.pydata.org/pandas-docs/stable/user_guide/indexing.html#returning-a-view-versus-a-copy\n",
            "  df.loc[:, \"processed_mesh_terms\"] = df[\"mesh_terms\"].apply(preprocess_mesh_terms)\n",
            "/var/folders/yq/7prx38690sv9q36q0t8x_4x00000gn/T/ipykernel_8476/453884967.py:68: SettingWithCopyWarning: \n",
            "A value is trying to be set on a copy of a slice from a DataFrame.\n",
            "Try using .loc[row_indexer,col_indexer] = value instead\n",
            "\n",
            "See the caveats in the documentation: https://pandas.pydata.org/pandas-docs/stable/user_guide/indexing.html#returning-a-view-versus-a-copy\n",
            "  df.loc[:, \"sensitive\"] = df[\"processed_mesh_terms\"].apply(is_sensitive_regex)\n",
            "/var/folders/yq/7prx38690sv9q36q0t8x_4x00000gn/T/ipykernel_8476/453884967.py:69: SettingWithCopyWarning: \n",
            "A value is trying to be set on a copy of a slice from a DataFrame.\n",
            "Try using .loc[row_indexer,col_indexer] = value instead\n",
            "\n",
            "See the caveats in the documentation: https://pandas.pydata.org/pandas-docs/stable/user_guide/indexing.html#returning-a-view-versus-a-copy\n",
            "  df.loc[:, \"label\"] = df[\"sensitive\"]\n"
          ]
        },
        {
          "name": "stdout",
          "output_type": "stream",
          "text": [
            "Full dataset: 8.1%\n",
            "Judged documents: 12.3%\n"
          ]
        },
        {
          "name": "stderr",
          "output_type": "stream",
          "text": [
            "/var/folders/yq/7prx38690sv9q36q0t8x_4x00000gn/T/ipykernel_8476/453884967.py:82: SettingWithCopyWarning: \n",
            "A value is trying to be set on a copy of a slice from a DataFrame\n",
            "\n",
            "See the caveats in the documentation: https://pandas.pydata.org/pandas-docs/stable/user_guide/indexing.html#returning-a-view-versus-a-copy\n",
            "  df.drop(columns=[\"sensitive\"], inplace=True)\n"
          ]
        }
      ],
      "source": [
        "import pandas as pd\n",
        "import re\n",
        "\n",
        "# Step 1: Parse the .bin file to extract sensitive MeSH terms\n",
        "def parse_mesh_bin(file_path, target_categories):\n",
        "    \"\"\"\n",
        "    Extract MeSH terms under specific categories from a .bin file.\n",
        "\n",
        "    Args:\n",
        "        file_path (str): Path to the .bin file.\n",
        "        target_categories (list): List of categories (e.g., [\"C12\", \"C13\"]).\n",
        "\n",
        "    Returns:\n",
        "        list: List of MeSH terms under the target categories.\n",
        "    \"\"\"\n",
        "    mesh_terms = []\n",
        "    with open(file_path, \"r\") as f:\n",
        "        for line in f:\n",
        "            # Split by ';' to separate terms and categories\n",
        "            parts = line.strip().split(\";\")\n",
        "            if len(parts) > 1:\n",
        "                term, category = parts[0].strip().lower(), parts[1].strip()\n",
        "                # Include terms under target categories\n",
        "                if any(category.startswith(target) for target in target_categories):\n",
        "                    mesh_terms.append(term)\n",
        "    return mesh_terms\n",
        "\n",
        "# Path to the .bin file\n",
        "file_path = \"data/mtrees2019.bin\"\n",
        "\n",
        "# Extract MeSH terms under C12 and C13\n",
        "sensitive_terms = parse_mesh_bin(file_path, [\"C12\", \"C13\"])\n",
        "\n",
        "# Step 2: Preprocessing function for the `mesh_terms` column\n",
        "def preprocess_mesh_terms(mesh_terms):\n",
        "    \"\"\"\n",
        "    Normalize and preprocess the MeSH terms in a document.\n",
        "\n",
        "    Args:\n",
        "        mesh_terms (str): The raw MeSH terms for a document.\n",
        "\n",
        "    Returns:\n",
        "        list: A list of cleaned MeSH terms.\n",
        "    \"\"\"\n",
        "    if isinstance(mesh_terms, str):\n",
        "        terms = mesh_terms.split(\";\")\n",
        "        return [re.sub(r\"/.*\", \"\", term).strip().lower() for term in terms]\n",
        "    return []\n",
        "\n",
        "# Step 3: Define the matching function using sensitive terms\n",
        "sensitive_pattern = re.compile(r\"\\b(\" + \"|\".join(re.escape(term) for term in sensitive_terms) + r\")\\b\", re.IGNORECASE)\n",
        "\n",
        "def is_sensitive_regex(terms):\n",
        "    \"\"\"\n",
        "    Check if any term in the document is sensitive based on MeSH terms.\n",
        "\n",
        "    Args:\n",
        "        terms (list of str): Processed MeSH terms.\n",
        "\n",
        "    Returns:\n",
        "        int: 1 if sensitive, 0 otherwise.\n",
        "    \"\"\"\n",
        "    return 1 if any(sensitive_pattern.search(term) for term in terms) else 0\n",
        "\n",
        "# Step 4: Apply preprocessing and matching to datasets\n",
        "for df in [training, validation, test]:\n",
        "    df.loc[:, \"processed_mesh_terms\"] = df[\"mesh_terms\"].apply(preprocess_mesh_terms)\n",
        "    df.loc[:, \"sensitive\"] = df[\"processed_mesh_terms\"].apply(is_sensitive_regex)\n",
        "    df.loc[:, \"label\"] = df[\"sensitive\"]\n",
        "\n",
        "# Step 5: Calculate sensitive document percentages\n",
        "datasets = [\n",
        "    (pd.concat([training, validation, test]), \"Full dataset\"),\n",
        "    (test, \"Judged documents\")\n",
        "]\n",
        "\n",
        "for df, name in datasets:\n",
        "    percentage = df[\"label\"].mean() * 100\n",
        "    print(f\"{name}: {percentage:.1f}%\")\n",
        "\n",
        "for df in [training, validation, test]:\n",
        "    df.drop(columns=[\"sensitive\"], inplace=True)"
      ]
    },
    {
      "cell_type": "code",
      "execution_count": 14,
      "id": "D9Mih2sw2Y2f",
      "metadata": {
        "colab": {
          "base_uri": "https://localhost:8080/"
        },
        "id": "D9Mih2sw2Y2f",
        "outputId": "440df70d-d0ac-4ad7-dd65-26544b829908"
      },
      "outputs": [
        {
          "name": "stdout",
          "output_type": "stream",
          "text": [
            "Sensitive documents in Training:\n",
            "                                               mesh_terms  \\\n",
            "54170   Adult; Cardiovascular Diseases/ET/*MO; Diabete...   \n",
            "3827    Antigens, Bacterial/*AN; Chlamydia trachomatis...   \n",
            "63723   Adult; Evaluation Studies; Female; Hospitals, ...   \n",
            "144305  Adult; Antineoplastic Agents, Combined/*TU; Ca...   \n",
            "160573  Acidosis, Renal Tubular/*CO/ET; Adult; Case Re...   \n",
            "\n",
            "                                     processed_mesh_terms  label  \n",
            "54170   [adult, cardiovascular diseases, diabetes mell...      1  \n",
            "3827    [antigens, bacterial, chlamydia trachomatis, c...      1  \n",
            "63723   [adult, evaluation studies, female, hospitals,...      1  \n",
            "144305  [adult, antineoplastic agents, combined, case ...      1  \n",
            "160573  [acidosis, renal tubular, adult, case report, ...      1  \n",
            "Total sensitive documents in Training: 22371\n",
            "Relative amount of sensitive documents in Training: 7.9%\n",
            "\n",
            "Sensitive documents in Validation:\n",
            "                                               mesh_terms  \\\n",
            "129141  Electrocoagulation/AE/*IS/MT; Female; Follow-U...   \n",
            "170093  Adult; Child; Child, Preschool; Human; Hypospa...   \n",
            "174428  Dimercaptosuccinic Acid/*DU; Human; Organometa...   \n",
            "229509  Cohort Studies; Female; Human; Hypertension/CO...   \n",
            "202123  Adolescence; Adult; Catecholamines/*BL; Child;...   \n",
            "\n",
            "                                     processed_mesh_terms  label  \n",
            "129141  [electrocoagulation, female, follow-up studies...      1  \n",
            "170093  [adult, child, child, preschool, human, hyposp...      1  \n",
            "174428  [dimercaptosuccinic acid, human, organometalli...      1  \n",
            "229509  [cohort studies, female, human, hypertension, ...      1  \n",
            "202123  [adolescence, adult, catecholamines, child, ch...      1  \n",
            "Total sensitive documents in Validation: 4007\n",
            "Relative amount of sensitive documents in Validation: 8.0%\n",
            "\n",
            "Sensitive documents in Test:\n",
            "                                             mesh_terms  \\\n",
            "153   Female; Human; Pregnancy; Propranolol/TU; Puer...   \n",
            "222   Actinomycosis/*CO; Adult; Case Report; Human; ...   \n",
            "625   Adult; Analysis of Variance; Bromocriptine/AD/...   \n",
            "1362  Adult; Case Report; Disseminated Intravascular...   \n",
            "1504  Adult; Aged; Biopsy; Blood Platelets/*ME; Bloo...   \n",
            "\n",
            "                                   processed_mesh_terms  label  \n",
            "153   [female, human, pregnancy, propranolol, puerpe...      1  \n",
            "222   [actinomycosis, adult, case report, human, kid...      1  \n",
            "625   [adult, analysis of variance, bromocriptine, c...      1  \n",
            "1362  [adult, case report, disseminated intravascula...      1  \n",
            "1504  [adult, aged, biopsy, blood platelets, blood p...      1  \n",
            "Total sensitive documents in Test: 1781\n",
            "Relative amount of sensitive documents in Test: 12.3%\n",
            "\n"
          ]
        }
      ],
      "source": [
        "for df, name in [(training, \"Training\"), (validation, \"Validation\"), (test, \"Test\")]:\n",
        "    sensitive_docs = df[df[\"label\"] == 1]\n",
        "    total_docs = len(df)\n",
        "    relative_percentage = (len(sensitive_docs) / total_docs) * 100\n",
        "\n",
        "    print(f\"Sensitive documents in {name}:\")\n",
        "    print(sensitive_docs[[\"mesh_terms\", \"processed_mesh_terms\", \"label\"]].head())\n",
        "    print(f\"Total sensitive documents in {name}: {len(sensitive_docs)}\")\n",
        "    print(f\"Relative amount of sensitive documents in {name}: {relative_percentage:.1f}%\\n\")"
      ]
    },
    {
      "cell_type": "markdown",
      "id": "52ttyIVWkR-y",
      "metadata": {
        "id": "52ttyIVWkR-y"
      },
      "source": [
        "Grid search 5 fold cross validation for the tokenization in logistic regression."
      ]
    },
    {
      "cell_type": "code",
      "execution_count": null,
      "id": "hCaHh-geWxLW",
      "metadata": {
        "colab": {
          "base_uri": "https://localhost:8080/"
        },
        "id": "hCaHh-geWxLW",
        "outputId": "c2e05dfe-4093-4402-b1fb-1e24a29c1b79"
      },
      "outputs": [],
      "source": [
        "from sklearn.feature_extraction.text import TfidfVectorizer\n",
        "import pandas as pd\n",
        "from sklearn.model_selection import GridSearchCV\n",
        "from sklearn.pipeline import Pipeline\n",
        "from sklearn.linear_model import LogisticRegression\n",
        "\n",
        "# Pipeline creation\n",
        "pipeline = Pipeline([\n",
        "    (\"vectorizer\", TfidfVectorizer(stop_words='english')),\n",
        "    (\"classifier\", LogisticRegression(max_iter=1000, random_state=42, class_weight='balanced'))\n",
        "])\n",
        "\n",
        "# Grid definition\n",
        "param_grid = {\n",
        "    \"vectorizer__max_features\": [1000, 3000, 5000, 10000, None],  # Maximum number of features\n",
        "    \"vectorizer__ngram_range\": [(1, 1), (1, 2)],  # Unigrams or unigrams + bigrams\n",
        "}\n",
        "\n",
        "# Grid Search with 5-cv\n",
        "grid_search = GridSearchCV(\n",
        "    pipeline,\n",
        "    param_grid=param_grid,\n",
        "    scoring=\"f1\",\n",
        "    cv=5,\n",
        "    n_jobs=-1\n",
        ")\n",
        "\n",
        "# Division in features and response\n",
        "X_train, y_train = training[\"title_abstract\"], training[\"label\"]\n",
        "X_test, y_test = test[\"title_abstract\"], test[\"label\"]\n",
        "X_validation, y_validation = validation[\"title_abstract\"], validation[\"label\"]\n",
        "\n",
        "# Training and search for best parameters\n",
        "grid_search.fit(X_train, y_train)\n",
        "best_model = grid_search.best_estimator_\n",
        "print(f\"Best tokenization parameters: {grid_search.best_params_}\")"
      ]
    },
    {
      "cell_type": "markdown",
      "id": "7a885IW0lPDO",
      "metadata": {
        "id": "7a885IW0lPDO"
      },
      "source": [
        "Logistic regression without setting the threeshold"
      ]
    },
    {
      "cell_type": "code",
      "execution_count": 14,
      "id": "WGm5QrfVlGb9",
      "metadata": {
        "colab": {
          "base_uri": "https://localhost:8080/",
          "height": 653
        },
        "id": "WGm5QrfVlGb9",
        "outputId": "b7c0046e-2a70-4791-c02a-fdb42bcfab64"
      },
      "outputs": [
        {
          "ename": "KeyboardInterrupt",
          "evalue": "",
          "output_type": "error",
          "traceback": [
            "\u001b[1;31m---------------------------------------------------------------------------\u001b[0m",
            "\u001b[1;31mKeyboardInterrupt\u001b[0m                         Traceback (most recent call last)",
            "Cell \u001b[1;32mIn[14], line 12\u001b[0m\n\u001b[0;32m      7\u001b[0m vectorizer \u001b[38;5;241m=\u001b[39m TfidfVectorizer(\n\u001b[0;32m      8\u001b[0m     stop_words\u001b[38;5;241m=\u001b[39m\u001b[38;5;124m'\u001b[39m\u001b[38;5;124menglish\u001b[39m\u001b[38;5;124m'\u001b[39m,  max_features\u001b[38;5;241m=\u001b[39m\u001b[38;5;28mlist\u001b[39m(grid_search\u001b[38;5;241m.\u001b[39mbest_params_\u001b[38;5;241m.\u001b[39mvalues())[\u001b[38;5;241m0\u001b[39m], ngram_range\u001b[38;5;241m=\u001b[39m\u001b[38;5;28mlist\u001b[39m(grid_search\u001b[38;5;241m.\u001b[39mbest_params_\u001b[38;5;241m.\u001b[39mvalues())[\u001b[38;5;241m1\u001b[39m]\n\u001b[0;32m      9\u001b[0m )\n\u001b[0;32m     11\u001b[0m \u001b[38;5;66;03m# Applying vectorization to dataset\u001b[39;00m\n\u001b[1;32m---> 12\u001b[0m X_train \u001b[38;5;241m=\u001b[39m \u001b[43mvectorizer\u001b[49m\u001b[38;5;241;43m.\u001b[39;49m\u001b[43mfit_transform\u001b[49m\u001b[43m(\u001b[49m\u001b[43mX_train\u001b[49m\u001b[43m)\u001b[49m\n\u001b[0;32m     13\u001b[0m X_test \u001b[38;5;241m=\u001b[39m vectorizer\u001b[38;5;241m.\u001b[39mtransform(X_test)\n\u001b[0;32m     14\u001b[0m X_validation \u001b[38;5;241m=\u001b[39m vectorizer\u001b[38;5;241m.\u001b[39mtransform(X_validation)\n",
            "File \u001b[1;32m~\\AppData\\Roaming\\Python\\Python312\\site-packages\\sklearn\\feature_extraction\\text.py:2104\u001b[0m, in \u001b[0;36mTfidfVectorizer.fit_transform\u001b[1;34m(self, raw_documents, y)\u001b[0m\n\u001b[0;32m   2097\u001b[0m \u001b[38;5;28mself\u001b[39m\u001b[38;5;241m.\u001b[39m_check_params()\n\u001b[0;32m   2098\u001b[0m \u001b[38;5;28mself\u001b[39m\u001b[38;5;241m.\u001b[39m_tfidf \u001b[38;5;241m=\u001b[39m TfidfTransformer(\n\u001b[0;32m   2099\u001b[0m     norm\u001b[38;5;241m=\u001b[39m\u001b[38;5;28mself\u001b[39m\u001b[38;5;241m.\u001b[39mnorm,\n\u001b[0;32m   2100\u001b[0m     use_idf\u001b[38;5;241m=\u001b[39m\u001b[38;5;28mself\u001b[39m\u001b[38;5;241m.\u001b[39muse_idf,\n\u001b[0;32m   2101\u001b[0m     smooth_idf\u001b[38;5;241m=\u001b[39m\u001b[38;5;28mself\u001b[39m\u001b[38;5;241m.\u001b[39msmooth_idf,\n\u001b[0;32m   2102\u001b[0m     sublinear_tf\u001b[38;5;241m=\u001b[39m\u001b[38;5;28mself\u001b[39m\u001b[38;5;241m.\u001b[39msublinear_tf,\n\u001b[0;32m   2103\u001b[0m )\n\u001b[1;32m-> 2104\u001b[0m X \u001b[38;5;241m=\u001b[39m \u001b[38;5;28;43msuper\u001b[39;49m\u001b[43m(\u001b[49m\u001b[43m)\u001b[49m\u001b[38;5;241;43m.\u001b[39;49m\u001b[43mfit_transform\u001b[49m\u001b[43m(\u001b[49m\u001b[43mraw_documents\u001b[49m\u001b[43m)\u001b[49m\n\u001b[0;32m   2105\u001b[0m \u001b[38;5;28mself\u001b[39m\u001b[38;5;241m.\u001b[39m_tfidf\u001b[38;5;241m.\u001b[39mfit(X)\n\u001b[0;32m   2106\u001b[0m \u001b[38;5;66;03m# X is already a transformed view of raw_documents so\u001b[39;00m\n\u001b[0;32m   2107\u001b[0m \u001b[38;5;66;03m# we set copy to False\u001b[39;00m\n",
            "File \u001b[1;32m~\\AppData\\Roaming\\Python\\Python312\\site-packages\\sklearn\\base.py:1389\u001b[0m, in \u001b[0;36m_fit_context.<locals>.decorator.<locals>.wrapper\u001b[1;34m(estimator, *args, **kwargs)\u001b[0m\n\u001b[0;32m   1382\u001b[0m     estimator\u001b[38;5;241m.\u001b[39m_validate_params()\n\u001b[0;32m   1384\u001b[0m \u001b[38;5;28;01mwith\u001b[39;00m config_context(\n\u001b[0;32m   1385\u001b[0m     skip_parameter_validation\u001b[38;5;241m=\u001b[39m(\n\u001b[0;32m   1386\u001b[0m         prefer_skip_nested_validation \u001b[38;5;129;01mor\u001b[39;00m global_skip_validation\n\u001b[0;32m   1387\u001b[0m     )\n\u001b[0;32m   1388\u001b[0m ):\n\u001b[1;32m-> 1389\u001b[0m     \u001b[38;5;28;01mreturn\u001b[39;00m \u001b[43mfit_method\u001b[49m\u001b[43m(\u001b[49m\u001b[43mestimator\u001b[49m\u001b[43m,\u001b[49m\u001b[43m \u001b[49m\u001b[38;5;241;43m*\u001b[39;49m\u001b[43margs\u001b[49m\u001b[43m,\u001b[49m\u001b[43m \u001b[49m\u001b[38;5;241;43m*\u001b[39;49m\u001b[38;5;241;43m*\u001b[39;49m\u001b[43mkwargs\u001b[49m\u001b[43m)\u001b[49m\n",
            "File \u001b[1;32m~\\AppData\\Roaming\\Python\\Python312\\site-packages\\sklearn\\feature_extraction\\text.py:1376\u001b[0m, in \u001b[0;36mCountVectorizer.fit_transform\u001b[1;34m(self, raw_documents, y)\u001b[0m\n\u001b[0;32m   1368\u001b[0m             warnings\u001b[38;5;241m.\u001b[39mwarn(\n\u001b[0;32m   1369\u001b[0m                 \u001b[38;5;124m\"\u001b[39m\u001b[38;5;124mUpper case characters found in\u001b[39m\u001b[38;5;124m\"\u001b[39m\n\u001b[0;32m   1370\u001b[0m                 \u001b[38;5;124m\"\u001b[39m\u001b[38;5;124m vocabulary while \u001b[39m\u001b[38;5;124m'\u001b[39m\u001b[38;5;124mlowercase\u001b[39m\u001b[38;5;124m'\u001b[39m\u001b[38;5;124m\"\u001b[39m\n\u001b[0;32m   1371\u001b[0m                 \u001b[38;5;124m\"\u001b[39m\u001b[38;5;124m is True. These entries will not\u001b[39m\u001b[38;5;124m\"\u001b[39m\n\u001b[0;32m   1372\u001b[0m                 \u001b[38;5;124m\"\u001b[39m\u001b[38;5;124m be matched with any documents\u001b[39m\u001b[38;5;124m\"\u001b[39m\n\u001b[0;32m   1373\u001b[0m             )\n\u001b[0;32m   1374\u001b[0m             \u001b[38;5;28;01mbreak\u001b[39;00m\n\u001b[1;32m-> 1376\u001b[0m vocabulary, X \u001b[38;5;241m=\u001b[39m \u001b[38;5;28;43mself\u001b[39;49m\u001b[38;5;241;43m.\u001b[39;49m\u001b[43m_count_vocab\u001b[49m\u001b[43m(\u001b[49m\u001b[43mraw_documents\u001b[49m\u001b[43m,\u001b[49m\u001b[43m \u001b[49m\u001b[38;5;28;43mself\u001b[39;49m\u001b[38;5;241;43m.\u001b[39;49m\u001b[43mfixed_vocabulary_\u001b[49m\u001b[43m)\u001b[49m\n\u001b[0;32m   1378\u001b[0m \u001b[38;5;28;01mif\u001b[39;00m \u001b[38;5;28mself\u001b[39m\u001b[38;5;241m.\u001b[39mbinary:\n\u001b[0;32m   1379\u001b[0m     X\u001b[38;5;241m.\u001b[39mdata\u001b[38;5;241m.\u001b[39mfill(\u001b[38;5;241m1\u001b[39m)\n",
            "File \u001b[1;32m~\\AppData\\Roaming\\Python\\Python312\\site-packages\\sklearn\\feature_extraction\\text.py\u001b[0m, in \u001b[0;36mCountVectorizer._count_vocab\u001b[1;34m(self, raw_documents, fixed_vocab)\u001b[0m\n\u001b[0;32m      0\u001b[0m <Error retrieving source code with stack_data see ipython/ipython#13598>\n",
            "\u001b[1;31mKeyboardInterrupt\u001b[0m: "
          ]
        }
      ],
      "source": [
        "from sklearn.metrics import fbeta_score\n",
        "from sklearn.metrics import confusion_matrix\n",
        "import seaborn as sns\n",
        "import matplotlib.pyplot as plt\n",
        "\n",
        "# Creation of the optimal vectorizer\n",
        "vectorizer = TfidfVectorizer(\n",
        "    stop_words='english',  max_features=list(grid_search.best_params_.values())[0], ngram_range=list(grid_search.best_params_.values())[1]\n",
        ")\n",
        "\n",
        "# Applying vectorization to dataset\n",
        "X_train = vectorizer.fit_transform(X_train)\n",
        "X_test = vectorizer.transform(X_test)\n",
        "X_validation = vectorizer.transform(X_validation)\n",
        "\n",
        "# Training the model with the best parameters\n",
        "model = LogisticRegression(max_iter=1000, random_state=42, class_weight='balanced')\n",
        "model.fit(X_train, y_train)\n",
        "\n",
        "# Predictions and evaluation\n",
        "y_pred = model.predict(X_test)\n",
        "\n",
        "# Confusion Matrix\n",
        "cm = confusion_matrix(y_test, y_pred)\n",
        "plt.figure(figsize=(8, 6))\n",
        "sns.heatmap(cm, annot=True, fmt=\"d\", cmap=\"Blues\",\n",
        "            xticklabels=['Not Sensitive', 'Sensitive'],\n",
        "            yticklabels=['Not Sensitive', 'Sensitive'])\n",
        "plt.xlabel(\"Predicted\")\n",
        "plt.ylabel(\"Actual\")\n",
        "plt.title(\"Confusion Matrix\")\n",
        "plt.show()\n",
        "\n",
        "accuracy = accuracy_score(y_test, y_pred)\n",
        "precision = precision_score(y_test, y_pred)\n",
        "recall = recall_score(y_test, y_pred)\n",
        "f1 = f1_score(y_test, y_pred)\n",
        "f2 = fbeta_score(y_test, y_pred, beta=2)\n",
        "\n",
        "\n",
        "print(f\"Accuracy: {accuracy:.4f}\")\n",
        "print(f\"Precision: {precision:.4f}\")\n",
        "print(f\"Recall: {recall:.4f}\") # sensitivity\n",
        "print(f\"F1-score: {f1:.4f}\")\n",
        "print(f\"F2-score: {f2:.4f}\")"
      ]
    },
    {
      "cell_type": "markdown",
      "id": "e32804bf6341b85c",
      "metadata": {
        "id": "e32804bf6341b85c"
      },
      "source": [
        "Optimizing the threshold"
      ]
    },
    {
      "cell_type": "code",
      "execution_count": 25,
      "id": "ac2832a16280a76b",
      "metadata": {
        "colab": {
          "base_uri": "https://localhost:8080/"
        },
        "id": "ac2832a16280a76b",
        "outputId": "5802425d-fc1d-4de6-c90e-f3f63fd448ac"
      },
      "outputs": [
        {
          "name": "stdout",
          "output_type": "stream",
          "text": [
            "Best F1: 0.7382 at threshold 0.66\n"
          ]
        }
      ],
      "source": [
        "# Grid search\n",
        "thresholds = np.arange(0, 1, 0.01)\n",
        "best_f1, best_threshold = 0, 0\n",
        "for t in thresholds:\n",
        "    y_pred_threshold = (model.predict_proba(X_validation)[:, 1] >= t).astype(int)\n",
        "    score = f1_score(y_validation, y_pred_threshold)\n",
        "    if score > best_f1:\n",
        "        best_f1, best_threshold = score, t\n",
        "\n",
        "print(f\"Best F1: {best_f1:.4f} at threshold {best_threshold}\")"
      ]
    },
    {
      "cell_type": "markdown",
      "id": "892c48eb4e3d2c9e",
      "metadata": {
        "id": "892c48eb4e3d2c9e"
      },
      "source": [
        "Applying the best threshold to the original model"
      ]
    },
    {
      "cell_type": "code",
      "execution_count": 26,
      "id": "Y2TRwIcxwulh",
      "metadata": {
        "colab": {
          "base_uri": "https://localhost:8080/",
          "height": 653
        },
        "id": "Y2TRwIcxwulh",
        "outputId": "79a4036d-9159-4450-d20e-41267bd3dc8a"
      },
      "outputs": [
        {
          "data": {
            "image/png": "[encoded data removed]",
            "text/plain": [
              "<Figure size 800x600 with 2 Axes>"
            ]
          },
          "metadata": {},
          "output_type": "display_data"
        },
        {
          "name": "stdout",
          "output_type": "stream",
          "text": [
            "Accuracy: 0.9443\n",
            "Precision: 0.7662\n",
            "Recall: 0.7894\n",
            "F1-score: 0.7777\n",
            "F2-score: 0.7847\n"
          ]
        }
      ],
      "source": [
        "# New threshold\n",
        "y_pred_test = (model.predict_proba(X_test)[:, 1] >= best_threshold).astype(int)\n",
        "\n",
        "# Evaluation\n",
        "cm2 = confusion_matrix(y_test, y_pred_test)\n",
        "plt.figure(figsize=(8, 6))\n",
        "sns.heatmap(cm2, annot=True, fmt=\"d\", cmap=\"Blues\",\n",
        "            xticklabels=['Not Sensitive', 'Sensitive'],\n",
        "            yticklabels=['Not Sensitive', 'Sensitive'])\n",
        "plt.xlabel(\"Predicted\")\n",
        "plt.ylabel(\"Actual\")\n",
        "plt.title(\"Confusion Matrix\")\n",
        "plt.show()\n",
        "\n",
        "accuracy_2 = accuracy_score(y_test, y_pred_test)\n",
        "precision_2 = precision_score(y_test, y_pred_test)\n",
        "recall_2 = recall_score(y_test, y_pred_test)\n",
        "f1_2 = f1_score(y_test, y_pred_test)\n",
        "f2_2 = fbeta_score(y_test, y_pred_test, beta=2)\n",
        "\n",
        "\n",
        "print(f\"Accuracy: {accuracy_2:.4f}\")\n",
        "print(f\"Precision: {precision_2:.4f}\")\n",
        "print(f\"Recall: {recall_2:.4f}\") # sensitivity\n",
        "print(f\"F1-score: {f1_2:.4f}\")\n",
        "print(f\"F2-score: {f2_2:.4f}\")"
      ]
    },
    {
      "cell_type": "markdown",
      "id": "217ec5a9",
      "metadata": {},
      "source": [
        "# Statistical Significance"
      ]
    },
    {
      "cell_type": "markdown",
      "id": "7da4a870",
      "metadata": {},
      "source": [
        "- results from the paper: \n",
        "- Accuracy: 94.01\n",
        "- Precision: 76.72\n",
        "- Recall: 73.29\n",
        "- F1: 74.96\n",
        "- F2: 73.95\n",
        "\n"
      ]
    },
    {
      "cell_type": "markdown",
      "id": "b9edc028",
      "metadata": {},
      "source": [
        "- our results:\n",
        "- Accuracy: 94.43\n",
        "- Precision: 76.62\n",
        "- Recall: 78.94\n",
        "- F1: 77.77\n",
        "- F2: 78.47"
      ]
    },
    {
      "cell_type": "code",
      "execution_count": 28,
      "id": "e0ed9862",
      "metadata": {},
      "outputs": [
        {
          "name": "stdout",
          "output_type": "stream",
          "text": [
            "🔹 Best Global Threshold: 0.63 (Optimized on Full Training Set)\n",
            "Mean Accuracy: 0.9571 ± 0.0012\n",
            "Mean Precision: 0.7138 ± 0.0078\n",
            "Mean Recall: 0.7597 ± 0.0117\n",
            "Mean F1-score: 0.7360 ± 0.0081\n",
            "Mean F2-score: 0.7501 ± 0.0099\n"
          ]
        }
      ],
      "source": [
        "import numpy as np\n",
        "from sklearn.model_selection import StratifiedKFold\n",
        "from sklearn.linear_model import LogisticRegression\n",
        "from sklearn.feature_extraction.text import TfidfVectorizer\n",
        "from sklearn.metrics import accuracy_score, precision_score, recall_score, f1_score, fbeta_score\n",
        "\n",
        "# Convert labels to NumPy array\n",
        "y_train_array = np.array(y_train)\n",
        "\n",
        "# Create vectorizer\n",
        "vectorizer = TfidfVectorizer(\n",
        "    stop_words=\"english\",\n",
        "    max_features=list(grid_search.best_params_.values())[0],\n",
        "    ngram_range=list(grid_search.best_params_.values())[1]\n",
        ")\n",
        "\n",
        "# Vectorize dataset\n",
        "X_train_vec = vectorizer.fit_transform(X_train)\n",
        "X_test_vec = vectorizer.transform(X_test)\n",
        "\n",
        "# **Step 1: Train Model on Full Training Set**\n",
        "model = LogisticRegression(max_iter=1000, random_state=42, class_weight=\"balanced\")\n",
        "model.fit(X_train_vec, y_train_array)\n",
        "\n",
        "# **Step 2: Find the Best Threshold Globally**\n",
        "y_train_probs = model.predict_proba(X_train_vec)[:, 1]  # Get probabilities for the full training set\n",
        "\n",
        "# Search for the best threshold using the entire training set\n",
        "thresholds = np.arange(0, 1, 0.01)\n",
        "best_f1, best_threshold = 0, 0\n",
        "for t in thresholds:\n",
        "    y_pred_threshold = (y_train_probs >= t).astype(int)\n",
        "    score = f1_score(y_train_array, y_pred_threshold)\n",
        "    if score > best_f1:\n",
        "        best_f1, best_threshold = score, t\n",
        "\n",
        "print(f\"🔹 Best Global Threshold: {best_threshold:.2f} (Optimized on Full Training Set)\")\n",
        "\n",
        "# **Step 3: Apply This One Threshold in Cross-Validation**\n",
        "cv = StratifiedKFold(n_splits=10, shuffle=True, random_state=42)\n",
        "\n",
        "# Store performance metrics\n",
        "accuracy_scores, precision_scores, recall_scores, f1_scores, f2_scores = [], [], [], [], []\n",
        "\n",
        "for train_idx, val_idx in cv.split(X_train_vec, y_train_array):\n",
        "    X_train_fold, X_val_fold = X_train_vec[train_idx], X_train_vec[val_idx]\n",
        "    y_train_fold, y_val_fold = y_train_array[train_idx], y_train_array[val_idx]\n",
        "\n",
        "    # **Train model in each fold**\n",
        "    model.fit(X_train_fold, y_train_fold)\n",
        "\n",
        "    # Get predicted probabilities\n",
        "    y_val_probs = model.predict_proba(X_val_fold)[:, 1]\n",
        "\n",
        "    # **Apply the globally optimized threshold**\n",
        "    y_pred_final = (y_val_probs >= best_threshold).astype(int)\n",
        "\n",
        "    # Compute performance metrics\n",
        "    accuracy_scores.append(accuracy_score(y_val_fold, y_pred_final))\n",
        "    precision_scores.append(precision_score(y_val_fold, y_pred_final))\n",
        "    recall_scores.append(recall_score(y_val_fold, y_pred_final))\n",
        "    f1_scores.append(f1_score(y_val_fold, y_pred_final))\n",
        "    f2_scores.append(fbeta_score(y_val_fold, y_pred_final, beta=2))\n",
        "\n",
        "# Convert results to numpy arrays\n",
        "accuracy_scores = np.array(accuracy_scores)\n",
        "precision_scores = np.array(precision_scores)\n",
        "recall_scores = np.array(recall_scores)\n",
        "f1_scores = np.array(f1_scores)\n",
        "f2_scores = np.array(f2_scores)\n",
        "\n",
        "# Print mean and standard deviation\n",
        "print(f\"Mean Accuracy: {accuracy_scores.mean():.4f} ± {accuracy_scores.std():.4f}\")\n",
        "print(f\"Mean Precision: {precision_scores.mean():.4f} ± {precision_scores.std():.4f}\")\n",
        "print(f\"Mean Recall: {recall_scores.mean():.4f} ± {recall_scores.std():.4f}\")\n",
        "print(f\"Mean F1-score: {f1_scores.mean():.4f} ± {f1_scores.std():.4f}\")\n",
        "print(f\"Mean F2-score: {f2_scores.mean():.4f} ± {f2_scores.std():.4f}\")\n"
      ]
    },
    {
      "cell_type": "code",
      "execution_count": 40,
      "id": "ebc1c6a2",
      "metadata": {},
      "outputs": [
        {
          "name": "stdout",
          "output_type": "stream",
          "text": [
            "\n",
            "**Confidence Interval Analysis**\n",
            "accuracy:\n",
            "  Our model's 95% CI: [0.9560, 0.9582]\n",
            "  Paper's reported mean: 0.9401\n",
            "  🔴 Statistically significant difference (paper's mean is outside our CI)\n",
            "\n",
            "precision:\n",
            "  Our model's 95% CI: [0.7070, 0.7206]\n",
            "  Paper's reported mean: 0.7672\n",
            "  🔴 Statistically significant difference (paper's mean is outside our CI)\n",
            "\n",
            "recall:\n",
            "  Our model's 95% CI: [0.7494, 0.7700]\n",
            "  Paper's reported mean: 0.7329\n",
            "  🔴 Statistically significant difference (paper's mean is outside our CI)\n",
            "\n",
            "f1_score:\n",
            "  Our model's 95% CI: [0.7289, 0.7431]\n",
            "  Paper's reported mean: 0.7496\n",
            "  🔴 Statistically significant difference (paper's mean is outside our CI)\n",
            "\n",
            "f2_score:\n",
            "  Our model's 95% CI: [0.7414, 0.7588]\n",
            "  Paper's reported mean: 0.7395\n",
            "  🔴 Statistically significant difference (paper's mean is outside our CI)\n",
            "\n"
          ]
        }
      ],
      "source": [
        "from scipy.stats import norm\n",
        "import numpy as np\n",
        "\n",
        "# Confidence level (95%)\n",
        "confidence_level = 0.95\n",
        "z_score = norm.ppf((1 + confidence_level) / 2)  # 1.96 for 95% CI\n",
        "\n",
        "# Number of folds\n",
        "n_folds = 5\n",
        "\n",
        "# Paper-reported means (replace with actual values)\n",
        "paper_means = {\n",
        "    \"accuracy\": 0.9401,\n",
        "    \"precision\": 0.7672,\n",
        "    \"recall\": 0.7329,\n",
        "    \"f1_score\": 0.7496,\n",
        "    \"f2_score\": 0.7395\n",
        "}\n",
        "\n",
        "# Our cross-validation results\n",
        "our_means = {\n",
        "    \"accuracy\": 0.9571,\n",
        "    \"precision\": 0.7138 ,\n",
        "    \"recall\": 0.7597,\n",
        "    \"f1_score\": 0.7360,\n",
        "    \"f2_score\": 0.7501\n",
        "}\n",
        "\n",
        "our_std_devs = {\n",
        "    \"accuracy\": 0.0012,\n",
        "    \"precision\": 0.0078,\n",
        "    \"recall\": 0.0117,\n",
        "    \"f1_score\": 0.0081,\n",
        "    \"f2_score\": 0.0099\n",
        "}\n",
        "\n",
        "# Function to compute 95% confidence interval\n",
        "def compute_ci(mean, std, n, z=z_score):\n",
        "    margin_of_error = z * (std / np.sqrt(n))\n",
        "    return mean - margin_of_error, mean + margin_of_error\n",
        "\n",
        "# Compute and compare confidence intervals\n",
        "print(\"\\n**Confidence Interval Analysis**\")\n",
        "for metric in paper_means.keys():\n",
        "    our_lower, our_upper = compute_ci(our_means[metric], our_std_devs[metric], n_folds)\n",
        "    paper_value = paper_means[metric]\n",
        "\n",
        "    print(f\"{metric}:\")\n",
        "    print(f\"  Our model's 95% CI: [{our_lower:.4f}, {our_upper:.4f}]\")\n",
        "    print(f\"  Paper's reported mean: {paper_value:.4f}\")\n",
        "\n",
        "    # Check if the paper's mean falls within our confidence interval\n",
        "    if our_lower <= paper_value <= our_upper:\n",
        "        print(\"  🟢 No significant difference (paper's mean is within our CI)\\n\")\n",
        "    else:\n",
        "        print(\"  🔴 Statistically significant difference (paper's mean is outside our CI)\\n\")\n"
      ]
    }
  ],
  "metadata": {
    "colab": {
      "provenance": []
    },
    "kernelspec": {
      "display_name": ".venv",
      "language": "python",
      "name": "python3"
    },
    "language_info": {
      "codemirror_mode": {
        "name": "ipython",
        "version": 3
      },
      "file_extension": ".py",
      "mimetype": "text/x-python",
      "name": "python",
      "nbconvert_exporter": "python",
      "pygments_lexer": "ipython3",
      "version": "3.10.15"
    }
  },
  "nbformat": 4,
  "nbformat_minor": 5
}
